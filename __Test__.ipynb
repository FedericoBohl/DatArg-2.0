{
 "cells": [
  {
   "cell_type": "code",
   "execution_count": 9,
   "metadata": {},
   "outputs": [],
   "source": [
    "import pandas as pd\n",
    "import re\n",
    "import requests\n",
    "import certifi\n",
    "from bs4 import BeautifulSoup"
   ]
  },
  {
   "cell_type": "code",
   "execution_count": 10,
   "metadata": {},
   "outputs": [
    {
     "name": "stderr",
     "output_type": "stream",
     "text": [
      "c:\\Users\\feder\\AppData\\Local\\Programs\\Python\\Python311\\Lib\\site-packages\\urllib3\\connectionpool.py:1045: InsecureRequestWarning: Unverified HTTPS request is being made to host 'open.bymadata.com.ar'. Adding certificate verification is strongly advised. See: https://urllib3.readthedocs.io/en/1.26.x/advanced-usage.html#ssl-warnings\n",
      "  warnings.warn(\n"
     ]
    },
    {
     "data": {
      "text/plain": [
       "<!DOCTYPE html>\n",
       "\n",
       "<html>\n",
       "<head>\n",
       "<meta charset=\"utf-8\"/>\n",
       "<title>BYMADATA - Cotizaciones en Tiempo Real | BYMA Bolsas y Mercados Argentinos</title>\n",
       "<meta content=\"BYMA te acerca la informaciÃ³n mÃ¡s relevante del Mercado de Capitales argentino en un solo lugar.\" name=\"description\"/>\n",
       "<meta content=\"x9zbmyu0rbwsxvklczmdu6ujdbq5s8\" name=\"facebook-domain-verification\"/>\n",
       "<!-- base url -->\n",
       "<base href=\"/\"/>\n",
       "<meta content=\"width=device-width, initial-scale=1.0, maximum-scale=1.0, user-scalable=no\" name=\"viewport\"/>\n",
       "<link href=\"https://fonts.googleapis.com/icon?family=Material+Icons\" rel=\"stylesheet\"/>\n",
       "<!-- #CSS Links -->\n",
       "<!-- Basic Styles -->\n",
       "<link href=\"assets/css/bootstrap.min.css\" media=\"screen\" rel=\"stylesheet\" type=\"text/css\"/>\n",
       "<link href=\"assets/css/font-awesome.min.css\" media=\"screen\" rel=\"stylesheet\" type=\"text/css\"/>\n",
       "<!-- SmartAdmin Styles : Caution! DO NOT change the order -->\n",
       "<link href=\"assets/css/smartadmin-production-plugins.min.css\" media=\"screen\" rel=\"stylesheet\" type=\"text/css\"/>\n",
       "<link href=\"assets/css/smartadmin-production.min.css\" media=\"screen\" rel=\"stylesheet\" type=\"text/css\"/>\n",
       "<link href=\"assets/css/smartadmin-skins.min.css\" media=\"screen\" rel=\"stylesheet\" type=\"text/css\"/>\n",
       "<!-- SmartAdmin RTL Support (Not using RTL? Disable the CSS below to save bandwidth) -->\n",
       "<link href=\"assets/css/smartadmin-rtl.min.css\" media=\"screen\" rel=\"stylesheet\" type=\"text/css\"/>\n",
       "<!-- SmartAdmin Angular 2. Flex Layout  -->\n",
       "<link href=\"assets/css/smartadmin-angular-next.css\" media=\"screen\" rel=\"stylesheet\" type=\"text/css\"/>\n",
       "<!-- Demo purpose only: goes with demo.js, you can delete this css when designing your own WebApp -->\n",
       "<link href=\"assets/css/demo.min.css\" media=\"screen\" rel=\"stylesheet\" type=\"text/css\"/>\n",
       "<link href=\"assets/css/calendar.css\" id=\"calendar\" media=\"screen\" rel=\"stylesheet\" type=\"text/css\"/>\n",
       "<link href=\"assets/css/app-montserrat.css\" id=\"theme\" media=\"screen\" rel=\"stylesheet\" type=\"text/css\"/>\n",
       "<!-- #FAVICONS -->\n",
       "<link href=\"assets/img/favicon/favicon.ico\" rel=\"shortcut icon\" type=\"image/x-icon\"/>\n",
       "<!-- #APP SCREEN / ICONS -->\n",
       "<!-- Specifying a Webpage Icon for Web Clip\n",
       "  Ref: https://developer.apple.com/library/ios/documentation/AppleApplications/Reference/SafariWebContent/ConfiguringWebApplications/ConfiguringWebApplications.html -->\n",
       "<link href=\"assets/img/splash/sptouch-icon-iphone.png\" rel=\"apple-touch-icon\"/>\n",
       "<link href=\"assets/img/splash/touch-icon-ipad.png\" rel=\"apple-touch-icon\" sizes=\"76x76\"/>\n",
       "<link href=\"assets/img/splash/touch-icon-iphone-retina.png\" rel=\"apple-touch-icon\" sizes=\"120x120\"/>\n",
       "<link href=\"assets/img/splash/touch-icon-ipad-retina.png\" rel=\"apple-touch-icon\" sizes=\"152x152\"/>\n",
       "<!-- iOS web-app metas : hides Safari UI Components and Changes Status Bar Appearance -->\n",
       "<meta content=\"yes\" name=\"apple-mobile-web-app-capable\"/>\n",
       "<meta content=\"black\" name=\"apple-mobile-web-app-status-bar-style\"/>\n",
       "<!-- Startup image for web apps -->\n",
       "<link href=\"assets/img/splash/ipad-landscape.png\" media=\"screen and (min-device-width: 481px) and (max-device-width: 1024px) and (orientation:landscape)\" rel=\"apple-touch-startup-image\"/>\n",
       "<link href=\"assets/img/splash/ipad-portrait.png\" media=\"screen and (min-device-width: 481px) and (max-device-width: 1024px) and (orientation:portrait)\" rel=\"apple-touch-startup-image\"/>\n",
       "<link href=\"assets/img/splash/iphone.png\" media=\"screen and (max-device-width: 320px)\" rel=\"apple-touch-startup-image\"/>\n",
       "<link href=\"styles.f32ff2a2a9befd5dab83.css\" rel=\"stylesheet\"/></head>\n",
       "<body>\n",
       "<app-root> </app-root>\n",
       "<!-- Facebook Pixel Code -->\n",
       "<script>\n",
       "    !function(f,b,e,v,n,t,s) {\n",
       "      if(f.fbq)return;n=f.fbq=function() {\n",
       "        n.callMethod? n.callMethod.apply(n,arguments):n.queue.push(arguments)\n",
       "      };\n",
       "      if(!f._fbq)f._fbq=n;n.push=n;n.loaded=!0;n.version='2.0';\n",
       "      n.queue=[];t=b.createElement(e);t.async=!0;\n",
       "      t.src=v;s=b.getElementsByTagName(e)[0];\n",
       "      s.parentNode.insertBefore(t,s)\n",
       "    }\n",
       "    (window, document,'script','https://connect.facebook.net/en_US/fbevents.js');\n",
       "    fbq('init', '625182074842779');\n",
       "    fbq('track', 'PageView');\n",
       "  </script>\n",
       "<noscript>\n",
       "<img height=\"1\" src=\"https://www.facebook.com/tr?id=625182074842779&amp;ev=PageView&amp;noscript=1\" style=\"display:none\" width=\"1\"/>\n",
       "</noscript>\n",
       "<!-- End Facebook Pixel Code -->\n",
       "<script src=\"runtime.2ab60a447401b49f068f.js\" type=\"text/javascript\"></script><script src=\"polyfills.21ecdc66844b1463e7bf.js\" type=\"text/javascript\"></script><script src=\"main.81ab23728d66430e621e.js\" type=\"text/javascript\"></script></body>\n",
       "</html>"
      ]
     },
     "execution_count": 10,
     "metadata": {},
     "output_type": "execute_result"
    }
   ],
   "source": [
    "url='https://open.bymadata.com.ar/#/technical-detail-bond?symbol=AL35D'\n",
    "response=requests.get(url,verify=False)\n",
    "soup=BeautifulSoup(response.text, 'html.parser')\n",
    "soup"
   ]
  },
  {
   "cell_type": "code",
   "execution_count": null,
   "metadata": {},
   "outputs": [],
   "source": []
  }
 ],
 "metadata": {
  "kernelspec": {
   "display_name": "Python 3",
   "language": "python",
   "name": "python3"
  },
  "language_info": {
   "codemirror_mode": {
    "name": "ipython",
    "version": 3
   },
   "file_extension": ".py",
   "mimetype": "text/x-python",
   "name": "python",
   "nbconvert_exporter": "python",
   "pygments_lexer": "ipython3",
   "version": "3.11.2"
  }
 },
 "nbformat": 4,
 "nbformat_minor": 2
}
