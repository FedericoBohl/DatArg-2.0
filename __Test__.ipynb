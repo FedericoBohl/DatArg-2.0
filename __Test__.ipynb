{
 "cells": [
  {
   "cell_type": "code",
   "execution_count": 9,
   "metadata": {},
   "outputs": [],
   "source": [
    "import pandas as pd\n",
    "import re\n",
    "import requests\n",
    "import certifi\n",
    "from bs4 import BeautifulSoup"
   ]
  },
  {
   "cell_type": "code",
   "execution_count": 238,
   "metadata": {},
   "outputs": [],
   "source": [
    "import pandas as pd # 0.23.0\n",
    "import requests     # 2.19.1\n",
    "import io\n",
    "\n",
    "url = 'http://www.bankofengland.co.uk/boeapps/iadb/fromshowcolumns.asp?csv.x=yes'\n",
    "\n",
    "payload = {\n",
    "    'Datefrom'   : '01/Jan/2000',\n",
    "    #'Dateto'     : '01/Oct/2018',\n",
    "    'SeriesCodes': 'IUDBEDR',\n",
    "    'CSVF'       : 'TN',\n",
    "    'UsingCodes' : 'Y',\n",
    "    'VPD'        : 'Y',\n",
    "    'VFD'        : 'N'\n",
    "}\n",
    "headers = {\n",
    "    'User-Agent': 'Mozilla/5.0 (X11; Linux x86_64) '\n",
    "                  'AppleWebKit/537.36 (KHTML, like Gecko) '\n",
    "                  'Chrome/54.0.2840.90 '\n",
    "                  'Safari/537.36'\n",
    "}\n",
    "response = requests.get(url, params=payload, headers=headers)\n",
    "tas = pd.read_csv(io.BytesIO(response.content),names=['Fecha','Tasa'],skiprows=1)\n",
    "tas['Fecha']=pd.to_datetime(tas['Fecha'], format='%d %b %Y')#.dt.strftime('%d-%m-%Y')\n",
    "tas.set_index('Fecha',inplace=True)\n",
    "#tas=tas.resample('M').last()\n",
    "tas_t=tas['Tasa'].iloc[-1]\n",
    "tas_t1=tas['Tasa'].iloc[-2]\n",
    "#Metrica\n",
    "\n",
    "url='https://www.ons.gov.uk/generator?format=csv&uri=/economy/inflationandpriceindices/timeseries/l55o/mm23'\n",
    "response=requests.get(url)\n",
    "data = io.StringIO(response.text)\n",
    "inf = pd.read_csv(data,skiprows=316,names=['Fecha','Inflacion'])\n",
    "inf.columns=['Fecha','Inflacion']\n",
    "inf['Fecha']=pd.to_datetime(inf['Fecha'], format='%Y %b')#.dt.strftime('%d-%m-%Y')\n",
    "#metrica\n",
    "\n",
    "url='https://www.ons.gov.uk/generator?format=csv&uri=/employmentandlabourmarket/peoplenotinwork/unemployment/timeseries/mgsx/lms'\n",
    "response=requests.get(url)\n",
    "data = io.StringIO(response.text)\n",
    "une = pd.read_csv(data,skiprows=621,names=['Fecha','Inflacion'])\n",
    "une.columns=['Fecha','Desempleo']\n",
    "une['Fecha']=pd.to_datetime(une['Fecha'], format='%Y %b')#.dt.strftime('%d-%m-%Y')"
   ]
  },
  {
   "cell_type": "code",
   "execution_count": 240,
   "metadata": {},
   "outputs": [
    {
     "data": {
      "text/plain": [
       "'May'"
      ]
     },
     "execution_count": 240,
     "metadata": {},
     "output_type": "execute_result"
    }
   ],
   "source": [
    "#tas.index=pd.to_datetime(tas.index)\n",
    "tas.index[-1].strftime('%b')"
   ]
  },
  {
   "cell_type": "code",
   "execution_count": 224,
   "metadata": {},
   "outputs": [
    {
     "data": {
      "text/html": [
       "<div>\n",
       "<style scoped>\n",
       "    .dataframe tbody tr th:only-of-type {\n",
       "        vertical-align: middle;\n",
       "    }\n",
       "\n",
       "    .dataframe tbody tr th {\n",
       "        vertical-align: top;\n",
       "    }\n",
       "\n",
       "    .dataframe thead th {\n",
       "        text-align: right;\n",
       "    }\n",
       "</style>\n",
       "<table border=\"1\" class=\"dataframe\">\n",
       "  <thead>\n",
       "    <tr style=\"text-align: right;\">\n",
       "      <th></th>\n",
       "      <th>Fecha</th>\n",
       "      <th>Tasa</th>\n",
       "    </tr>\n",
       "  </thead>\n",
       "  <tbody>\n",
       "    <tr>\n",
       "      <th>0</th>\n",
       "      <td>04-01-2000</td>\n",
       "      <td>5.50</td>\n",
       "    </tr>\n",
       "    <tr>\n",
       "      <th>1</th>\n",
       "      <td>05-01-2000</td>\n",
       "      <td>5.50</td>\n",
       "    </tr>\n",
       "    <tr>\n",
       "      <th>2</th>\n",
       "      <td>06-01-2000</td>\n",
       "      <td>5.50</td>\n",
       "    </tr>\n",
       "    <tr>\n",
       "      <th>3</th>\n",
       "      <td>07-01-2000</td>\n",
       "      <td>5.50</td>\n",
       "    </tr>\n",
       "    <tr>\n",
       "      <th>4</th>\n",
       "      <td>10-01-2000</td>\n",
       "      <td>5.50</td>\n",
       "    </tr>\n",
       "    <tr>\n",
       "      <th>...</th>\n",
       "      <td>...</td>\n",
       "      <td>...</td>\n",
       "    </tr>\n",
       "    <tr>\n",
       "      <th>6160</th>\n",
       "      <td>22-05-2024</td>\n",
       "      <td>5.25</td>\n",
       "    </tr>\n",
       "    <tr>\n",
       "      <th>6161</th>\n",
       "      <td>23-05-2024</td>\n",
       "      <td>5.25</td>\n",
       "    </tr>\n",
       "    <tr>\n",
       "      <th>6162</th>\n",
       "      <td>24-05-2024</td>\n",
       "      <td>5.25</td>\n",
       "    </tr>\n",
       "    <tr>\n",
       "      <th>6163</th>\n",
       "      <td>28-05-2024</td>\n",
       "      <td>5.25</td>\n",
       "    </tr>\n",
       "    <tr>\n",
       "      <th>6164</th>\n",
       "      <td>29-05-2024</td>\n",
       "      <td>5.25</td>\n",
       "    </tr>\n",
       "  </tbody>\n",
       "</table>\n",
       "<p>6165 rows × 2 columns</p>\n",
       "</div>"
      ],
      "text/plain": [
       "           Fecha  Tasa\n",
       "0     04-01-2000  5.50\n",
       "1     05-01-2000  5.50\n",
       "2     06-01-2000  5.50\n",
       "3     07-01-2000  5.50\n",
       "4     10-01-2000  5.50\n",
       "...          ...   ...\n",
       "6160  22-05-2024  5.25\n",
       "6161  23-05-2024  5.25\n",
       "6162  24-05-2024  5.25\n",
       "6163  28-05-2024  5.25\n",
       "6164  29-05-2024  5.25\n",
       "\n",
       "[6165 rows x 2 columns]"
      ]
     },
     "execution_count": 224,
     "metadata": {},
     "output_type": "execute_result"
    }
   ],
   "source": [
    "tas"
   ]
  },
  {
   "cell_type": "code",
   "execution_count": 216,
   "metadata": {},
   "outputs": [
    {
     "data": {
      "text/html": [
       "<div>\n",
       "<style scoped>\n",
       "    .dataframe tbody tr th:only-of-type {\n",
       "        vertical-align: middle;\n",
       "    }\n",
       "\n",
       "    .dataframe tbody tr th {\n",
       "        vertical-align: top;\n",
       "    }\n",
       "\n",
       "    .dataframe thead th {\n",
       "        text-align: right;\n",
       "    }\n",
       "</style>\n",
       "<table border=\"1\" class=\"dataframe\">\n",
       "  <thead>\n",
       "    <tr style=\"text-align: right;\">\n",
       "      <th></th>\n",
       "      <th>Fecha</th>\n",
       "      <th>Tasa</th>\n",
       "    </tr>\n",
       "  </thead>\n",
       "  <tbody>\n",
       "    <tr>\n",
       "      <th>0</th>\n",
       "      <td>04 Jan 2000</td>\n",
       "      <td>5.50</td>\n",
       "    </tr>\n",
       "    <tr>\n",
       "      <th>1</th>\n",
       "      <td>05 Jan 2000</td>\n",
       "      <td>5.50</td>\n",
       "    </tr>\n",
       "    <tr>\n",
       "      <th>2</th>\n",
       "      <td>06 Jan 2000</td>\n",
       "      <td>5.50</td>\n",
       "    </tr>\n",
       "    <tr>\n",
       "      <th>3</th>\n",
       "      <td>07 Jan 2000</td>\n",
       "      <td>5.50</td>\n",
       "    </tr>\n",
       "    <tr>\n",
       "      <th>4</th>\n",
       "      <td>10 Jan 2000</td>\n",
       "      <td>5.50</td>\n",
       "    </tr>\n",
       "    <tr>\n",
       "      <th>5</th>\n",
       "      <td>11 Jan 2000</td>\n",
       "      <td>5.50</td>\n",
       "    </tr>\n",
       "    <tr>\n",
       "      <th>6</th>\n",
       "      <td>12 Jan 2000</td>\n",
       "      <td>5.50</td>\n",
       "    </tr>\n",
       "    <tr>\n",
       "      <th>7</th>\n",
       "      <td>13 Jan 2000</td>\n",
       "      <td>5.75</td>\n",
       "    </tr>\n",
       "    <tr>\n",
       "      <th>8</th>\n",
       "      <td>14 Jan 2000</td>\n",
       "      <td>5.75</td>\n",
       "    </tr>\n",
       "    <tr>\n",
       "      <th>9</th>\n",
       "      <td>17 Jan 2000</td>\n",
       "      <td>5.75</td>\n",
       "    </tr>\n",
       "    <tr>\n",
       "      <th>10</th>\n",
       "      <td>18 Jan 2000</td>\n",
       "      <td>5.75</td>\n",
       "    </tr>\n",
       "    <tr>\n",
       "      <th>11</th>\n",
       "      <td>19 Jan 2000</td>\n",
       "      <td>5.75</td>\n",
       "    </tr>\n",
       "  </tbody>\n",
       "</table>\n",
       "</div>"
      ],
      "text/plain": [
       "          Fecha  Tasa\n",
       "0   04 Jan 2000  5.50\n",
       "1   05 Jan 2000  5.50\n",
       "2   06 Jan 2000  5.50\n",
       "3   07 Jan 2000  5.50\n",
       "4   10 Jan 2000  5.50\n",
       "5   11 Jan 2000  5.50\n",
       "6   12 Jan 2000  5.50\n",
       "7   13 Jan 2000  5.75\n",
       "8   14 Jan 2000  5.75\n",
       "9   17 Jan 2000  5.75\n",
       "10  18 Jan 2000  5.75\n",
       "11  19 Jan 2000  5.75"
      ]
     },
     "execution_count": 216,
     "metadata": {},
     "output_type": "execute_result"
    }
   ],
   "source": [
    "_.head(12)"
   ]
  },
  {
   "cell_type": "code",
   "execution_count": 178,
   "metadata": {},
   "outputs": [
    {
     "data": {
      "text/html": [
       "<div>\n",
       "<style scoped>\n",
       "    .dataframe tbody tr th:only-of-type {\n",
       "        vertical-align: middle;\n",
       "    }\n",
       "\n",
       "    .dataframe tbody tr th {\n",
       "        vertical-align: top;\n",
       "    }\n",
       "\n",
       "    .dataframe thead th {\n",
       "        text-align: right;\n",
       "    }\n",
       "</style>\n",
       "<table border=\"1\" class=\"dataframe\">\n",
       "  <thead>\n",
       "    <tr style=\"text-align: right;\">\n",
       "      <th></th>\n",
       "      <th>Fecha</th>\n",
       "      <th>Inflacion</th>\n",
       "    </tr>\n",
       "  </thead>\n",
       "  <tbody>\n",
       "    <tr>\n",
       "      <th>0</th>\n",
       "      <td>2000-01-01</td>\n",
       "      <td>1.2</td>\n",
       "    </tr>\n",
       "    <tr>\n",
       "      <th>1</th>\n",
       "      <td>2000-02-01</td>\n",
       "      <td>1.2</td>\n",
       "    </tr>\n",
       "    <tr>\n",
       "      <th>2</th>\n",
       "      <td>2000-03-01</td>\n",
       "      <td>1.0</td>\n",
       "    </tr>\n",
       "    <tr>\n",
       "      <th>3</th>\n",
       "      <td>2000-04-01</td>\n",
       "      <td>0.9</td>\n",
       "    </tr>\n",
       "    <tr>\n",
       "      <th>4</th>\n",
       "      <td>2000-05-01</td>\n",
       "      <td>1.0</td>\n",
       "    </tr>\n",
       "    <tr>\n",
       "      <th>...</th>\n",
       "      <td>...</td>\n",
       "      <td>...</td>\n",
       "    </tr>\n",
       "    <tr>\n",
       "      <th>287</th>\n",
       "      <td>2023-12-01</td>\n",
       "      <td>4.2</td>\n",
       "    </tr>\n",
       "    <tr>\n",
       "      <th>288</th>\n",
       "      <td>2024-01-01</td>\n",
       "      <td>4.2</td>\n",
       "    </tr>\n",
       "    <tr>\n",
       "      <th>289</th>\n",
       "      <td>2024-02-01</td>\n",
       "      <td>3.8</td>\n",
       "    </tr>\n",
       "    <tr>\n",
       "      <th>290</th>\n",
       "      <td>2024-03-01</td>\n",
       "      <td>3.8</td>\n",
       "    </tr>\n",
       "    <tr>\n",
       "      <th>291</th>\n",
       "      <td>2024-04-01</td>\n",
       "      <td>3.0</td>\n",
       "    </tr>\n",
       "  </tbody>\n",
       "</table>\n",
       "<p>292 rows × 2 columns</p>\n",
       "</div>"
      ],
      "text/plain": [
       "         Fecha  Inflacion\n",
       "0   2000-01-01        1.2\n",
       "1   2000-02-01        1.2\n",
       "2   2000-03-01        1.0\n",
       "3   2000-04-01        0.9\n",
       "4   2000-05-01        1.0\n",
       "..         ...        ...\n",
       "287 2023-12-01        4.2\n",
       "288 2024-01-01        4.2\n",
       "289 2024-02-01        3.8\n",
       "290 2024-03-01        3.8\n",
       "291 2024-04-01        3.0\n",
       "\n",
       "[292 rows x 2 columns]"
      ]
     },
     "execution_count": 178,
     "metadata": {},
     "output_type": "execute_result"
    }
   ],
   "source": [
    "from io import StringIO\n",
    "ulr='https://www.ons.gov.uk/generator?format=csv&uri=/economy/inflationandpriceindices/timeseries/l55o/mm23'\n",
    "response=requests.get(ulr)\n",
    "data = StringIO(response.text)\n",
    "inf = pd.read_csv(data,skiprows=316,names=['Fecha','Inflacion'])\n",
    "inf.columns=['Fecha','Inflacion']\n",
    "inf['Fecha']=pd.to_datetime(inf['Fecha'], format='%Y %b')\n",
    "inf"
   ]
  },
  {
   "cell_type": "code",
   "execution_count": 187,
   "metadata": {},
   "outputs": [
    {
     "data": {
      "text/html": [
       "<div>\n",
       "<style scoped>\n",
       "    .dataframe tbody tr th:only-of-type {\n",
       "        vertical-align: middle;\n",
       "    }\n",
       "\n",
       "    .dataframe tbody tr th {\n",
       "        vertical-align: top;\n",
       "    }\n",
       "\n",
       "    .dataframe thead th {\n",
       "        text-align: right;\n",
       "    }\n",
       "</style>\n",
       "<table border=\"1\" class=\"dataframe\">\n",
       "  <thead>\n",
       "    <tr style=\"text-align: right;\">\n",
       "      <th></th>\n",
       "      <th>Fecha</th>\n",
       "      <th>Desempleo</th>\n",
       "    </tr>\n",
       "  </thead>\n",
       "  <tbody>\n",
       "    <tr>\n",
       "      <th>0</th>\n",
       "      <td>2000-01-01</td>\n",
       "      <td>5.8</td>\n",
       "    </tr>\n",
       "    <tr>\n",
       "      <th>1</th>\n",
       "      <td>2000-02-01</td>\n",
       "      <td>5.8</td>\n",
       "    </tr>\n",
       "    <tr>\n",
       "      <th>2</th>\n",
       "      <td>2000-03-01</td>\n",
       "      <td>5.7</td>\n",
       "    </tr>\n",
       "    <tr>\n",
       "      <th>3</th>\n",
       "      <td>2000-04-01</td>\n",
       "      <td>5.6</td>\n",
       "    </tr>\n",
       "    <tr>\n",
       "      <th>4</th>\n",
       "      <td>2000-05-01</td>\n",
       "      <td>5.5</td>\n",
       "    </tr>\n",
       "    <tr>\n",
       "      <th>...</th>\n",
       "      <td>...</td>\n",
       "      <td>...</td>\n",
       "    </tr>\n",
       "    <tr>\n",
       "      <th>285</th>\n",
       "      <td>2023-10-01</td>\n",
       "      <td>3.9</td>\n",
       "    </tr>\n",
       "    <tr>\n",
       "      <th>286</th>\n",
       "      <td>2023-11-01</td>\n",
       "      <td>3.8</td>\n",
       "    </tr>\n",
       "    <tr>\n",
       "      <th>287</th>\n",
       "      <td>2023-12-01</td>\n",
       "      <td>4.0</td>\n",
       "    </tr>\n",
       "    <tr>\n",
       "      <th>288</th>\n",
       "      <td>2024-01-01</td>\n",
       "      <td>4.2</td>\n",
       "    </tr>\n",
       "    <tr>\n",
       "      <th>289</th>\n",
       "      <td>2024-02-01</td>\n",
       "      <td>4.3</td>\n",
       "    </tr>\n",
       "  </tbody>\n",
       "</table>\n",
       "<p>290 rows × 2 columns</p>\n",
       "</div>"
      ],
      "text/plain": [
       "         Fecha  Desempleo\n",
       "0   2000-01-01        5.8\n",
       "1   2000-02-01        5.8\n",
       "2   2000-03-01        5.7\n",
       "3   2000-04-01        5.6\n",
       "4   2000-05-01        5.5\n",
       "..         ...        ...\n",
       "285 2023-10-01        3.9\n",
       "286 2023-11-01        3.8\n",
       "287 2023-12-01        4.0\n",
       "288 2024-01-01        4.2\n",
       "289 2024-02-01        4.3\n",
       "\n",
       "[290 rows x 2 columns]"
      ]
     },
     "execution_count": 187,
     "metadata": {},
     "output_type": "execute_result"
    }
   ],
   "source": [
    "url='https://www.ons.gov.uk/generator?format=csv&uri=/employmentandlabourmarket/peoplenotinwork/unemployment/timeseries/mgsx/lms'\n",
    "response=requests.get(url)\n",
    "data = StringIO(response.text)\n",
    "une = pd.read_csv(data,skiprows=621,names=['Fecha','Inflacion'])\n",
    "une.columns=['Fecha','Desempleo']\n",
    "une['Fecha']=pd.to_datetime(une['Fecha'], format='%Y %b')\n",
    "une"
   ]
  },
  {
   "cell_type": "code",
   "execution_count": 5,
   "metadata": {},
   "outputs": [
    {
     "ename": "ConnectTimeout",
     "evalue": "HTTPSConnectionPool(host='www.presupuestoabierto.gob.ar', port=443): Max retries exceeded with url: /api/v1/credito?format=csv (Caused by ConnectTimeoutError(<urllib3.connection.HTTPSConnection object at 0x000002A336871390>, 'Connection to www.presupuestoabierto.gob.ar timed out. (connect timeout=None)'))",
     "output_type": "error",
     "traceback": [
      "\u001b[1;31m---------------------------------------------------------------------------\u001b[0m",
      "\u001b[1;31mTimeoutError\u001b[0m                              Traceback (most recent call last)",
      "File \u001b[1;32mc:\\Users\\feder\\AppData\\Local\\Programs\\Python\\Python311\\Lib\\site-packages\\urllib3\\connection.py:174\u001b[0m, in \u001b[0;36mHTTPConnection._new_conn\u001b[1;34m(self)\u001b[0m\n\u001b[0;32m    173\u001b[0m \u001b[38;5;28;01mtry\u001b[39;00m:\n\u001b[1;32m--> 174\u001b[0m     conn \u001b[38;5;241m=\u001b[39m \u001b[43mconnection\u001b[49m\u001b[38;5;241;43m.\u001b[39;49m\u001b[43mcreate_connection\u001b[49m\u001b[43m(\u001b[49m\n\u001b[0;32m    175\u001b[0m \u001b[43m        \u001b[49m\u001b[43m(\u001b[49m\u001b[38;5;28;43mself\u001b[39;49m\u001b[38;5;241;43m.\u001b[39;49m\u001b[43m_dns_host\u001b[49m\u001b[43m,\u001b[49m\u001b[43m \u001b[49m\u001b[38;5;28;43mself\u001b[39;49m\u001b[38;5;241;43m.\u001b[39;49m\u001b[43mport\u001b[49m\u001b[43m)\u001b[49m\u001b[43m,\u001b[49m\u001b[43m \u001b[49m\u001b[38;5;28;43mself\u001b[39;49m\u001b[38;5;241;43m.\u001b[39;49m\u001b[43mtimeout\u001b[49m\u001b[43m,\u001b[49m\u001b[43m \u001b[49m\u001b[38;5;241;43m*\u001b[39;49m\u001b[38;5;241;43m*\u001b[39;49m\u001b[43mextra_kw\u001b[49m\n\u001b[0;32m    176\u001b[0m \u001b[43m    \u001b[49m\u001b[43m)\u001b[49m\n\u001b[0;32m    178\u001b[0m \u001b[38;5;28;01mexcept\u001b[39;00m SocketTimeout:\n",
      "File \u001b[1;32mc:\\Users\\feder\\AppData\\Local\\Programs\\Python\\Python311\\Lib\\site-packages\\urllib3\\util\\connection.py:95\u001b[0m, in \u001b[0;36mcreate_connection\u001b[1;34m(address, timeout, source_address, socket_options)\u001b[0m\n\u001b[0;32m     94\u001b[0m \u001b[38;5;28;01mif\u001b[39;00m err \u001b[38;5;129;01mis\u001b[39;00m \u001b[38;5;129;01mnot\u001b[39;00m \u001b[38;5;28;01mNone\u001b[39;00m:\n\u001b[1;32m---> 95\u001b[0m     \u001b[38;5;28;01mraise\u001b[39;00m err\n\u001b[0;32m     97\u001b[0m \u001b[38;5;28;01mraise\u001b[39;00m socket\u001b[38;5;241m.\u001b[39merror(\u001b[38;5;124m\"\u001b[39m\u001b[38;5;124mgetaddrinfo returns an empty list\u001b[39m\u001b[38;5;124m\"\u001b[39m)\n",
      "File \u001b[1;32mc:\\Users\\feder\\AppData\\Local\\Programs\\Python\\Python311\\Lib\\site-packages\\urllib3\\util\\connection.py:85\u001b[0m, in \u001b[0;36mcreate_connection\u001b[1;34m(address, timeout, source_address, socket_options)\u001b[0m\n\u001b[0;32m     84\u001b[0m     sock\u001b[38;5;241m.\u001b[39mbind(source_address)\n\u001b[1;32m---> 85\u001b[0m \u001b[43msock\u001b[49m\u001b[38;5;241;43m.\u001b[39;49m\u001b[43mconnect\u001b[49m\u001b[43m(\u001b[49m\u001b[43msa\u001b[49m\u001b[43m)\u001b[49m\n\u001b[0;32m     86\u001b[0m \u001b[38;5;28;01mreturn\u001b[39;00m sock\n",
      "\u001b[1;31mTimeoutError\u001b[0m: [WinError 10060] A connection attempt failed because the connected party did not properly respond after a period of time, or established connection failed because connected host has failed to respond",
      "\nDuring handling of the above exception, another exception occurred:\n",
      "\u001b[1;31mConnectTimeoutError\u001b[0m                       Traceback (most recent call last)",
      "File \u001b[1;32mc:\\Users\\feder\\AppData\\Local\\Programs\\Python\\Python311\\Lib\\site-packages\\urllib3\\connectionpool.py:703\u001b[0m, in \u001b[0;36mHTTPConnectionPool.urlopen\u001b[1;34m(self, method, url, body, headers, retries, redirect, assert_same_host, timeout, pool_timeout, release_conn, chunked, body_pos, **response_kw)\u001b[0m\n\u001b[0;32m    702\u001b[0m \u001b[38;5;66;03m# Make the request on the httplib connection object.\u001b[39;00m\n\u001b[1;32m--> 703\u001b[0m httplib_response \u001b[38;5;241m=\u001b[39m \u001b[38;5;28;43mself\u001b[39;49m\u001b[38;5;241;43m.\u001b[39;49m\u001b[43m_make_request\u001b[49m\u001b[43m(\u001b[49m\n\u001b[0;32m    704\u001b[0m \u001b[43m    \u001b[49m\u001b[43mconn\u001b[49m\u001b[43m,\u001b[49m\n\u001b[0;32m    705\u001b[0m \u001b[43m    \u001b[49m\u001b[43mmethod\u001b[49m\u001b[43m,\u001b[49m\n\u001b[0;32m    706\u001b[0m \u001b[43m    \u001b[49m\u001b[43murl\u001b[49m\u001b[43m,\u001b[49m\n\u001b[0;32m    707\u001b[0m \u001b[43m    \u001b[49m\u001b[43mtimeout\u001b[49m\u001b[38;5;241;43m=\u001b[39;49m\u001b[43mtimeout_obj\u001b[49m\u001b[43m,\u001b[49m\n\u001b[0;32m    708\u001b[0m \u001b[43m    \u001b[49m\u001b[43mbody\u001b[49m\u001b[38;5;241;43m=\u001b[39;49m\u001b[43mbody\u001b[49m\u001b[43m,\u001b[49m\n\u001b[0;32m    709\u001b[0m \u001b[43m    \u001b[49m\u001b[43mheaders\u001b[49m\u001b[38;5;241;43m=\u001b[39;49m\u001b[43mheaders\u001b[49m\u001b[43m,\u001b[49m\n\u001b[0;32m    710\u001b[0m \u001b[43m    \u001b[49m\u001b[43mchunked\u001b[49m\u001b[38;5;241;43m=\u001b[39;49m\u001b[43mchunked\u001b[49m\u001b[43m,\u001b[49m\n\u001b[0;32m    711\u001b[0m \u001b[43m\u001b[49m\u001b[43m)\u001b[49m\n\u001b[0;32m    713\u001b[0m \u001b[38;5;66;03m# If we're going to release the connection in ``finally:``, then\u001b[39;00m\n\u001b[0;32m    714\u001b[0m \u001b[38;5;66;03m# the response doesn't need to know about the connection. Otherwise\u001b[39;00m\n\u001b[0;32m    715\u001b[0m \u001b[38;5;66;03m# it will also try to release it and we'll have a double-release\u001b[39;00m\n\u001b[0;32m    716\u001b[0m \u001b[38;5;66;03m# mess.\u001b[39;00m\n",
      "File \u001b[1;32mc:\\Users\\feder\\AppData\\Local\\Programs\\Python\\Python311\\Lib\\site-packages\\urllib3\\connectionpool.py:386\u001b[0m, in \u001b[0;36mHTTPConnectionPool._make_request\u001b[1;34m(self, conn, method, url, timeout, chunked, **httplib_request_kw)\u001b[0m\n\u001b[0;32m    385\u001b[0m \u001b[38;5;28;01mtry\u001b[39;00m:\n\u001b[1;32m--> 386\u001b[0m     \u001b[38;5;28;43mself\u001b[39;49m\u001b[38;5;241;43m.\u001b[39;49m\u001b[43m_validate_conn\u001b[49m\u001b[43m(\u001b[49m\u001b[43mconn\u001b[49m\u001b[43m)\u001b[49m\n\u001b[0;32m    387\u001b[0m \u001b[38;5;28;01mexcept\u001b[39;00m (SocketTimeout, BaseSSLError) \u001b[38;5;28;01mas\u001b[39;00m e:\n\u001b[0;32m    388\u001b[0m     \u001b[38;5;66;03m# Py2 raises this as a BaseSSLError, Py3 raises it as socket timeout.\u001b[39;00m\n",
      "File \u001b[1;32mc:\\Users\\feder\\AppData\\Local\\Programs\\Python\\Python311\\Lib\\site-packages\\urllib3\\connectionpool.py:1042\u001b[0m, in \u001b[0;36mHTTPSConnectionPool._validate_conn\u001b[1;34m(self, conn)\u001b[0m\n\u001b[0;32m   1041\u001b[0m \u001b[38;5;28;01mif\u001b[39;00m \u001b[38;5;129;01mnot\u001b[39;00m \u001b[38;5;28mgetattr\u001b[39m(conn, \u001b[38;5;124m\"\u001b[39m\u001b[38;5;124msock\u001b[39m\u001b[38;5;124m\"\u001b[39m, \u001b[38;5;28;01mNone\u001b[39;00m):  \u001b[38;5;66;03m# AppEngine might not have  `.sock`\u001b[39;00m\n\u001b[1;32m-> 1042\u001b[0m     \u001b[43mconn\u001b[49m\u001b[38;5;241;43m.\u001b[39;49m\u001b[43mconnect\u001b[49m\u001b[43m(\u001b[49m\u001b[43m)\u001b[49m\n\u001b[0;32m   1044\u001b[0m \u001b[38;5;28;01mif\u001b[39;00m \u001b[38;5;129;01mnot\u001b[39;00m conn\u001b[38;5;241m.\u001b[39mis_verified:\n",
      "File \u001b[1;32mc:\\Users\\feder\\AppData\\Local\\Programs\\Python\\Python311\\Lib\\site-packages\\urllib3\\connection.py:358\u001b[0m, in \u001b[0;36mHTTPSConnection.connect\u001b[1;34m(self)\u001b[0m\n\u001b[0;32m    356\u001b[0m \u001b[38;5;28;01mdef\u001b[39;00m \u001b[38;5;21mconnect\u001b[39m(\u001b[38;5;28mself\u001b[39m):\n\u001b[0;32m    357\u001b[0m     \u001b[38;5;66;03m# Add certificate verification\u001b[39;00m\n\u001b[1;32m--> 358\u001b[0m     \u001b[38;5;28mself\u001b[39m\u001b[38;5;241m.\u001b[39msock \u001b[38;5;241m=\u001b[39m conn \u001b[38;5;241m=\u001b[39m \u001b[38;5;28;43mself\u001b[39;49m\u001b[38;5;241;43m.\u001b[39;49m\u001b[43m_new_conn\u001b[49m\u001b[43m(\u001b[49m\u001b[43m)\u001b[49m\n\u001b[0;32m    359\u001b[0m     hostname \u001b[38;5;241m=\u001b[39m \u001b[38;5;28mself\u001b[39m\u001b[38;5;241m.\u001b[39mhost\n",
      "File \u001b[1;32mc:\\Users\\feder\\AppData\\Local\\Programs\\Python\\Python311\\Lib\\site-packages\\urllib3\\connection.py:179\u001b[0m, in \u001b[0;36mHTTPConnection._new_conn\u001b[1;34m(self)\u001b[0m\n\u001b[0;32m    178\u001b[0m \u001b[38;5;28;01mexcept\u001b[39;00m SocketTimeout:\n\u001b[1;32m--> 179\u001b[0m     \u001b[38;5;28;01mraise\u001b[39;00m ConnectTimeoutError(\n\u001b[0;32m    180\u001b[0m         \u001b[38;5;28mself\u001b[39m,\n\u001b[0;32m    181\u001b[0m         \u001b[38;5;124m\"\u001b[39m\u001b[38;5;124mConnection to \u001b[39m\u001b[38;5;132;01m%s\u001b[39;00m\u001b[38;5;124m timed out. (connect timeout=\u001b[39m\u001b[38;5;132;01m%s\u001b[39;00m\u001b[38;5;124m)\u001b[39m\u001b[38;5;124m\"\u001b[39m\n\u001b[0;32m    182\u001b[0m         \u001b[38;5;241m%\u001b[39m (\u001b[38;5;28mself\u001b[39m\u001b[38;5;241m.\u001b[39mhost, \u001b[38;5;28mself\u001b[39m\u001b[38;5;241m.\u001b[39mtimeout),\n\u001b[0;32m    183\u001b[0m     )\n\u001b[0;32m    185\u001b[0m \u001b[38;5;28;01mexcept\u001b[39;00m SocketError \u001b[38;5;28;01mas\u001b[39;00m e:\n",
      "\u001b[1;31mConnectTimeoutError\u001b[0m: (<urllib3.connection.HTTPSConnection object at 0x000002A336871390>, 'Connection to www.presupuestoabierto.gob.ar timed out. (connect timeout=None)')",
      "\nDuring handling of the above exception, another exception occurred:\n",
      "\u001b[1;31mMaxRetryError\u001b[0m                             Traceback (most recent call last)",
      "File \u001b[1;32mc:\\Users\\feder\\AppData\\Local\\Programs\\Python\\Python311\\Lib\\site-packages\\requests\\adapters.py:486\u001b[0m, in \u001b[0;36mHTTPAdapter.send\u001b[1;34m(self, request, stream, timeout, verify, cert, proxies)\u001b[0m\n\u001b[0;32m    485\u001b[0m \u001b[38;5;28;01mtry\u001b[39;00m:\n\u001b[1;32m--> 486\u001b[0m     resp \u001b[38;5;241m=\u001b[39m \u001b[43mconn\u001b[49m\u001b[38;5;241;43m.\u001b[39;49m\u001b[43murlopen\u001b[49m\u001b[43m(\u001b[49m\n\u001b[0;32m    487\u001b[0m \u001b[43m        \u001b[49m\u001b[43mmethod\u001b[49m\u001b[38;5;241;43m=\u001b[39;49m\u001b[43mrequest\u001b[49m\u001b[38;5;241;43m.\u001b[39;49m\u001b[43mmethod\u001b[49m\u001b[43m,\u001b[49m\n\u001b[0;32m    488\u001b[0m \u001b[43m        \u001b[49m\u001b[43murl\u001b[49m\u001b[38;5;241;43m=\u001b[39;49m\u001b[43murl\u001b[49m\u001b[43m,\u001b[49m\n\u001b[0;32m    489\u001b[0m \u001b[43m        \u001b[49m\u001b[43mbody\u001b[49m\u001b[38;5;241;43m=\u001b[39;49m\u001b[43mrequest\u001b[49m\u001b[38;5;241;43m.\u001b[39;49m\u001b[43mbody\u001b[49m\u001b[43m,\u001b[49m\n\u001b[0;32m    490\u001b[0m \u001b[43m        \u001b[49m\u001b[43mheaders\u001b[49m\u001b[38;5;241;43m=\u001b[39;49m\u001b[43mrequest\u001b[49m\u001b[38;5;241;43m.\u001b[39;49m\u001b[43mheaders\u001b[49m\u001b[43m,\u001b[49m\n\u001b[0;32m    491\u001b[0m \u001b[43m        \u001b[49m\u001b[43mredirect\u001b[49m\u001b[38;5;241;43m=\u001b[39;49m\u001b[38;5;28;43;01mFalse\u001b[39;49;00m\u001b[43m,\u001b[49m\n\u001b[0;32m    492\u001b[0m \u001b[43m        \u001b[49m\u001b[43massert_same_host\u001b[49m\u001b[38;5;241;43m=\u001b[39;49m\u001b[38;5;28;43;01mFalse\u001b[39;49;00m\u001b[43m,\u001b[49m\n\u001b[0;32m    493\u001b[0m \u001b[43m        \u001b[49m\u001b[43mpreload_content\u001b[49m\u001b[38;5;241;43m=\u001b[39;49m\u001b[38;5;28;43;01mFalse\u001b[39;49;00m\u001b[43m,\u001b[49m\n\u001b[0;32m    494\u001b[0m \u001b[43m        \u001b[49m\u001b[43mdecode_content\u001b[49m\u001b[38;5;241;43m=\u001b[39;49m\u001b[38;5;28;43;01mFalse\u001b[39;49;00m\u001b[43m,\u001b[49m\n\u001b[0;32m    495\u001b[0m \u001b[43m        \u001b[49m\u001b[43mretries\u001b[49m\u001b[38;5;241;43m=\u001b[39;49m\u001b[38;5;28;43mself\u001b[39;49m\u001b[38;5;241;43m.\u001b[39;49m\u001b[43mmax_retries\u001b[49m\u001b[43m,\u001b[49m\n\u001b[0;32m    496\u001b[0m \u001b[43m        \u001b[49m\u001b[43mtimeout\u001b[49m\u001b[38;5;241;43m=\u001b[39;49m\u001b[43mtimeout\u001b[49m\u001b[43m,\u001b[49m\n\u001b[0;32m    497\u001b[0m \u001b[43m        \u001b[49m\u001b[43mchunked\u001b[49m\u001b[38;5;241;43m=\u001b[39;49m\u001b[43mchunked\u001b[49m\u001b[43m,\u001b[49m\n\u001b[0;32m    498\u001b[0m \u001b[43m    \u001b[49m\u001b[43m)\u001b[49m\n\u001b[0;32m    500\u001b[0m \u001b[38;5;28;01mexcept\u001b[39;00m (ProtocolError, \u001b[38;5;167;01mOSError\u001b[39;00m) \u001b[38;5;28;01mas\u001b[39;00m err:\n",
      "File \u001b[1;32mc:\\Users\\feder\\AppData\\Local\\Programs\\Python\\Python311\\Lib\\site-packages\\urllib3\\connectionpool.py:787\u001b[0m, in \u001b[0;36mHTTPConnectionPool.urlopen\u001b[1;34m(self, method, url, body, headers, retries, redirect, assert_same_host, timeout, pool_timeout, release_conn, chunked, body_pos, **response_kw)\u001b[0m\n\u001b[0;32m    785\u001b[0m     e \u001b[38;5;241m=\u001b[39m ProtocolError(\u001b[38;5;124m\"\u001b[39m\u001b[38;5;124mConnection aborted.\u001b[39m\u001b[38;5;124m\"\u001b[39m, e)\n\u001b[1;32m--> 787\u001b[0m retries \u001b[38;5;241m=\u001b[39m \u001b[43mretries\u001b[49m\u001b[38;5;241;43m.\u001b[39;49m\u001b[43mincrement\u001b[49m\u001b[43m(\u001b[49m\n\u001b[0;32m    788\u001b[0m \u001b[43m    \u001b[49m\u001b[43mmethod\u001b[49m\u001b[43m,\u001b[49m\u001b[43m \u001b[49m\u001b[43murl\u001b[49m\u001b[43m,\u001b[49m\u001b[43m \u001b[49m\u001b[43merror\u001b[49m\u001b[38;5;241;43m=\u001b[39;49m\u001b[43me\u001b[49m\u001b[43m,\u001b[49m\u001b[43m \u001b[49m\u001b[43m_pool\u001b[49m\u001b[38;5;241;43m=\u001b[39;49m\u001b[38;5;28;43mself\u001b[39;49m\u001b[43m,\u001b[49m\u001b[43m \u001b[49m\u001b[43m_stacktrace\u001b[49m\u001b[38;5;241;43m=\u001b[39;49m\u001b[43msys\u001b[49m\u001b[38;5;241;43m.\u001b[39;49m\u001b[43mexc_info\u001b[49m\u001b[43m(\u001b[49m\u001b[43m)\u001b[49m\u001b[43m[\u001b[49m\u001b[38;5;241;43m2\u001b[39;49m\u001b[43m]\u001b[49m\n\u001b[0;32m    789\u001b[0m \u001b[43m\u001b[49m\u001b[43m)\u001b[49m\n\u001b[0;32m    790\u001b[0m retries\u001b[38;5;241m.\u001b[39msleep()\n",
      "File \u001b[1;32mc:\\Users\\feder\\AppData\\Local\\Programs\\Python\\Python311\\Lib\\site-packages\\urllib3\\util\\retry.py:592\u001b[0m, in \u001b[0;36mRetry.increment\u001b[1;34m(self, method, url, response, error, _pool, _stacktrace)\u001b[0m\n\u001b[0;32m    591\u001b[0m \u001b[38;5;28;01mif\u001b[39;00m new_retry\u001b[38;5;241m.\u001b[39mis_exhausted():\n\u001b[1;32m--> 592\u001b[0m     \u001b[38;5;28;01mraise\u001b[39;00m MaxRetryError(_pool, url, error \u001b[38;5;129;01mor\u001b[39;00m ResponseError(cause))\n\u001b[0;32m    594\u001b[0m log\u001b[38;5;241m.\u001b[39mdebug(\u001b[38;5;124m\"\u001b[39m\u001b[38;5;124mIncremented Retry for (url=\u001b[39m\u001b[38;5;124m'\u001b[39m\u001b[38;5;132;01m%s\u001b[39;00m\u001b[38;5;124m'\u001b[39m\u001b[38;5;124m): \u001b[39m\u001b[38;5;132;01m%r\u001b[39;00m\u001b[38;5;124m\"\u001b[39m, url, new_retry)\n",
      "\u001b[1;31mMaxRetryError\u001b[0m: HTTPSConnectionPool(host='www.presupuestoabierto.gob.ar', port=443): Max retries exceeded with url: /api/v1/credito?format=csv (Caused by ConnectTimeoutError(<urllib3.connection.HTTPSConnection object at 0x000002A336871390>, 'Connection to www.presupuestoabierto.gob.ar timed out. (connect timeout=None)'))",
      "\nDuring handling of the above exception, another exception occurred:\n",
      "\u001b[1;31mConnectTimeout\u001b[0m                            Traceback (most recent call last)",
      "Cell \u001b[1;32mIn[5], line 27\u001b[0m\n\u001b[0;32m     14\u001b[0m data \u001b[38;5;241m=\u001b[39m {\n\u001b[0;32m     15\u001b[0m     \u001b[38;5;124m\"\u001b[39m\u001b[38;5;124mtitle\u001b[39m\u001b[38;5;124m\"\u001b[39m: \u001b[38;5;124m\"\u001b[39m\u001b[38;5;124mCredito vigente por jurisdiccion\u001b[39m\u001b[38;5;124m\"\u001b[39m,\n\u001b[0;32m     16\u001b[0m     \u001b[38;5;124m\"\u001b[39m\u001b[38;5;124mcolumns\u001b[39m\u001b[38;5;124m\"\u001b[39m: [\n\u001b[1;32m   (...)\u001b[0m\n\u001b[0;32m     23\u001b[0m     ]\n\u001b[0;32m     24\u001b[0m }\n\u001b[0;32m     26\u001b[0m \u001b[38;5;66;03m# Realizar la solicitud POST a la API\u001b[39;00m\n\u001b[1;32m---> 27\u001b[0m response \u001b[38;5;241m=\u001b[39m \u001b[43mrequests\u001b[49m\u001b[38;5;241;43m.\u001b[39;49m\u001b[43mpost\u001b[49m\u001b[43m(\u001b[49m\u001b[43murl\u001b[49m\u001b[43m,\u001b[49m\u001b[43m \u001b[49m\u001b[43mheaders\u001b[49m\u001b[38;5;241;43m=\u001b[39;49m\u001b[43mheaders\u001b[49m\u001b[43m,\u001b[49m\u001b[43m \u001b[49m\u001b[43mdata\u001b[49m\u001b[38;5;241;43m=\u001b[39;49m\u001b[43mjson\u001b[49m\u001b[38;5;241;43m.\u001b[39;49m\u001b[43mdumps\u001b[49m\u001b[43m(\u001b[49m\u001b[43mdata\u001b[49m\u001b[43m)\u001b[49m\u001b[43m)\u001b[49m\n\u001b[0;32m     30\u001b[0m \u001b[38;5;28;01mwith\u001b[39;00m \u001b[38;5;28mopen\u001b[39m(\u001b[38;5;124m'\u001b[39m\u001b[38;5;124mpresupuestos.csv\u001b[39m\u001b[38;5;124m'\u001b[39m, \u001b[38;5;124m'\u001b[39m\u001b[38;5;124mw\u001b[39m\u001b[38;5;124m'\u001b[39m, encoding\u001b[38;5;241m=\u001b[39m\u001b[38;5;124m'\u001b[39m\u001b[38;5;124mutf-8\u001b[39m\u001b[38;5;124m'\u001b[39m) \u001b[38;5;28;01mas\u001b[39;00m file:\n\u001b[0;32m     31\u001b[0m     file\u001b[38;5;241m.\u001b[39mwrite(response\u001b[38;5;241m.\u001b[39mtext)\n",
      "File \u001b[1;32mc:\\Users\\feder\\AppData\\Local\\Programs\\Python\\Python311\\Lib\\site-packages\\requests\\api.py:115\u001b[0m, in \u001b[0;36mpost\u001b[1;34m(url, data, json, **kwargs)\u001b[0m\n\u001b[0;32m    103\u001b[0m \u001b[38;5;28;01mdef\u001b[39;00m \u001b[38;5;21mpost\u001b[39m(url, data\u001b[38;5;241m=\u001b[39m\u001b[38;5;28;01mNone\u001b[39;00m, json\u001b[38;5;241m=\u001b[39m\u001b[38;5;28;01mNone\u001b[39;00m, \u001b[38;5;241m*\u001b[39m\u001b[38;5;241m*\u001b[39mkwargs):\n\u001b[0;32m    104\u001b[0m \u001b[38;5;250m    \u001b[39m\u001b[38;5;124mr\u001b[39m\u001b[38;5;124;03m\"\"\"Sends a POST request.\u001b[39;00m\n\u001b[0;32m    105\u001b[0m \n\u001b[0;32m    106\u001b[0m \u001b[38;5;124;03m    :param url: URL for the new :class:`Request` object.\u001b[39;00m\n\u001b[1;32m   (...)\u001b[0m\n\u001b[0;32m    112\u001b[0m \u001b[38;5;124;03m    :rtype: requests.Response\u001b[39;00m\n\u001b[0;32m    113\u001b[0m \u001b[38;5;124;03m    \"\"\"\u001b[39;00m\n\u001b[1;32m--> 115\u001b[0m     \u001b[38;5;28;01mreturn\u001b[39;00m \u001b[43mrequest\u001b[49m\u001b[43m(\u001b[49m\u001b[38;5;124;43m\"\u001b[39;49m\u001b[38;5;124;43mpost\u001b[39;49m\u001b[38;5;124;43m\"\u001b[39;49m\u001b[43m,\u001b[49m\u001b[43m \u001b[49m\u001b[43murl\u001b[49m\u001b[43m,\u001b[49m\u001b[43m \u001b[49m\u001b[43mdata\u001b[49m\u001b[38;5;241;43m=\u001b[39;49m\u001b[43mdata\u001b[49m\u001b[43m,\u001b[49m\u001b[43m \u001b[49m\u001b[43mjson\u001b[49m\u001b[38;5;241;43m=\u001b[39;49m\u001b[43mjson\u001b[49m\u001b[43m,\u001b[49m\u001b[43m \u001b[49m\u001b[38;5;241;43m*\u001b[39;49m\u001b[38;5;241;43m*\u001b[39;49m\u001b[43mkwargs\u001b[49m\u001b[43m)\u001b[49m\n",
      "File \u001b[1;32mc:\\Users\\feder\\AppData\\Local\\Programs\\Python\\Python311\\Lib\\site-packages\\requests\\api.py:59\u001b[0m, in \u001b[0;36mrequest\u001b[1;34m(method, url, **kwargs)\u001b[0m\n\u001b[0;32m     55\u001b[0m \u001b[38;5;66;03m# By using the 'with' statement we are sure the session is closed, thus we\u001b[39;00m\n\u001b[0;32m     56\u001b[0m \u001b[38;5;66;03m# avoid leaving sockets open which can trigger a ResourceWarning in some\u001b[39;00m\n\u001b[0;32m     57\u001b[0m \u001b[38;5;66;03m# cases, and look like a memory leak in others.\u001b[39;00m\n\u001b[0;32m     58\u001b[0m \u001b[38;5;28;01mwith\u001b[39;00m sessions\u001b[38;5;241m.\u001b[39mSession() \u001b[38;5;28;01mas\u001b[39;00m session:\n\u001b[1;32m---> 59\u001b[0m     \u001b[38;5;28;01mreturn\u001b[39;00m \u001b[43msession\u001b[49m\u001b[38;5;241;43m.\u001b[39;49m\u001b[43mrequest\u001b[49m\u001b[43m(\u001b[49m\u001b[43mmethod\u001b[49m\u001b[38;5;241;43m=\u001b[39;49m\u001b[43mmethod\u001b[49m\u001b[43m,\u001b[49m\u001b[43m \u001b[49m\u001b[43murl\u001b[49m\u001b[38;5;241;43m=\u001b[39;49m\u001b[43murl\u001b[49m\u001b[43m,\u001b[49m\u001b[43m \u001b[49m\u001b[38;5;241;43m*\u001b[39;49m\u001b[38;5;241;43m*\u001b[39;49m\u001b[43mkwargs\u001b[49m\u001b[43m)\u001b[49m\n",
      "File \u001b[1;32mc:\\Users\\feder\\AppData\\Local\\Programs\\Python\\Python311\\Lib\\site-packages\\requests\\sessions.py:589\u001b[0m, in \u001b[0;36mSession.request\u001b[1;34m(self, method, url, params, data, headers, cookies, files, auth, timeout, allow_redirects, proxies, hooks, stream, verify, cert, json)\u001b[0m\n\u001b[0;32m    584\u001b[0m send_kwargs \u001b[38;5;241m=\u001b[39m {\n\u001b[0;32m    585\u001b[0m     \u001b[38;5;124m\"\u001b[39m\u001b[38;5;124mtimeout\u001b[39m\u001b[38;5;124m\"\u001b[39m: timeout,\n\u001b[0;32m    586\u001b[0m     \u001b[38;5;124m\"\u001b[39m\u001b[38;5;124mallow_redirects\u001b[39m\u001b[38;5;124m\"\u001b[39m: allow_redirects,\n\u001b[0;32m    587\u001b[0m }\n\u001b[0;32m    588\u001b[0m send_kwargs\u001b[38;5;241m.\u001b[39mupdate(settings)\n\u001b[1;32m--> 589\u001b[0m resp \u001b[38;5;241m=\u001b[39m \u001b[38;5;28;43mself\u001b[39;49m\u001b[38;5;241;43m.\u001b[39;49m\u001b[43msend\u001b[49m\u001b[43m(\u001b[49m\u001b[43mprep\u001b[49m\u001b[43m,\u001b[49m\u001b[43m \u001b[49m\u001b[38;5;241;43m*\u001b[39;49m\u001b[38;5;241;43m*\u001b[39;49m\u001b[43msend_kwargs\u001b[49m\u001b[43m)\u001b[49m\n\u001b[0;32m    591\u001b[0m \u001b[38;5;28;01mreturn\u001b[39;00m resp\n",
      "File \u001b[1;32mc:\\Users\\feder\\AppData\\Local\\Programs\\Python\\Python311\\Lib\\site-packages\\requests\\sessions.py:703\u001b[0m, in \u001b[0;36mSession.send\u001b[1;34m(self, request, **kwargs)\u001b[0m\n\u001b[0;32m    700\u001b[0m start \u001b[38;5;241m=\u001b[39m preferred_clock()\n\u001b[0;32m    702\u001b[0m \u001b[38;5;66;03m# Send the request\u001b[39;00m\n\u001b[1;32m--> 703\u001b[0m r \u001b[38;5;241m=\u001b[39m \u001b[43madapter\u001b[49m\u001b[38;5;241;43m.\u001b[39;49m\u001b[43msend\u001b[49m\u001b[43m(\u001b[49m\u001b[43mrequest\u001b[49m\u001b[43m,\u001b[49m\u001b[43m \u001b[49m\u001b[38;5;241;43m*\u001b[39;49m\u001b[38;5;241;43m*\u001b[39;49m\u001b[43mkwargs\u001b[49m\u001b[43m)\u001b[49m\n\u001b[0;32m    705\u001b[0m \u001b[38;5;66;03m# Total elapsed time of the request (approximately)\u001b[39;00m\n\u001b[0;32m    706\u001b[0m elapsed \u001b[38;5;241m=\u001b[39m preferred_clock() \u001b[38;5;241m-\u001b[39m start\n",
      "File \u001b[1;32mc:\\Users\\feder\\AppData\\Local\\Programs\\Python\\Python311\\Lib\\site-packages\\requests\\adapters.py:507\u001b[0m, in \u001b[0;36mHTTPAdapter.send\u001b[1;34m(self, request, stream, timeout, verify, cert, proxies)\u001b[0m\n\u001b[0;32m    504\u001b[0m \u001b[38;5;28;01mif\u001b[39;00m \u001b[38;5;28misinstance\u001b[39m(e\u001b[38;5;241m.\u001b[39mreason, ConnectTimeoutError):\n\u001b[0;32m    505\u001b[0m     \u001b[38;5;66;03m# TODO: Remove this in 3.0.0: see #2811\u001b[39;00m\n\u001b[0;32m    506\u001b[0m     \u001b[38;5;28;01mif\u001b[39;00m \u001b[38;5;129;01mnot\u001b[39;00m \u001b[38;5;28misinstance\u001b[39m(e\u001b[38;5;241m.\u001b[39mreason, NewConnectionError):\n\u001b[1;32m--> 507\u001b[0m         \u001b[38;5;28;01mraise\u001b[39;00m ConnectTimeout(e, request\u001b[38;5;241m=\u001b[39mrequest)\n\u001b[0;32m    509\u001b[0m \u001b[38;5;28;01mif\u001b[39;00m \u001b[38;5;28misinstance\u001b[39m(e\u001b[38;5;241m.\u001b[39mreason, ResponseError):\n\u001b[0;32m    510\u001b[0m     \u001b[38;5;28;01mraise\u001b[39;00m RetryError(e, request\u001b[38;5;241m=\u001b[39mrequest)\n",
      "\u001b[1;31mConnectTimeout\u001b[0m: HTTPSConnectionPool(host='www.presupuestoabierto.gob.ar', port=443): Max retries exceeded with url: /api/v1/credito?format=csv (Caused by ConnectTimeoutError(<urllib3.connection.HTTPSConnection object at 0x000002A336871390>, 'Connection to www.presupuestoabierto.gob.ar timed out. (connect timeout=None)'))"
     ]
    }
   ],
   "source": [
    "import requests\n",
    "import json\n",
    "import pandas as pd\n",
    "# URL del endpoint de la API\n",
    "url = \"https://www.presupuestoabierto.gob.ar/api/v1/credito?format=csv\"\n",
    "\n",
    "# Cabeceras de la solicitud\n",
    "headers = {\n",
    "    'Authorization': 'ee7f6d62-90ad-4a31-8db0-844acf12ee27',  # Reemplaza con tu token\n",
    "    'Content-Type': 'application/json'\n",
    "}\n",
    "\n",
    "# Datos de la solicitud\n",
    "data = {\n",
    "    \"title\": \"Credito vigente por jurisdiccion\",\n",
    "    \"columns\": [\n",
    "        \"impacto_presupuestario_mes\",\n",
    "        \"jurisdiccion_desc\",\n",
    "        \"finalidad_desc\",\n",
    "        \"fuente_financiamiento_desc\",\n",
    "        \"ubicacion_geografica_desc\",\n",
    "        \"credito_vigente\"\n",
    "    ]\n",
    "}\n",
    "\n",
    "# Realizar la solicitud POST a la API\n",
    "response = requests.post(url, headers=headers, data=json.dumps(data))\n",
    "\n",
    "\n",
    "with open('presupuestos.csv', 'w', encoding='utf-8') as file:\n",
    "    file.write(response.text)\n",
    "df=pd.read_csv('presupuestos.csv',encoding='utf-8')\n",
    "df"
   ]
  },
  {
   "cell_type": "code",
   "execution_count": 8,
   "metadata": {},
   "outputs": [
    {
     "name": "stderr",
     "output_type": "stream",
     "text": [
      "C:\\Users\\feder\\AppData\\Local\\Temp\\ipykernel_7100\\855307051.py:29: FutureWarning: The default value of numeric_only in DataFrameGroupBy.sum is deprecated. In a future version, numeric_only will default to False. Either specify numeric_only or select only columns which should be valid for the function.\n",
      "  df1=df.groupby(by=['ubicacion_geografica_desc']).sum()#.reset_index()\n"
     ]
    },
    {
     "data": {
      "text/html": [
       "<div>\n",
       "<style scoped>\n",
       "    .dataframe tbody tr th:only-of-type {\n",
       "        vertical-align: middle;\n",
       "    }\n",
       "\n",
       "    .dataframe tbody tr th {\n",
       "        vertical-align: top;\n",
       "    }\n",
       "\n",
       "    .dataframe thead th {\n",
       "        text-align: right;\n",
       "    }\n",
       "</style>\n",
       "<table border=\"1\" class=\"dataframe\">\n",
       "  <thead>\n",
       "    <tr style=\"text-align: right;\">\n",
       "      <th></th>\n",
       "      <th>type</th>\n",
       "      <th>geometry.type</th>\n",
       "      <th>geometry.coordinates</th>\n",
       "      <th>properties.id</th>\n",
       "      <th>properties.nombre</th>\n",
       "      <th>properties.nombre_completo</th>\n",
       "      <th>properties.fuente</th>\n",
       "      <th>properties.categoria</th>\n",
       "      <th>properties.centroide.lon</th>\n",
       "      <th>properties.centroide.lat</th>\n",
       "      <th>properties.iso_id</th>\n",
       "      <th>properties.iso_nombre</th>\n",
       "      <th>ubicacion_geografica_desc</th>\n",
       "      <th>impacto_presupuestario_mes</th>\n",
       "      <th>credito_vigente</th>\n",
       "      <th>%</th>\n",
       "    </tr>\n",
       "  </thead>\n",
       "  <tbody>\n",
       "    <tr>\n",
       "      <th>0</th>\n",
       "      <td>Feature</td>\n",
       "      <td>Polygon</td>\n",
       "      <td>[[[-70.393406682, -36.156241237], [-70.3949855...</td>\n",
       "      <td>58</td>\n",
       "      <td>Neuquén</td>\n",
       "      <td>Provincia del Neuquén</td>\n",
       "      <td>IGN</td>\n",
       "      <td>Provincia</td>\n",
       "      <td>-70.119897</td>\n",
       "      <td>-38.641983</td>\n",
       "      <td>AR-Q</td>\n",
       "      <td>Neuquén</td>\n",
       "      <td>Neuquén</td>\n",
       "      <td>833</td>\n",
       "      <td>4.187527e+05</td>\n",
       "      <td>0.759584</td>\n",
       "    </tr>\n",
       "    <tr>\n",
       "      <th>1</th>\n",
       "      <td>Feature</td>\n",
       "      <td>Polygon</td>\n",
       "      <td>[[[-67.055470113, -31.856052635], [-67.0059302...</td>\n",
       "      <td>74</td>\n",
       "      <td>San Luis</td>\n",
       "      <td>Provincia de San Luis</td>\n",
       "      <td>IGN</td>\n",
       "      <td>Provincia</td>\n",
       "      <td>-66.025231</td>\n",
       "      <td>-33.761104</td>\n",
       "      <td>AR-D</td>\n",
       "      <td>San Luis</td>\n",
       "      <td>San Luis</td>\n",
       "      <td>720</td>\n",
       "      <td>4.359788e+05</td>\n",
       "      <td>0.790831</td>\n",
       "    </tr>\n",
       "    <tr>\n",
       "      <th>2</th>\n",
       "      <td>Feature</td>\n",
       "      <td>Polygon</td>\n",
       "      <td>[[[-61.046389631, -27.9980009399999], [-58.884...</td>\n",
       "      <td>82</td>\n",
       "      <td>Santa Fe</td>\n",
       "      <td>Provincia de Santa Fe</td>\n",
       "      <td>IGN</td>\n",
       "      <td>Provincia</td>\n",
       "      <td>-60.950687</td>\n",
       "      <td>-30.708823</td>\n",
       "      <td>AR-S</td>\n",
       "      <td>Santa Fe</td>\n",
       "      <td>Santa Fe</td>\n",
       "      <td>967</td>\n",
       "      <td>1.664028e+06</td>\n",
       "      <td>3.018416</td>\n",
       "    </tr>\n",
       "    <tr>\n",
       "      <th>3</th>\n",
       "      <td>Feature</td>\n",
       "      <td>Polygon</td>\n",
       "      <td>[[[-68.521356179, -27.8179169699999], [-68.510...</td>\n",
       "      <td>46</td>\n",
       "      <td>La Rioja</td>\n",
       "      <td>Provincia de La Rioja</td>\n",
       "      <td>IGN</td>\n",
       "      <td>Provincia</td>\n",
       "      <td>-67.181758</td>\n",
       "      <td>-29.684937</td>\n",
       "      <td>AR-F</td>\n",
       "      <td>La Rioja</td>\n",
       "      <td>La Rioja</td>\n",
       "      <td>701</td>\n",
       "      <td>3.883016e+05</td>\n",
       "      <td>0.704349</td>\n",
       "    </tr>\n",
       "    <tr>\n",
       "      <th>4</th>\n",
       "      <td>Feature</td>\n",
       "      <td>Polygon</td>\n",
       "      <td>[[[-68.5053654399999, -25.168509816], [-67.864...</td>\n",
       "      <td>10</td>\n",
       "      <td>Catamarca</td>\n",
       "      <td>Provincia de Catamarca</td>\n",
       "      <td>IGN</td>\n",
       "      <td>Provincia</td>\n",
       "      <td>-66.947897</td>\n",
       "      <td>-27.335954</td>\n",
       "      <td>AR-K</td>\n",
       "      <td>Catamarca</td>\n",
       "      <td>Catamarca</td>\n",
       "      <td>686</td>\n",
       "      <td>4.199475e+05</td>\n",
       "      <td>0.761752</td>\n",
       "    </tr>\n",
       "    <tr>\n",
       "      <th>5</th>\n",
       "      <td>Feature</td>\n",
       "      <td>Polygon</td>\n",
       "      <td>[[[-65.3591542509999, -26.0594376889999], [-65...</td>\n",
       "      <td>90</td>\n",
       "      <td>Tucumán</td>\n",
       "      <td>Provincia de Tucumán</td>\n",
       "      <td>IGN</td>\n",
       "      <td>Provincia</td>\n",
       "      <td>-65.364766</td>\n",
       "      <td>-26.948284</td>\n",
       "      <td>AR-T</td>\n",
       "      <td>Tucumán</td>\n",
       "      <td>Tucumán</td>\n",
       "      <td>855</td>\n",
       "      <td>1.022367e+06</td>\n",
       "      <td>1.854494</td>\n",
       "    </tr>\n",
       "    <tr>\n",
       "      <th>6</th>\n",
       "      <td>Feature</td>\n",
       "      <td>Polygon</td>\n",
       "      <td>[[[-62.3243395499999, -24.1231840889999], [-62...</td>\n",
       "      <td>22</td>\n",
       "      <td>Chaco</td>\n",
       "      <td>Provincia del Chaco</td>\n",
       "      <td>IGN</td>\n",
       "      <td>Provincia</td>\n",
       "      <td>-60.765116</td>\n",
       "      <td>-26.386987</td>\n",
       "      <td>AR-H</td>\n",
       "      <td>Chaco</td>\n",
       "      <td>Chaco</td>\n",
       "      <td>820</td>\n",
       "      <td>6.173304e+05</td>\n",
       "      <td>1.119789</td>\n",
       "    </tr>\n",
       "    <tr>\n",
       "      <th>7</th>\n",
       "      <td>Feature</td>\n",
       "      <td>Polygon</td>\n",
       "      <td>[[[-62.312005272, -22.4866595899999], [-62.290...</td>\n",
       "      <td>34</td>\n",
       "      <td>Formosa</td>\n",
       "      <td>Provincia de Formosa</td>\n",
       "      <td>IGN</td>\n",
       "      <td>Provincia</td>\n",
       "      <td>-59.932190</td>\n",
       "      <td>-24.895087</td>\n",
       "      <td>AR-P</td>\n",
       "      <td>Formosa</td>\n",
       "      <td>Formosa</td>\n",
       "      <td>685</td>\n",
       "      <td>3.014772e+05</td>\n",
       "      <td>0.546856</td>\n",
       "    </tr>\n",
       "    <tr>\n",
       "      <th>8</th>\n",
       "      <td>Feature</td>\n",
       "      <td>MultiPolygon</td>\n",
       "      <td>[[[[-67.593607919, -46.017442156], [-67.585965...</td>\n",
       "      <td>78</td>\n",
       "      <td>Santa Cruz</td>\n",
       "      <td>Provincia de Santa Cruz</td>\n",
       "      <td>IGN</td>\n",
       "      <td>Provincia</td>\n",
       "      <td>-69.955762</td>\n",
       "      <td>-48.815547</td>\n",
       "      <td>AR-Z</td>\n",
       "      <td>Santa Cruz</td>\n",
       "      <td>Santa Cruz</td>\n",
       "      <td>843</td>\n",
       "      <td>4.151853e+05</td>\n",
       "      <td>0.753113</td>\n",
       "    </tr>\n",
       "    <tr>\n",
       "      <th>9</th>\n",
       "      <td>Feature</td>\n",
       "      <td>MultiPolygon</td>\n",
       "      <td>[[[[-67.75056885, -41.99998806], [-65.06925398...</td>\n",
       "      <td>26</td>\n",
       "      <td>Chubut</td>\n",
       "      <td>Provincia del Chubut</td>\n",
       "      <td>IGN</td>\n",
       "      <td>Provincia</td>\n",
       "      <td>-68.526736</td>\n",
       "      <td>-43.788627</td>\n",
       "      <td>AR-U</td>\n",
       "      <td>Chubut</td>\n",
       "      <td>Chubut</td>\n",
       "      <td>862</td>\n",
       "      <td>4.780174e+05</td>\n",
       "      <td>0.867086</td>\n",
       "    </tr>\n",
       "    <tr>\n",
       "      <th>10</th>\n",
       "      <td>Feature</td>\n",
       "      <td>Polygon</td>\n",
       "      <td>[[[-70.107965254, -32.799052729], [-70.1125588...</td>\n",
       "      <td>50</td>\n",
       "      <td>Mendoza</td>\n",
       "      <td>Provincia de Mendoza</td>\n",
       "      <td>IGN</td>\n",
       "      <td>Provincia</td>\n",
       "      <td>-68.582946</td>\n",
       "      <td>-34.630389</td>\n",
       "      <td>AR-M</td>\n",
       "      <td>Mendoza</td>\n",
       "      <td>Mendoza</td>\n",
       "      <td>864</td>\n",
       "      <td>1.137091e+06</td>\n",
       "      <td>2.062594</td>\n",
       "    </tr>\n",
       "    <tr>\n",
       "      <th>11</th>\n",
       "      <td>Feature</td>\n",
       "      <td>Polygon</td>\n",
       "      <td>[[[-58.58534209, -30.159017677], [-58.49656240...</td>\n",
       "      <td>30</td>\n",
       "      <td>Entre Ríos</td>\n",
       "      <td>Provincia de Entre Ríos</td>\n",
       "      <td>IGN</td>\n",
       "      <td>Provincia</td>\n",
       "      <td>-59.201263</td>\n",
       "      <td>-32.058928</td>\n",
       "      <td>AR-E</td>\n",
       "      <td>Entre Ríos</td>\n",
       "      <td>Entre Ríos</td>\n",
       "      <td>865</td>\n",
       "      <td>6.475182e+05</td>\n",
       "      <td>1.174547</td>\n",
       "    </tr>\n",
       "    <tr>\n",
       "      <th>12</th>\n",
       "      <td>Feature</td>\n",
       "      <td>Polygon</td>\n",
       "      <td>[[[-70.081086113, -30.379269274], [-70.0632057...</td>\n",
       "      <td>70</td>\n",
       "      <td>San Juan</td>\n",
       "      <td>Provincia de San Juan</td>\n",
       "      <td>IGN</td>\n",
       "      <td>Provincia</td>\n",
       "      <td>-68.888160</td>\n",
       "      <td>-30.865661</td>\n",
       "      <td>AR-J</td>\n",
       "      <td>San Juan</td>\n",
       "      <td>San Juan</td>\n",
       "      <td>769</td>\n",
       "      <td>5.038973e+05</td>\n",
       "      <td>0.914030</td>\n",
       "    </tr>\n",
       "    <tr>\n",
       "      <th>13</th>\n",
       "      <td>Feature</td>\n",
       "      <td>Polygon</td>\n",
       "      <td>[[[-66.2076609219999, -21.788354163], [-66.076...</td>\n",
       "      <td>38</td>\n",
       "      <td>Jujuy</td>\n",
       "      <td>Provincia de Jujuy</td>\n",
       "      <td>IGN</td>\n",
       "      <td>Provincia</td>\n",
       "      <td>-65.764424</td>\n",
       "      <td>-23.319975</td>\n",
       "      <td>AR-Y</td>\n",
       "      <td>Jujuy</td>\n",
       "      <td>Jujuy</td>\n",
       "      <td>793</td>\n",
       "      <td>6.280632e+05</td>\n",
       "      <td>1.139257</td>\n",
       "    </tr>\n",
       "    <tr>\n",
       "      <th>14</th>\n",
       "      <td>Feature</td>\n",
       "      <td>Polygon</td>\n",
       "      <td>[[[-62.3791313, -25.65194996], [-61.71181555, ...</td>\n",
       "      <td>86</td>\n",
       "      <td>Santiago del Estero</td>\n",
       "      <td>Provincia de Santiago del Estero</td>\n",
       "      <td>IGN</td>\n",
       "      <td>Provincia</td>\n",
       "      <td>-63.252627</td>\n",
       "      <td>-27.783432</td>\n",
       "      <td>AR-G</td>\n",
       "      <td>Santiago del Estero</td>\n",
       "      <td>Santiago del Estero</td>\n",
       "      <td>751</td>\n",
       "      <td>6.437305e+05</td>\n",
       "      <td>1.167676</td>\n",
       "    </tr>\n",
       "    <tr>\n",
       "      <th>15</th>\n",
       "      <td>Feature</td>\n",
       "      <td>MultiPolygon</td>\n",
       "      <td>[[[[-68.238288086, -37.58521798], [-68.1525442...</td>\n",
       "      <td>62</td>\n",
       "      <td>Río Negro</td>\n",
       "      <td>Provincia de Río Negro</td>\n",
       "      <td>IGN</td>\n",
       "      <td>Provincia</td>\n",
       "      <td>-67.229676</td>\n",
       "      <td>-40.405080</td>\n",
       "      <td>AR-R</td>\n",
       "      <td>Río Negro</td>\n",
       "      <td>Río Negro</td>\n",
       "      <td>906</td>\n",
       "      <td>7.295477e+05</td>\n",
       "      <td>1.323342</td>\n",
       "    </tr>\n",
       "    <tr>\n",
       "      <th>16</th>\n",
       "      <td>Feature</td>\n",
       "      <td>MultiPolygon</td>\n",
       "      <td>[[[[-57.01171062, -27.487094774], [-56.9696302...</td>\n",
       "      <td>18</td>\n",
       "      <td>Corrientes</td>\n",
       "      <td>Provincia de Corrientes</td>\n",
       "      <td>IGN</td>\n",
       "      <td>Provincia</td>\n",
       "      <td>-57.801082</td>\n",
       "      <td>-28.774204</td>\n",
       "      <td>AR-W</td>\n",
       "      <td>Corrientes</td>\n",
       "      <td>Corrientes</td>\n",
       "      <td>878</td>\n",
       "      <td>6.400145e+05</td>\n",
       "      <td>1.160936</td>\n",
       "    </tr>\n",
       "    <tr>\n",
       "      <th>17</th>\n",
       "      <td>Feature</td>\n",
       "      <td>MultiPolygon</td>\n",
       "      <td>[[[[-54.109057346, -25.539824102], [-54.123582...</td>\n",
       "      <td>54</td>\n",
       "      <td>Misiones</td>\n",
       "      <td>Provincia de Misiones</td>\n",
       "      <td>IGN</td>\n",
       "      <td>Provincia</td>\n",
       "      <td>-54.651571</td>\n",
       "      <td>-26.875303</td>\n",
       "      <td>AR-N</td>\n",
       "      <td>Misiones</td>\n",
       "      <td>Misiones</td>\n",
       "      <td>885</td>\n",
       "      <td>6.842948e+05</td>\n",
       "      <td>1.241257</td>\n",
       "    </tr>\n",
       "    <tr>\n",
       "      <th>18</th>\n",
       "      <td>Feature</td>\n",
       "      <td>Polygon</td>\n",
       "      <td>[[[-63.978730211, -22.086064941], [-63.9753230...</td>\n",
       "      <td>66</td>\n",
       "      <td>Salta</td>\n",
       "      <td>Provincia de Salta</td>\n",
       "      <td>IGN</td>\n",
       "      <td>Provincia</td>\n",
       "      <td>-64.814159</td>\n",
       "      <td>-24.299284</td>\n",
       "      <td>AR-A</td>\n",
       "      <td>Salta</td>\n",
       "      <td>Salta</td>\n",
       "      <td>907</td>\n",
       "      <td>7.483465e+05</td>\n",
       "      <td>1.357442</td>\n",
       "    </tr>\n",
       "    <tr>\n",
       "      <th>19</th>\n",
       "      <td>Feature</td>\n",
       "      <td>Polygon</td>\n",
       "      <td>[[[-63.894307909, -29.62859596], [-63.87385556...</td>\n",
       "      <td>14</td>\n",
       "      <td>Córdoba</td>\n",
       "      <td>Provincia de Córdoba</td>\n",
       "      <td>IGN</td>\n",
       "      <td>Provincia</td>\n",
       "      <td>-63.801973</td>\n",
       "      <td>-32.144799</td>\n",
       "      <td>AR-X</td>\n",
       "      <td>Córdoba</td>\n",
       "      <td>Córdoba</td>\n",
       "      <td>1032</td>\n",
       "      <td>1.758775e+06</td>\n",
       "      <td>3.190279</td>\n",
       "    </tr>\n",
       "    <tr>\n",
       "      <th>20</th>\n",
       "      <td>Feature</td>\n",
       "      <td>MultiPolygon</td>\n",
       "      <td>[[[[-60.240910593, -33.272853577], [-60.200683...</td>\n",
       "      <td>06</td>\n",
       "      <td>Buenos Aires</td>\n",
       "      <td>Provincia de Buenos Aires</td>\n",
       "      <td>IGN</td>\n",
       "      <td>Provincia</td>\n",
       "      <td>-60.558477</td>\n",
       "      <td>-36.677392</td>\n",
       "      <td>AR-B</td>\n",
       "      <td>Buenos Aires</td>\n",
       "      <td>Buenos Aires</td>\n",
       "      <td>1264</td>\n",
       "      <td>1.058835e+07</td>\n",
       "      <td>19.206439</td>\n",
       "    </tr>\n",
       "    <tr>\n",
       "      <th>21</th>\n",
       "      <td>Feature</td>\n",
       "      <td>Polygon</td>\n",
       "      <td>[[[-63.3858841479999, -35.0109279059999], [-63...</td>\n",
       "      <td>42</td>\n",
       "      <td>La Pampa</td>\n",
       "      <td>Provincia de La Pampa</td>\n",
       "      <td>IGN</td>\n",
       "      <td>Provincia</td>\n",
       "      <td>-65.447644</td>\n",
       "      <td>-37.135065</td>\n",
       "      <td>AR-L</td>\n",
       "      <td>La Pampa</td>\n",
       "      <td>La Pampa</td>\n",
       "      <td>738</td>\n",
       "      <td>4.124366e+05</td>\n",
       "      <td>0.748127</td>\n",
       "    </tr>\n",
       "    <tr>\n",
       "      <th>22</th>\n",
       "      <td>Feature</td>\n",
       "      <td>MultiPolygon</td>\n",
       "      <td>[[[[-72.7567969999999, -77.5773819999999], [-7...</td>\n",
       "      <td>94</td>\n",
       "      <td>Tierra del Fuego, Antártida e Islas del Atlánt...</td>\n",
       "      <td>Provincia de Tierra del Fuego, Antártida e Isl...</td>\n",
       "      <td>IGN</td>\n",
       "      <td>Provincia</td>\n",
       "      <td>-50.742861</td>\n",
       "      <td>-82.521135</td>\n",
       "      <td>AR-V</td>\n",
       "      <td>Tierra del Fuego</td>\n",
       "      <td>Tierra del Fuego, Antártida e Islas del Atlánt...</td>\n",
       "      <td>787</td>\n",
       "      <td>2.290853e+05</td>\n",
       "      <td>0.415543</td>\n",
       "    </tr>\n",
       "  </tbody>\n",
       "</table>\n",
       "</div>"
      ],
      "text/plain": [
       "       type geometry.type                               geometry.coordinates  \\\n",
       "0   Feature       Polygon  [[[-70.393406682, -36.156241237], [-70.3949855...   \n",
       "1   Feature       Polygon  [[[-67.055470113, -31.856052635], [-67.0059302...   \n",
       "2   Feature       Polygon  [[[-61.046389631, -27.9980009399999], [-58.884...   \n",
       "3   Feature       Polygon  [[[-68.521356179, -27.8179169699999], [-68.510...   \n",
       "4   Feature       Polygon  [[[-68.5053654399999, -25.168509816], [-67.864...   \n",
       "5   Feature       Polygon  [[[-65.3591542509999, -26.0594376889999], [-65...   \n",
       "6   Feature       Polygon  [[[-62.3243395499999, -24.1231840889999], [-62...   \n",
       "7   Feature       Polygon  [[[-62.312005272, -22.4866595899999], [-62.290...   \n",
       "8   Feature  MultiPolygon  [[[[-67.593607919, -46.017442156], [-67.585965...   \n",
       "9   Feature  MultiPolygon  [[[[-67.75056885, -41.99998806], [-65.06925398...   \n",
       "10  Feature       Polygon  [[[-70.107965254, -32.799052729], [-70.1125588...   \n",
       "11  Feature       Polygon  [[[-58.58534209, -30.159017677], [-58.49656240...   \n",
       "12  Feature       Polygon  [[[-70.081086113, -30.379269274], [-70.0632057...   \n",
       "13  Feature       Polygon  [[[-66.2076609219999, -21.788354163], [-66.076...   \n",
       "14  Feature       Polygon  [[[-62.3791313, -25.65194996], [-61.71181555, ...   \n",
       "15  Feature  MultiPolygon  [[[[-68.238288086, -37.58521798], [-68.1525442...   \n",
       "16  Feature  MultiPolygon  [[[[-57.01171062, -27.487094774], [-56.9696302...   \n",
       "17  Feature  MultiPolygon  [[[[-54.109057346, -25.539824102], [-54.123582...   \n",
       "18  Feature       Polygon  [[[-63.978730211, -22.086064941], [-63.9753230...   \n",
       "19  Feature       Polygon  [[[-63.894307909, -29.62859596], [-63.87385556...   \n",
       "20  Feature  MultiPolygon  [[[[-60.240910593, -33.272853577], [-60.200683...   \n",
       "21  Feature       Polygon  [[[-63.3858841479999, -35.0109279059999], [-63...   \n",
       "22  Feature  MultiPolygon  [[[[-72.7567969999999, -77.5773819999999], [-7...   \n",
       "\n",
       "   properties.id                                  properties.nombre  \\\n",
       "0             58                                            Neuquén   \n",
       "1             74                                           San Luis   \n",
       "2             82                                           Santa Fe   \n",
       "3             46                                           La Rioja   \n",
       "4             10                                          Catamarca   \n",
       "5             90                                            Tucumán   \n",
       "6             22                                              Chaco   \n",
       "7             34                                            Formosa   \n",
       "8             78                                         Santa Cruz   \n",
       "9             26                                             Chubut   \n",
       "10            50                                            Mendoza   \n",
       "11            30                                         Entre Ríos   \n",
       "12            70                                           San Juan   \n",
       "13            38                                              Jujuy   \n",
       "14            86                                Santiago del Estero   \n",
       "15            62                                          Río Negro   \n",
       "16            18                                         Corrientes   \n",
       "17            54                                           Misiones   \n",
       "18            66                                              Salta   \n",
       "19            14                                            Córdoba   \n",
       "20            06                                       Buenos Aires   \n",
       "21            42                                           La Pampa   \n",
       "22            94  Tierra del Fuego, Antártida e Islas del Atlánt...   \n",
       "\n",
       "                           properties.nombre_completo properties.fuente  \\\n",
       "0                               Provincia del Neuquén               IGN   \n",
       "1                               Provincia de San Luis               IGN   \n",
       "2                               Provincia de Santa Fe               IGN   \n",
       "3                               Provincia de La Rioja               IGN   \n",
       "4                              Provincia de Catamarca               IGN   \n",
       "5                                Provincia de Tucumán               IGN   \n",
       "6                                 Provincia del Chaco               IGN   \n",
       "7                                Provincia de Formosa               IGN   \n",
       "8                             Provincia de Santa Cruz               IGN   \n",
       "9                                Provincia del Chubut               IGN   \n",
       "10                               Provincia de Mendoza               IGN   \n",
       "11                            Provincia de Entre Ríos               IGN   \n",
       "12                              Provincia de San Juan               IGN   \n",
       "13                                 Provincia de Jujuy               IGN   \n",
       "14                   Provincia de Santiago del Estero               IGN   \n",
       "15                             Provincia de Río Negro               IGN   \n",
       "16                            Provincia de Corrientes               IGN   \n",
       "17                              Provincia de Misiones               IGN   \n",
       "18                                 Provincia de Salta               IGN   \n",
       "19                               Provincia de Córdoba               IGN   \n",
       "20                          Provincia de Buenos Aires               IGN   \n",
       "21                              Provincia de La Pampa               IGN   \n",
       "22  Provincia de Tierra del Fuego, Antártida e Isl...               IGN   \n",
       "\n",
       "   properties.categoria  properties.centroide.lon  properties.centroide.lat  \\\n",
       "0             Provincia                -70.119897                -38.641983   \n",
       "1             Provincia                -66.025231                -33.761104   \n",
       "2             Provincia                -60.950687                -30.708823   \n",
       "3             Provincia                -67.181758                -29.684937   \n",
       "4             Provincia                -66.947897                -27.335954   \n",
       "5             Provincia                -65.364766                -26.948284   \n",
       "6             Provincia                -60.765116                -26.386987   \n",
       "7             Provincia                -59.932190                -24.895087   \n",
       "8             Provincia                -69.955762                -48.815547   \n",
       "9             Provincia                -68.526736                -43.788627   \n",
       "10            Provincia                -68.582946                -34.630389   \n",
       "11            Provincia                -59.201263                -32.058928   \n",
       "12            Provincia                -68.888160                -30.865661   \n",
       "13            Provincia                -65.764424                -23.319975   \n",
       "14            Provincia                -63.252627                -27.783432   \n",
       "15            Provincia                -67.229676                -40.405080   \n",
       "16            Provincia                -57.801082                -28.774204   \n",
       "17            Provincia                -54.651571                -26.875303   \n",
       "18            Provincia                -64.814159                -24.299284   \n",
       "19            Provincia                -63.801973                -32.144799   \n",
       "20            Provincia                -60.558477                -36.677392   \n",
       "21            Provincia                -65.447644                -37.135065   \n",
       "22            Provincia                -50.742861                -82.521135   \n",
       "\n",
       "   properties.iso_id properties.iso_nombre  \\\n",
       "0               AR-Q               Neuquén   \n",
       "1               AR-D              San Luis   \n",
       "2               AR-S              Santa Fe   \n",
       "3               AR-F              La Rioja   \n",
       "4               AR-K             Catamarca   \n",
       "5               AR-T               Tucumán   \n",
       "6               AR-H                 Chaco   \n",
       "7               AR-P               Formosa   \n",
       "8               AR-Z            Santa Cruz   \n",
       "9               AR-U                Chubut   \n",
       "10              AR-M               Mendoza   \n",
       "11              AR-E            Entre Ríos   \n",
       "12              AR-J              San Juan   \n",
       "13              AR-Y                 Jujuy   \n",
       "14              AR-G   Santiago del Estero   \n",
       "15              AR-R             Río Negro   \n",
       "16              AR-W            Corrientes   \n",
       "17              AR-N              Misiones   \n",
       "18              AR-A                 Salta   \n",
       "19              AR-X               Córdoba   \n",
       "20              AR-B          Buenos Aires   \n",
       "21              AR-L              La Pampa   \n",
       "22              AR-V      Tierra del Fuego   \n",
       "\n",
       "                            ubicacion_geografica_desc  \\\n",
       "0                                             Neuquén   \n",
       "1                                            San Luis   \n",
       "2                                            Santa Fe   \n",
       "3                                            La Rioja   \n",
       "4                                           Catamarca   \n",
       "5                                             Tucumán   \n",
       "6                                               Chaco   \n",
       "7                                             Formosa   \n",
       "8                                          Santa Cruz   \n",
       "9                                              Chubut   \n",
       "10                                            Mendoza   \n",
       "11                                         Entre Ríos   \n",
       "12                                           San Juan   \n",
       "13                                              Jujuy   \n",
       "14                                Santiago del Estero   \n",
       "15                                          Río Negro   \n",
       "16                                         Corrientes   \n",
       "17                                           Misiones   \n",
       "18                                              Salta   \n",
       "19                                            Córdoba   \n",
       "20                                       Buenos Aires   \n",
       "21                                           La Pampa   \n",
       "22  Tierra del Fuego, Antártida e Islas del Atlánt...   \n",
       "\n",
       "    impacto_presupuestario_mes  credito_vigente          %  \n",
       "0                          833     4.187527e+05   0.759584  \n",
       "1                          720     4.359788e+05   0.790831  \n",
       "2                          967     1.664028e+06   3.018416  \n",
       "3                          701     3.883016e+05   0.704349  \n",
       "4                          686     4.199475e+05   0.761752  \n",
       "5                          855     1.022367e+06   1.854494  \n",
       "6                          820     6.173304e+05   1.119789  \n",
       "7                          685     3.014772e+05   0.546856  \n",
       "8                          843     4.151853e+05   0.753113  \n",
       "9                          862     4.780174e+05   0.867086  \n",
       "10                         864     1.137091e+06   2.062594  \n",
       "11                         865     6.475182e+05   1.174547  \n",
       "12                         769     5.038973e+05   0.914030  \n",
       "13                         793     6.280632e+05   1.139257  \n",
       "14                         751     6.437305e+05   1.167676  \n",
       "15                         906     7.295477e+05   1.323342  \n",
       "16                         878     6.400145e+05   1.160936  \n",
       "17                         885     6.842948e+05   1.241257  \n",
       "18                         907     7.483465e+05   1.357442  \n",
       "19                        1032     1.758775e+06   3.190279  \n",
       "20                        1264     1.058835e+07  19.206439  \n",
       "21                         738     4.124366e+05   0.748127  \n",
       "22                         787     2.290853e+05   0.415543  "
      ]
     },
     "execution_count": 8,
     "metadata": {},
     "output_type": "execute_result"
    }
   ],
   "source": [
    "import pandas as pd\n",
    "import json\n",
    "provincias={'Ciudad Autónoma de Buenos Aires':'Capital Federal',\n",
    " 'Provincia de Buenos Aires':'Buenos Aires',\n",
    " 'Provincia de Catamarca':'Catamarca',\n",
    " 'Provincia de Corrientes':'Corrientes',\n",
    " 'Provincia de Córdoba':'Córdoba',\n",
    " 'Provincia de Entre Ríos':'Entre Ríos',\n",
    " 'Provincia de Formosa':'Formosa',\n",
    " 'Provincia de Jujuy':'Jujuy',\n",
    " 'Provincia de La Pampa':'La Pampa',\n",
    " 'Provincia de La Rioja':'La Rioja',\n",
    " 'Provincia de Mendoza':'Mendoza',\n",
    " 'Provincia de Misiones':'Misiones',\n",
    " 'Provincia de Río Negro':'Río Negro',\n",
    " 'Provincia de Salta':'Salta',\n",
    " 'Provincia de San Juan':'San Juan',\n",
    " 'Provincia de San Luis':'San Luis',\n",
    " 'Provincia de Santa Cruz':'Santa Cruz',\n",
    " 'Provincia de Santa Fe':'Santa Fe',\n",
    " 'Provincia de Santiago del Estero':'Santiago del Estero',\n",
    " 'Provincia de Tierra del Fuego, Antártida e Islas del Atlántico Sur':'Tierra del Fuego, Antártida e Islas del Atlántico Sur',\n",
    " 'Provincia de Tucumán':'Tucumán',\n",
    " 'Provincia del Chaco':'Chaco',\n",
    " 'Provincia del Chubut':'Chubut',\n",
    " 'Provincia del Neuquén':'Neuquén'}\n",
    "df=pd.read_csv('presupuestos.csv',encoding='utf-8')\n",
    "\n",
    "df1=df.groupby(by=['ubicacion_geografica_desc']).sum()#.reset_index()\n",
    "df1['%']=100*df1['credito_vigente']/df1['credito_vigente'].sum()\n",
    "extras=df1.iloc[0:4]\n",
    "df1=df1.drop(index=['Binacional','No Clasificado','Interprovincial','Nacional'],)\n",
    "df1=df1.reset_index()\n",
    "df1['ubicacion_geografica_desc'] = df1['ubicacion_geografica_desc'].replace(provincias)\n",
    "\n",
    "\n",
    "geo=json.load(open('provincias.geojson', encoding='utf-8'))\n",
    "provincias_geo_df = pd.json_normalize(geo['features'])\n",
    "#provincias_geo_df['properties.nombre'] = 'Provincia de ' + provincias_geo_df['properties.nombre']\n",
    "\n",
    "merged_df = provincias_geo_df.merge(df1, left_on='properties.nombre', right_on='ubicacion_geografica_desc')\n",
    "merged_df"
   ]
  },
  {
   "cell_type": "code",
   "execution_count": 171,
   "metadata": {},
   "outputs": [
    {
     "name": "stderr",
     "output_type": "stream",
     "text": [
      "C:\\Users\\feder\\AppData\\Local\\Temp\\ipykernel_14436\\3697934728.py:27: FutureWarning:\n",
      "\n",
      "The default value of numeric_only in DataFrameGroupBy.sum is deprecated. In a future version, numeric_only will default to False. Either specify numeric_only or select only columns which should be valid for the function.\n",
      "\n"
     ]
    },
    {
     "data": {
      "application/vnd.plotly.v1+json": {
       "config": {
        "plotlyServerURL": "https://plot.ly"
       },
       "data": [
        {
         "coloraxis": "coloraxis",
         "customdata": [
          [
           "Tucumán",
           1022367.222026,
           1.8544935447883373
          ],
          [
           "Santiago del Estero",
           643730.539911,
           1.1676764523830765
          ],
          [
           "Salta",
           748346.495477,
           1.3574415486217317
          ],
          [
           "Jujuy",
           628063.1574830001,
           1.1392570557607176
          ],
          [
           "Formosa",
           301477.186291,
           0.5468558496717848
          ],
          [
           "Chaco",
           617330.365352,
           1.119788616930048
          ],
          [
           "Misiones",
           684294.808876,
           1.241256838494807
          ],
          [
           "Corrientes",
           640014.4630100001,
           1.160935781833032
          ],
          [
           "Catamarca",
           419947.46216,
           0.7617515907666287
          ],
          [
           "Córdoba",
           1758774.687504,
           3.1902786341778335
          ],
          [
           "Santa Fe",
           1664028.116648,
           3.0184158237728904
          ],
          [
           "Entre Ríos",
           647518.200866,
           1.174546970763913
          ],
          [
           "Buenos Aires",
           10588353.732378,
           19.206438962037783
          ],
          [
           "La Pampa",
           412436.592267,
           0.7481274648828674
          ],
          [
           "La Rioja",
           388301.615823,
           0.7043485202387693
          ],
          [
           "San Juan",
           503897.300016,
           0.9140299786451676
          ],
          [
           "San Luis",
           435978.835172,
           0.7908312376140038
          ],
          [
           "Mendoza",
           1137091.4866840001,
           2.0625943168545993
          ],
          [
           "Neuquén",
           418752.682669,
           0.759584354957646
          ],
          [
           "Río Negro",
           729547.7202229999,
           1.3233420522691546
          ],
          [
           "Chubut",
           478017.38279,
           0.8670858489809119
          ],
          [
           "Santa Cruz",
           415185.280477,
           0.7531133686092989
          ],
          [
           "Tierra del Fuego",
           229085.255848,
           0.41554259469939914
          ],
          [
           "Capital Federal",
           14139868.64166,
           25.648607031971768
          ]
         ],
         "featureidkey": "properties.nombre",
         "geojson": {
          "features": [
           {
            "geometry": {
             "coordinates": [
              [
               [
                -66.20361328125,
                -26.62781822639305
               ],
               [
                -66.0498046875,
                -26.64745870265937
               ],
               [
                -65.830078125,
                -26.725986812271756
               ],
               [
                -65.89599609375,
                -26.92206991673281
               ],
               [
                -66.181640625,
                -27.274161117374668
               ],
               [
                -65.6103515625,
                -27.994401411046148
               ],
               [
                -65.4345703125,
                -27.89734922968425
               ],
               [
                -65.0390625,
                -27.89734922968425
               ],
               [
                -64.4677734375,
                -26.29341500426577
               ],
               [
                -65.36865234375,
                -26.07652055985696
               ],
               [
                -65.85205078125,
                -26.31311263768267
               ],
               [
                -66.11572265625,
                -26.2145910237943
               ],
               [
                -66.20361328125,
                -26.62781822639305
               ]
              ]
             ],
             "type": "Polygon"
            },
            "properties": {
             "nombre": "Tucumán"
            },
            "type": "Feature"
           },
           {
            "geometry": {
             "coordinates": [
              [
               [
                -64.42108154296874,
                -26.28356493253137
               ],
               [
                -65.0390625,
                -27.885211577912145
               ],
               [
                -65.18463134765625,
                -27.931327412293648
               ],
               [
                -65.08026123046874,
                -28.738763971370293
               ],
               [
                -64.88250732421875,
                -28.7965462417692
               ],
               [
                -64.81658935546872,
                -29.506549442788607
               ],
               [
                -62.79510498046873,
                -29.869228848968298
               ],
               [
                -62.091979980468736,
                -30.439202087235568
               ],
               [
                -61.58660888671873,
                -25.671235828577018
               ],
               [
                -64.22332763671874,
                -25.651430347039724
               ],
               [
                -64.42108154296874,
                -26.28356493253137
               ]
              ]
             ],
             "type": "Polygon"
            },
            "properties": {
             "nombre": "Santiago del Estero"
            },
            "type": "Feature"
           },
           {
            "geometry": {
             "coordinates": [
              [
               [
                -66.11572265625,
                -26.2145910237943
               ],
               [
                -65.85205078125,
                -26.322960198925365
               ],
               [
                -65.379638671875,
                -26.056782885778798
               ],
               [
                -64.4677734375,
                -26.29341500426577
               ],
               [
                -64.215087890625,
                -25.641526373065755
               ],
               [
                -63.45703124999999,
                -25.661333498952683
               ],
               [
                -62.33642578125001,
                -24.397133017391038
               ],
               [
                -62.347412109375,
                -22.49225722008518
               ],
               [
                -62.80883789062499,
                -22.15688318686069
               ],
               [
                -62.81982421875001,
                -22.004174972901993
               ],
               [
                -63.951416015625,
                -22.034729817044195
               ],
               [
                -64.31396484375,
                -22.847070687839064
               ],
               [
                -64.5556640625,
                -22.268764039073968
               ],
               [
                -65.23681640625,
                -22.09581971780769
               ],
               [
                -65.28076171875,
                -22.92804166565175
               ],
               [
                -64.434814453125,
                -23.624394569716923
               ],
               [
                -64.35791015625,
                -23.49347666096087
               ],
               [
                -64.171142578125,
                -23.50355189742412
               ],
               [
                -64.18212890625,
                -24.226928664976363
               ],
               [
                -64.64355468749999,
                -24.597080137096412
               ],
               [
                -64.83032226562499,
                -24.44714958973082
               ],
               [
                -64.951171875,
                -24.597080137096412
               ],
               [
                -65.654296875,
                -24.397133017391038
               ],
               [
                -65.7421875,
                -24.096618611278767
               ],
               [
                -65.994873046875,
                -23.96617587126503
               ],
               [
                -65.950927734375,
                -23.51362636346272
               ],
               [
                -66.2255859375,
                -23.433009077420344
               ],
               [
                -66.46728515624999,
                -24.20688962239801
               ],
               [
                -67.225341796875,
                -23.694834722205936
               ],
               [
                -67.313232421875,
                -24.066528197726857
               ],
               [
                -68.40087890624999,
                -24.487148563173424
               ],
               [
                -68.57666015625,
                -24.78673454198888
               ],
               [
                -68.37890625,
                -25.085598897064763
               ],
               [
                -68.499755859375,
                -25.17511653162175
               ],
               [
                -66.610107421875,
                -25.29437116258816
               ],
               [
                -66.533203125,
                -25.393660521998022
               ],
               [
                -66.68701171875,
                -25.710836919640595
               ],
               [
                -66.884765625,
                -25.74052909277321
               ],
               [
                -66.851806640625,
                -26.017297563851745
               ],
               [
                -66.390380859375,
                -26.401710528707692
               ],
               [
                -66.214599609375,
                -26.13571361317392
               ],
               [
                -66.11572265625,
                -26.2145910237943
               ]
              ]
             ],
             "type": "Polygon"
            },
            "properties": {
             "nombre": "Salta"
            },
            "type": "Feature"
           },
           {
            "geometry": {
             "coordinates": [
              [
               [
                -67.225341796875,
                -23.694834722205936
               ],
               [
                -66.478271484375,
                -24.20688962239801
               ],
               [
                -66.214599609375,
                -23.433009077420344
               ],
               [
                -65.950927734375,
                -23.51362636346272
               ],
               [
                -66.005859375,
                -23.956136333969273
               ],
               [
                -65.7421875,
                -24.086589258228027
               ],
               [
                -65.654296875,
                -24.387127324604496
               ],
               [
                -64.97314453125,
                -24.58709033920962
               ],
               [
                -64.852294921875,
                -24.45715052418584
               ],
               [
                -64.66552734375,
                -24.597080137096412
               ],
               [
                -64.2041015625,
                -24.196868919249642
               ],
               [
                -64.193115234375,
                -23.49347666096087
               ],
               [
                -64.35791015625,
                -23.49347666096087
               ],
               [
                -64.434814453125,
                -23.61432859499168
               ],
               [
                -65.291748046875,
                -22.92804166565175
               ],
               [
                -65.247802734375,
                -22.09581971780769
               ],
               [
                -65.753173828125,
                -22.09581971780769
               ],
               [
                -66.236572265625,
                -21.769702899409655
               ],
               [
                -66.302490234375,
                -22.09581971780769
               ],
               [
                -66.73095703125,
                -22.207749178410847
               ],
               [
                -66.785888671875,
                -22.421184710331858
               ],
               [
                -67.00561523437499,
                -22.52270570348246
               ],
               [
                -67.027587890625,
                -22.664709810176813
               ],
               [
                -67.1484375,
                -22.695120184965685
               ],
               [
                -67.19238281249999,
                -22.806567100271508
               ],
               [
                -67.027587890625,
                -22.98873816096073
               ],
               [
                -67.225341796875,
                -23.694834722205936
               ]
              ]
             ],
             "type": "Polygon"
            },
            "properties": {
             "nombre": "Jujuy"
            },
            "type": "Feature"
           },
           {
            "geometry": {
             "coordinates": [
              [
               [
                -62.35839843749999,
                -24.086589258228027
               ],
               [
                -58.4033203125,
                -26.804460766546146
               ],
               [
                -57.59033203125,
                -25.443274612305732
               ],
               [
                -58.13964843749999,
                -24.96614015991296
               ],
               [
                -58.33740234375,
                -25.025884063244828
               ],
               [
                -60.09521484375,
                -24.006326198751115
               ],
               [
                -60.22705078125,
                -24.046463999666567
               ],
               [
                -61.06201171875,
                -23.84564988765934
               ],
               [
                -61.36962890625001,
                -23.483400654325628
               ],
               [
                -62.40234375,
                -22.43134015636061
               ],
               [
                -62.35839843749999,
                -24.086589258228027
               ]
              ]
             ],
             "type": "Polygon"
            },
            "properties": {
             "nombre": "Formosa"
            },
            "type": "Feature"
           },
           {
            "geometry": {
             "coordinates": [
              [
               [
                -61.74316406249999,
                -27.137368359795584
               ],
               [
                -61.65527343749999,
                -28.052590823339845
               ],
               [
                -58.91967773437499,
                -28.03319784767635
               ],
               [
                -58.41430664062501,
                -26.78484736105119
               ],
               [
                -62.369384765625,
                -24.10664717920179
               ],
               [
                -62.32543945312499,
                -24.37712083961039
               ],
               [
                -63.468017578125,
                -25.661333498952683
               ],
               [
                -61.58935546875,
                -25.681137335685307
               ],
               [
                -61.74316406249999,
                -27.137368359795584
               ]
              ]
             ],
             "type": "Polygon"
            },
            "properties": {
             "nombre": "Chaco"
            },
            "type": "Feature"
           },
           {
            "geometry": {
             "coordinates": [
              [
               [
                -56.041259765625,
                -27.371767300523032
               ],
               [
                -55.5908203125,
                -28.16887518006333
               ],
               [
                -54.86572265625,
                -27.605670826465445
               ],
               [
                -54.7998046875,
                -27.547241546253268
               ],
               [
                -54.722900390625,
                -27.61540601339959
               ],
               [
                -53.81103515625,
                -27.166695222253104
               ],
               [
                -53.67919921875,
                -26.892679095908154
               ],
               [
                -53.646240234375,
                -26.23430203240673
               ],
               [
                -53.8330078125,
                -25.97779895546436
               ],
               [
                -53.876953125,
                -25.651430347039724
               ],
               [
                -54.11865234375,
                -25.50278454875533
               ],
               [
                -54.4482421875,
                -25.681137335685307
               ],
               [
                -54.64599609375,
                -25.582085278700696
               ],
               [
                -54.810791015625,
                -26.657277674217575
               ],
               [
                -55.21728515625,
                -26.961245770526954
               ],
               [
                -55.382080078125,
                -26.980828590472107
               ],
               [
                -55.623779296875,
                -27.215556209029675
               ],
               [
                -55.579833984375,
                -27.293689224852393
               ],
               [
                -55.777587890625,
                -27.43028973886258
               ],
               [
                -56.041259765625,
                -27.371767300523032
               ]
              ]
             ],
             "type": "Polygon"
            },
            "properties": {
             "nombre": "Misiones"
            },
            "type": "Feature"
           },
           {
            "geometry": {
             "coordinates": [
              [
               [
                -56.03027343749999,
                -27.371767300523032
               ],
               [
                -56.31591796875,
                -27.41078570257701
               ],
               [
                -56.3818359375,
                -27.664068965384516
               ],
               [
                -56.6015625,
                -27.43028973886258
               ],
               [
                -58.71093750000001,
                -27.254629577800063
               ],
               [
                -58.9306640625,
                -28.14950321154457
               ],
               [
                -59.08447265624999,
                -28.130127737874005
               ],
               [
                -59.26025390625,
                -29.11377539511439
               ],
               [
                -59.56787109374999,
                -29.267232865200878
               ],
               [
                -59.6337890625,
                -30.410781790845878
               ],
               [
                -58.62304687499999,
                -30.12612436422458
               ],
               [
                -58.3154296875,
                -30.240086360983412
               ],
               [
                -57.83203125,
                -30.751277776257812
               ],
               [
                -57.94189453125,
                -30.524413269923986
               ],
               [
                -57.65624999999999,
                -30.334953881988564
               ],
               [
                -57.12890625,
                -29.745301662213585
               ],
               [
                -55.92041015625,
                -28.38173504322308
               ],
               [
                -55.70068359375,
                -28.459033019728043
               ],
               [
                -55.7666015625,
                -28.246327971048842
               ],
               [
                -55.634765625,
                -28.110748760633534
               ],
               [
                -56.03027343749999,
                -27.371767300523032
               ]
              ]
             ],
             "type": "Polygon"
            },
            "properties": {
             "nombre": "Corrientes"
            },
            "type": "Feature"
           },
           {
            "geometry": {
             "coordinates": [
              [
               [
                -68.5107421875,
                -25.16517336866393
               ],
               [
                -68.543701171875,
                -25.631621577258482
               ],
               [
                -68.40087890624999,
                -26.194876675795218
               ],
               [
                -68.5546875,
                -26.28356493253137
               ],
               [
                -68.5986328125,
                -26.539394329017032
               ],
               [
                -68.26904296875,
                -26.931865156388916
               ],
               [
                -68.323974609375,
                -27.019984007982554
               ],
               [
                -68.587646484375,
                -27.196014383173296
               ],
               [
                -68.719482421875,
                -27.098253906137884
               ],
               [
                -68.818359375,
                -27.08847315655588
               ],
               [
                -69.10400390625,
                -27.80020993741824
               ],
               [
                -68.785400390625,
                -27.761329874505233
               ],
               [
                -68.609619140625,
                -27.819644755099446
               ],
               [
                -68.5986328125,
                -27.732160709580892
               ],
               [
                -68.466796875,
                -27.877928333679495
               ],
               [
                -68.48876953125,
                -27.994401411046148
               ],
               [
                -68.09326171875,
                -28.19792655722614
               ],
               [
                -67.928466796875,
                -28.110748760633534
               ],
               [
                -67.840576171875,
                -28.391400375817753
               ],
               [
                -67.7197265625,
                -28.30438068296277
               ],
               [
                -67.1484375,
                -28.391400375817753
               ],
               [
                -67.060546875,
                -28.256005619824972
               ],
               [
                -66.566162109375,
                -28.30438068296277
               ],
               [
                -66.4892578125,
                -28.661671216419496
               ],
               [
                -66.368408203125,
                -28.729130483430154
               ],
               [
                -66.42333984375,
                -28.815799886487284
               ],
               [
                -65.80810546875,
                -29.180941290001776
               ],
               [
                -65.830078125,
                -29.286398892934763
               ],
               [
                -65.72021484375,
                -29.286398892934763
               ],
               [
                -65.445556640625,
                -30.12612436422458
               ],
               [
                -65.137939453125,
                -30.05007652169871
               ],
               [
                -64.940185546875,
                -29.831113764737136
               ],
               [
                -64.962158203125,
                -29.592565403314072
               ],
               [
                -64.8193359375,
                -29.563901551414432
               ],
               [
                -64.896240234375,
                -28.815799886487284
               ],
               [
                -65.126953125,
                -28.73876397137028
               ],
               [
                -65.181884765625,
                -27.90705837112198
               ],
               [
                -65.445556640625,
                -27.90705837112198
               ],
               [
                -65.599365234375,
                -27.994401411046148
               ],
               [
                -66.2255859375,
                -27.254629577800063
               ],
               [
                -65.906982421875,
                -26.912273826625587
               ],
               [
                -65.819091796875,
                -26.725986812271756
               ],
               [
                -66.2255859375,
                -26.62781822639305
               ],
               [
                -66.126708984375,
                -26.23430203240673
               ],
               [
                -66.236572265625,
                -26.145576207592264
               ],
               [
                -66.42333984375,
                -26.401710528707692
               ],
               [
                -66.884765625,
                -25.997549919572098
               ],
               [
                -66.884765625,
                -25.74052909277321
               ],
               [
                -66.719970703125,
                -25.70093788144426
               ],
               [
                -66.533203125,
                -25.41350860804229
               ],
               [
                -66.62109375,
                -25.28443774698303
               ],
               [
                -68.5107421875,
                -25.16517336866393
               ]
              ]
             ],
             "type": "Polygon"
            },
            "properties": {
             "nombre": "Catamarca"
            },
            "type": "Feature"
           },
           {
            "geometry": {
             "coordinates": [
              [
               [
                -65.56640625,
                -30.183121842195504
               ],
               [
                -65.7861328125,
                -31.91486750327621
               ],
               [
                -65.390625,
                -32.0639555946604
               ],
               [
                -65.302734375,
                -32.32427558887654
               ],
               [
                -64.9072265625,
                -32.43561304116276
               ],
               [
                -65.1434326171875,
                -33.22030778968541
               ],
               [
                -65.14892578125,
                -35.0120020431607
               ],
               [
                -63.39111328125,
                -34.95799531086791
               ],
               [
                -63.39111328125,
                -34.39784494644985
               ],
               [
                -62.8857421875,
                -34.37971258046219
               ],
               [
                -62.90771484375,
                -34.39784494644985
               ],
               [
                -61.80908203125,
                -33.04550781490999
               ],
               [
                -62.2705078125,
                -31.69078180613681
               ],
               [
                -61.87499999999999,
                -30.713503990354965
               ],
               [
                -62.77587890625,
                -29.91685223307016
               ],
               [
                -64.8193359375,
                -29.516110386062277
               ],
               [
                -64.8193359375,
                -29.592565403314072
               ],
               [
                -64.9951171875,
                -29.554345125748267
               ],
               [
                -64.92919921875,
                -29.82158272057499
               ],
               [
                -65.10498046875,
                -30.05007652169871
               ],
               [
                -65.56640625,
                -30.183121842195504
               ]
              ]
             ],
             "type": "Polygon"
            },
            "properties": {
             "nombre": "Córdoba"
            },
            "type": "Feature"
           },
           {
            "geometry": {
             "coordinates": [
              [
               [
                -61.8310546875,
                -28.09136628140693
               ],
               [
                -62.11669921874999,
                -30.496017831341284
               ],
               [
                -61.885986328125,
                -30.694611546632277
               ],
               [
                -62.2705078125,
                -31.672083485607377
               ],
               [
                -61.84204101562499,
                -33.05471648804274
               ],
               [
                -62.8857421875,
                -34.34343606848294
               ],
               [
                -61.8310546875,
                -34.37971258046219
               ],
               [
                -60.87524414062499,
                -33.54139466898275
               ],
               [
                -60.50170898437499,
                -33.687781758439364
               ],
               [
                -60.2490234375,
                -33.26624989076273
               ],
               [
                -60.68847656249999,
                -32.981020148981465
               ],
               [
                -60.8203125,
                -31.84023266790935
               ],
               [
                -59.65576171875,
                -30.694611546632277
               ],
               [
                -59.688720703125,
                -30.439202087235582
               ],
               [
                -59.578857421875,
                -29.22889003019423
               ],
               [
                -59.2822265625,
                -29.094577077511815
               ],
               [
                -59.08447265624999,
                -28.139815912754436
               ],
               [
                -58.9306640625,
                -28.16887518006333
               ],
               [
                -58.89770507812501,
                -27.994401411046148
               ],
               [
                -61.8310546875,
                -28.09136628140693
               ]
              ]
             ],
             "type": "Polygon"
            },
            "properties": {
             "nombre": "Santa Fe"
            },
            "type": "Feature"
           },
           {
            "geometry": {
             "coordinates": [
              [
               [
                -59.69970703124999,
                -30.713503990354965
               ],
               [
                -60.8203125,
                -31.78421688448737
               ],
               [
                -60.71044921875,
                -32.99023555965107
               ],
               [
                -60.29296874999999,
                -33.26624989076273
               ],
               [
                -59.58984374999999,
                -33.687781758439364
               ],
               [
                -59.52392578125,
                -33.62834199137178
               ],
               [
                -59.45800781249999,
                -33.72890830547333
               ],
               [
                -59.2437744140625,
                -33.71977077483139
               ],
               [
                -59.249267578125,
                -33.792843773631844
               ],
               [
                -58.85925292968751,
                -33.957030069982295
               ],
               [
                -58.74938964843749,
                -33.95247360616282
               ],
               [
                -58.64501953125,
                -34.02990029603907
               ],
               [
                -58.392333984375,
                -33.99802726234876
               ],
               [
                -58.4967041015625,
                -33.57343808567734
               ],
               [
                -58.4307861328125,
                -33.536816067733
               ],
               [
                -58.35937499999999,
                -33.08233672856374
               ],
               [
                -58.07373046875,
                -32.953368145799324
               ],
               [
                -58.22753906250001,
                -32.509761735919426
               ],
               [
                -58.00781249999999,
                -32.32427558887654
               ],
               [
                -58.16162109375,
                -32.249974455863295
               ],
               [
                -58.24951171874999,
                -31.821564514920727
               ],
               [
                -58.07373046875,
                -31.821564514920727
               ],
               [
                -57.94189453125,
                -31.55981453201843
               ],
               [
                -58.0517578125,
                -31.409912194070973
               ],
               [
                -57.81005859375,
                -30.789036751261136
               ],
               [
                -58.24951171874999,
                -30.29701788337204
               ],
               [
                -58.71093750000001,
                -30.10711788709237
               ],
               [
                -59.69970703124999,
                -30.4297295750316
               ],
               [
                -59.69970703124999,
                -30.713503990354965
               ]
              ]
             ],
             "type": "Polygon"
            },
            "properties": {
             "nombre": "Entre Ríos"
            },
            "type": "Feature"
           },
           {
            "geometry": {
             "coordinates": [
              [
               [
                -60.5126953125,
                -33.687781758439364
               ],
               [
                -60.87524414062499,
                -33.54139466898275
               ],
               [
                -61.84204101562499,
                -34.384246040152185
               ],
               [
                -62.852783203125,
                -34.352506668675936
               ],
               [
                -62.90222167968749,
                -34.39784494644985
               ],
               [
                -63.4130859375,
                -34.37971258046219
               ],
               [
                -63.39111328125,
                -40.713955826286046
               ],
               [
                -63.19335937499999,
                -40.72228267283148
               ],
               [
                -62.99560546875,
                -40.813809230569596
               ],
               [
                -62.984619140625,
                -40.768061709366116
               ],
               [
                -62.78686523437499,
                -41.02549937831375
               ],
               [
                -62.70996093749999,
                -41.02964338716638
               ],
               [
                -62.34191894531249,
                -40.8844479390356
               ],
               [
                -62.17163085937499,
                -40.59309953216488
               ],
               [
                -62.39685058593749,
                -40.48873742102282
               ],
               [
                -62.479248046875,
                -40.27533480732467
               ],
               [
                -62.3529052734375,
                -40.20405042511328
               ],
               [
                -62.30346679687499,
                -39.871803651624425
               ],
               [
                -62.13317871093751,
                -39.87601941962115
               ],
               [
                -62.0562744140625,
                -39.44467758047343
               ],
               [
                -62.22656249999999,
                -39.32579941789297
               ],
               [
                -62.02880859375,
                -39.40648882684978
               ],
               [
                -62.00683593749999,
                -39.33854604847978
               ],
               [
                -62.2979736328125,
                -39.23650795487107
               ],
               [
                -62.3529052734375,
                -39.10022600175344
               ],
               [
                -62.314453125,
                -39.031986028740064
               ],
               [
                -62.33642578125001,
                -38.95513722542956
               ],
               [
                -62.391357421875,
                -38.81403111409755
               ],
               [
                -62.51220703125,
                -38.818311173746615
               ],
               [
                -62.52868652343749,
                -38.719804742642374
               ],
               [
                -62.40234375,
                -38.728375918239784
               ],
               [
                -62.16064453125,
                -38.82687052138062
               ],
               [
                -62.105712890625,
                -38.90813299596704
               ],
               [
                -61.80908203125,
                -38.99784130750071
               ],
               [
                -61.74316406249999,
                -38.98076276501631
               ],
               [
                -61.65527343749999,
                -39.01491572891581
               ],
               [
                -61.04003906249999,
                -38.98076276501631
               ],
               [
                -60.7269287109375,
                -38.95513722542956
               ],
               [
                -60.062255859375,
                -38.85254239036424
               ],
               [
                -59.25476074218749,
                -38.724090458956944
               ],
               [
                -58.74938964843749,
                -38.5825261593533
               ],
               [
                -58.56811523437499,
                -38.561052624469774
               ],
               [
                -58.3154296875,
                -38.475094320502436
               ],
               [
                -58.018798828125,
                -38.358887858666755
               ],
               [
                -57.81005859375,
                -38.272688535980954
               ],
               [
                -57.54638671874999,
                -38.09133660751174
               ],
               [
                -57.568359375,
                -37.98750437106372
               ],
               [
                -57.48046875,
                -37.75334401310657
               ],
               [
                -57.19482421875,
                -37.54457732085582
               ],
               [
                -56.689453125,
                -36.89719446989034
               ],
               [
                -56.766357421875,
                -36.29741818650809
               ],
               [
                -57.008056640625,
                -36.28856319836237
               ],
               [
                -57.23876953124999,
                -36.199958059328935
               ],
               [
                -57.37060546875,
                -36.01356058518153
               ],
               [
                -57.403564453125,
                -35.764343479667176
               ],
               [
                -57.095947265625,
                -35.415914923456214
               ],
               [
                -57.83203125,
                -34.867904962568716
               ],
               [
                -58.502197265625,
                -34.50655662164559
               ],
               [
                -58.42529296875,
                -33.96158628979907
               ],
               [
                -58.67797851562499,
                -34.04355650412745
               ],
               [
                -58.78784179687499,
                -33.9433599465788
               ],
               [
                -58.853759765625,
                -33.97980872872456
               ],
               [
                -59.26025390625,
                -33.797408767572485
               ],
               [
                -59.249267578125,
                -33.7243396617476
               ],
               [
                -59.45800781249999,
                -33.73347670599253
               ],
               [
                -59.56787109374999,
                -33.61461929233377
               ],
               [
                -59.61181640625,
                -33.69692269295766
               ],
               [
                -60.303955078125,
                -33.28461996888768
               ],
               [
                -60.5126953125,
                -33.687781758439364
               ]
              ]
             ],
             "type": "Polygon"
            },
            "properties": {
             "nombre": "Buenos Aires"
            },
            "type": "Feature"
           },
           {
            "geometry": {
             "coordinates": [
              [
               [
                -65.126953125,
                -35.94243575255425
               ],
               [
                -68.3349609375,
                -36.03133177633187
               ],
               [
                -68.2470703125,
                -36.226550147470896
               ],
               [
                -68.291015625,
                -37.596824001083654
               ],
               [
                -67.87353515625,
                -37.6664292120906
               ],
               [
                -67.7197265625,
                -37.87485339352927
               ],
               [
                -67.96142578125,
                -38.01347623104191
               ],
               [
                -67.65380859375,
                -38.255436376379464
               ],
               [
                -67.236328125,
                -38.20365531807149
               ],
               [
                -67.1484375,
                -38.42777351132903
               ],
               [
                -66.62109375,
                -38.5825261593533
               ],
               [
                -66.62109375,
                -38.736946065676
               ],
               [
                -66.3134765625,
                -38.78834535508562
               ],
               [
                -66.09375,
                -38.75408327579141
               ],
               [
                -65.654296875,
                -38.83970761354513
               ],
               [
                -65.56640625,
                -38.75408327579141
               ],
               [
                -65.36865234375,
                -38.87392853923629
               ],
               [
                -65.19287109375,
                -38.8225909761771
               ],
               [
                -64.53369140625,
                -38.856820134743614
               ],
               [
                -64.0283203125,
                -39.07890809706474
               ],
               [
                -63.43505859374999,
                -39.35129035526704
               ],
               [
                -63.4130859375,
                -34.93998515156043
               ],
               [
                -65.126953125,
                -35.0120020431607
               ],
               [
                -65.126953125,
                -35.94243575255425
               ]
              ]
             ],
             "type": "Polygon"
            },
            "properties": {
             "nombre": "La Pampa"
            },
            "type": "Feature"
           },
           {
            "geometry": {
             "coordinates": [
              [
               [
                -69.10400390625,
                -27.797780340741387
               ],
               [
                -69.169921875,
                -27.98470011861267
               ],
               [
                -69.27978515625,
                -27.97499795326775
               ],
               [
                -69.400634765625,
                -28.217289755957054
               ],
               [
                -69.49951171875,
                -28.178559849396965
               ],
               [
                -69.598388671875,
                -28.391400375817753
               ],
               [
                -69.41162109375,
                -28.44937385955666
               ],
               [
                -69.312744140625,
                -28.401064827220896
               ],
               [
                -69.2138671875,
                -28.5941685062326
               ],
               [
                -69.2138671875,
                -28.729130483430154
               ],
               [
                -68.93920898437499,
                -28.835049972635165
               ],
               [
                -68.92822265625,
                -29.171348850951507
               ],
               [
                -69.027099609375,
                -29.171348850951507
               ],
               [
                -68.9501953125,
                -29.439597566602902
               ],
               [
                -69.027099609375,
                -29.487424847484775
               ],
               [
                -68.97216796875,
                -29.64986867797228
               ],
               [
                -68.90625,
                -29.602118211647333
               ],
               [
                -68.26904296875,
                -29.754839972510933
               ],
               [
                -68.170166015625,
                -29.91685223307016
               ],
               [
                -68.0712890625,
                -29.897805610155864
               ],
               [
                -67.598876953125,
                -30.29701788337204
               ],
               [
                -67.4560546875,
                -30.56226095049943
               ],
               [
                -67.291259765625,
                -30.56226095049943
               ],
               [
                -67.093505859375,
                -30.892797477508154
               ],
               [
                -67.159423828125,
                -31.005862904624195
               ],
               [
                -67.071533203125,
                -31.05293398570514
               ],
               [
                -67.1044921875,
                -31.42866311735861
               ],
               [
                -67.00561523437499,
                -31.531726144517158
               ],
               [
                -67.03857421875,
                -31.63467554954133
               ],
               [
                -66.873779296875,
                -31.63467554954133
               ],
               [
                -66.829833984375,
                -31.78421688448737
               ],
               [
                -66.676025390625,
                -31.905541455900355
               ],
               [
                -66.346435546875,
                -31.98944183792288
               ],
               [
                -66.3134765625,
                -31.905541455900355
               ],
               [
                -66.082763671875,
                -31.980123357368026
               ],
               [
                -65.9619140625,
                -31.886886525780806
               ],
               [
                -65.80810546875,
                -31.905541455900355
               ],
               [
                -65.577392578125,
                -30.183121842195504
               ],
               [
                -65.4345703125,
                -30.145127183376115
               ],
               [
                -65.71746826171875,
                -29.288794393648296
               ],
               [
                -65.8355712890625,
                -29.286398892934763
               ],
               [
                -65.81634521484375,
                -29.18333925965321
               ],
               [
                -66.42608642578125,
                -28.806173508854766
               ],
               [
                -66.37390136718749,
                -28.729130483430154
               ],
               [
                -66.49200439453125,
                -28.671310915880834
               ],
               [
                -66.566162109375,
                -28.30921698045776
               ],
               [
                -67.06878662109375,
                -28.263263279931966
               ],
               [
                -67.14569091796874,
                -28.388984125273186
               ],
               [
                -67.7252197265625,
                -28.301962451766745
               ],
               [
                -67.84332275390625,
                -28.386567819657188
               ],
               [
                -67.92572021484374,
                -28.110748760633534
               ],
               [
                -68.0987548828125,
                -28.19308520918522
               ],
               [
                -68.49700927734375,
                -27.98712552356428
               ],
               [
                -68.47503662109375,
                -27.87307256542277
               ],
               [
                -68.60412597656249,
                -27.737022779516813
               ],
               [
                -68.61785888671875,
                -27.819644755099446
               ],
               [
                -68.78814697265625,
                -27.763760285581967
               ],
               [
                -69.10400390625,
                -27.797780340741387
               ]
              ]
             ],
             "type": "Polygon"
            },
            "properties": {
             "nombre": "La Rioja"
            },
            "type": "Feature"
           },
           {
            "geometry": {
             "coordinates": [
              [
               [
                -69.840087890625,
                -29.152161283318915
               ],
               [
                -69.949951171875,
                -29.200123477644983
               ],
               [
                -69.93896484375,
                -29.257648503615542
               ],
               [
                -70.0048828125,
                -29.29598055871568
               ],
               [
                -70.0213623046875,
                -29.396533739128387
               ],
               [
                -69.971923828125,
                -29.40610505570927
               ],
               [
                -69.9884033203125,
                -29.516110386062277
               ],
               [
                -69.949951171875,
                -29.55912345157795
               ],
               [
                -69.9609375,
                -29.65941605491237
               ],
               [
                -69.884033203125,
                -29.726222319395493
               ],
               [
                -69.89501953125,
                -29.869228848968298
               ],
               [
                -69.9774169921875,
                -30.07860131571654
               ],
               [
                -69.818115234375,
                -30.121373087823034
               ],
               [
                -69.8291015625,
                -30.216355152668537
               ],
               [
                -69.8785400390625,
                -30.230594564932193
               ],
               [
                -69.949951171875,
                -30.38709188778112
               ],
               [
                -70.07080078125,
                -30.38709188778112
               ],
               [
                -70.125732421875,
                -30.32547125932808
               ],
               [
                -70.169677734375,
                -30.34917609414982
               ],
               [
                -70.1312255859375,
                -30.4297295750316
               ],
               [
                -70.18615722656249,
                -30.481817002827256
               ],
               [
                -70.3179931640625,
                -30.93050081760778
               ],
               [
                -70.257568359375,
                -31.029401353028874
               ],
               [
                -70.323486328125,
                -31.043521630684204
               ],
               [
                -70.400390625,
                -31.16110911780645
               ],
               [
                -70.4443359375,
                -31.067050772707812
               ],
               [
                -70.5377197265625,
                -31.142304905845723
               ],
               [
                -70.5706787109375,
                -31.57853542647337
               ],
               [
                -70.4443359375,
                -31.84489911613476
               ],
               [
                -70.2960205078125,
                -31.872892847840692
               ],
               [
                -70.213623046875,
                -31.961483557268544
               ],
               [
                -70.2850341796875,
                -32.04533283885849
               ],
               [
                -70.3839111328125,
                -32.02204906495203
               ],
               [
                -70.3179931640625,
                -32.26855544621476
               ],
               [
                -70.224609375,
                -32.32427558887654
               ],
               [
                -70.24658203125,
                -32.42634016154639
               ],
               [
                -70.1531982421875,
                -32.458791067834575
               ],
               [
                -70.09140014648438,
                -32.60236166681751
               ],
               [
                -70.09140014648438,
                -32.622026838432575
               ],
               [
                -70.06805419921875,
                -32.625496714513716
               ],
               [
                -70.00900268554688,
                -32.535236240827224
               ],
               [
                -69.84420776367188,
                -32.5722771706588
               ],
               [
                -69.82086181640625,
                -32.54681317351514
               ],
               [
                -69.79202270507812,
                -32.54797078468893
               ],
               [
                -69.77279663085938,
                -32.53176286998226
               ],
               [
                -69.77005004882812,
                -32.5178680435577
               ],
               [
                -69.70962524414062,
                -32.49354692775989
               ],
               [
                -69.70138549804688,
                -32.441408106676086
               ],
               [
                -69.69039916992188,
                -32.42981760314475
               ],
               [
                -69.74395751953125,
                -32.39155837235157
               ],
               [
                -69.72061157226562,
                -32.31267005062579
               ],
               [
                -69.68765258789061,
                -32.30686672385539
               ],
               [
                -69.63272094726561,
                -32.25694277294589
               ],
               [
                -69.6038818359375,
                -32.208153325473255
               ],
               [
                -69.60525512695312,
                -32.14073437803538
               ],
               [
                -69.532470703125,
                -32.13840869677249
               ],
               [
                -69.44183349609375,
                -32.07326555104237
               ],
               [
                -69.30450439453125,
                -32.082574559545904
               ],
               [
                -69.27154541015625,
                -32.0616279574764
               ],
               [
                -69.224853515625,
                -32.00807595929104
               ],
               [
                -69.12597656249999,
                -32.010404958190534
               ],
               [
                -68.92547607421875,
                -32.133757156326446
               ],
               [
                -68.91998291015625,
                -32.33355894864106
               ],
               [
                -68.67828369140625,
                -32.33355894864106
               ],
               [
                -68.4722900390625,
                -32.23603621746474
               ],
               [
                -68.46405029296875,
                -32.136082956202074
               ],
               [
                -68.30749511718749,
                -32.13840869677249
               ],
               [
                -68.25531005859375,
                -32.09420948699397
               ],
               [
                -68.20381164550781,
                -32.12619789718211
               ],
               [
                -68.19145202636719,
                -32.11224069645199
               ],
               [
                -68.15162658691405,
                -32.11631176714
               ],
               [
                -68.08090209960938,
                -32.08606519332937
               ],
               [
                -68.07609558105469,
                -32.09828136159138
               ],
               [
                -68.05686950683594,
                -32.07268370653683
               ],
               [
                -68.02253723144531,
                -32.08606519332937
               ],
               [
                -68.00537109375,
                -32.079665596220444
               ],
               [
                -67.99095153808594,
                -32.0947911944772
               ],
               [
                -67.97378540039062,
                -32.09711798736979
               ],
               [
                -67.95867919921875,
                -32.118638011730695
               ],
               [
                -67.94975280761719,
                -32.10991428883184
               ],
               [
                -67.94151306152344,
                -32.112822289094396
               ],
               [
                -67.94700622558594,
                -32.12677940089152
               ],
               [
                -67.93327331542967,
                -32.133175697091374
               ],
               [
                -67.9229736328125,
                -32.170962836413246
               ],
               [
                -67.89276123046875,
                -32.18723554514384
               ],
               [
                -67.8460693359375,
                -32.22674287041065
               ],
               [
                -67.77191162109375,
                -32.22674287041065
               ],
               [
                -67.7362060546875,
                -32.21744857303103
               ],
               [
                -67.71697998046875,
                -32.24068253457368
               ],
               [
                -67.67578124999999,
                -32.22906629627296
               ],
               [
                -67.65380859375,
                -32.24068253457368
               ],
               [
                -67.55218505859375,
                -32.24300560401556
               ],
               [
                -67.52471923828125,
                -32.21744857303103
               ],
               [
                -67.510986328125,
                -32.24068253457368
               ],
               [
                -67.48626708984375,
                -32.30802741894788
               ],
               [
                -67.38739013671874,
                -32.33355894864106
               ],
               [
                -67.33245849609375,
                -32.35444302709291
               ],
               [
                -67.2637939453125,
                -32.34980253736092
               ],
               [
                -67.2857666015625,
                -32.28945451339287
               ],
               [
                -67.4395751953125,
                -32.18955998041357
               ],
               [
                -67.4835205078125,
                -32.11514862261243
               ],
               [
                -67.4505615234375,
                -32.04766089060863
               ],
               [
                -67.4395751953125,
                -32.01506277844934
               ],
               [
                -67.44232177734374,
                -31.926523733115925
               ],
               [
                -67.467041015625,
                -31.86822781618069
               ],
               [
                -67.24456787109375,
                -31.87755764334002
               ],
               [
                -67.137451171875,
                -31.83089906339438
               ],
               [
                -67.060546875,
                -31.85889704445453
               ],
               [
                -66.9781494140625,
                -31.87056036152958
               ],
               [
                -66.78314208984375,
                -31.91953017247695
               ],
               [
                -66.62109375,
                -31.92186141844725
               ],
               [
                -66.676025390625,
                -31.907873056360206
               ],
               [
                -66.83258056640625,
                -31.781882156411022
               ],
               [
                -66.873779296875,
                -31.637013986617973
               ],
               [
                -67.03857421875,
                -31.632337053668728
               ],
               [
                -67.00836181640625,
                -31.534067166324203
               ],
               [
                -67.11273193359375,
                -31.4310067191785
               ],
               [
                -67.0770263671875,
                -31.05763981413011
               ],
               [
                -67.159423828125,
                -31.005862904624195
               ],
               [
                -67.10174560546875,
                -30.888083515609047
               ],
               [
                -67.29400634765624,
                -30.56226095049943
               ],
               [
                -67.45880126953125,
                -30.56462594065098
               ],
               [
                -67.59613037109375,
                -30.301760686320698
               ],
               [
                -68.0712890625,
                -29.900186637177384
               ],
               [
                -68.18115234375,
                -29.91447160438235
               ],
               [
                -68.26904296875,
                -29.754839972510933
               ],
               [
                -68.91448974609375,
                -29.606894276531495
               ],
               [
                -68.97491455078125,
                -29.645094649860745
               ],
               [
                -69.03533935546875,
                -29.489815619374937
               ],
               [
                -68.95294189453125,
                -29.432421529604852
               ],
               [
                -69.0380859375,
                -29.171348850951507
               ],
               [
                -68.9501953125,
                -29.180941290001776
               ],
               [
                -68.93920898437499,
                -28.84467368077178
               ],
               [
                -69.224853515625,
                -28.729130483430154
               ],
               [
                -69.224853515625,
                -28.5941685062326
               ],
               [
                -69.356689453125,
                -28.410728397237914
               ],
               [
                -69.42260742187499,
                -28.43971381702787
               ],
               [
                -69.67529296875,
                -28.43971381702787
               ],
               [
                -69.78515625,
                -28.700224692776974
               ],
               [
                -69.708251953125,
                -28.786918085420226
               ],
               [
                -69.774169921875,
                -28.93124697186731
               ],
               [
                -69.840087890625,
                -29.152161283318915
               ]
              ]
             ],
             "type": "Polygon"
            },
            "properties": {
             "nombre": "San Juan"
            },
            "type": "Feature"
           },
           {
            "geometry": {
             "coordinates": [
              [
               [
                -67.269287109375,
                -32.34516180956194
               ],
               [
                -67.30224609375,
                -32.45415593941475
               ],
               [
                -67.24731445312499,
                -32.63937487360668
               ],
               [
                -67.159423828125,
                -32.73184089686568
               ],
               [
                -67.25830078125,
                -32.87036022808353
               ],
               [
                -67.17041015625,
                -33.46810795527895
               ],
               [
                -66.895751953125,
                -33.760882000869174
               ],
               [
                -66.873779296875,
                -33.84304531474468
               ],
               [
                -66.676025390625,
                -33.96158628979907
               ],
               [
                -66.7529296875,
                -34.234512362369856
               ],
               [
                -66.81884765625,
                -34.27083595164999
               ],
               [
                -66.7529296875,
                -34.45221847282653
               ],
               [
                -66.7529296875,
                -34.569906380856345
               ],
               [
                -66.5771484375,
                -34.84085858477277
               ],
               [
                -66.4892578125,
                -35.15584570226543
               ],
               [
                -66.533203125,
                -35.55904339525895
               ],
               [
                -66.5771484375,
                -35.594785665487244
               ],
               [
                -66.566162109375,
                -35.65729624809628
               ],
               [
                -66.632080078125,
                -35.98689628443789
               ],
               [
                -65.137939453125,
                -35.933540642493114
               ],
               [
                -65.159912109375,
                -33.20192418977892
               ],
               [
                -64.9072265625,
                -32.43793111207064
               ],
               [
                -65.31097412109375,
                -32.32427558887654
               ],
               [
                -65.390625,
                -32.0639555946604
               ],
               [
                -65.78887939453125,
                -31.912536080050494
               ],
               [
                -65.9674072265625,
                -31.886886525780806
               ],
               [
                -66.082763671875,
                -31.980123357368026
               ],
               [
                -66.3134765625,
                -31.910204597744368
               ],
               [
                -66.3409423828125,
                -31.994100723260793
               ],
               [
                -66.62384033203124,
                -31.92186141844725
               ],
               [
                -66.785888671875,
                -31.91953017247695
               ],
               [
                -67.14019775390625,
                -31.835565983656227
               ],
               [
                -67.24456787109375,
                -31.88222220265971
               ],
               [
                -67.467041015625,
                -31.87056036152958
               ],
               [
                -67.445068359375,
                -31.924192605327708
               ],
               [
                -67.43682861328125,
                -32.00807595929104
               ],
               [
                -67.48077392578125,
                -32.12212726745139
               ],
               [
                -67.43682861328125,
                -32.19188435632485
               ],
               [
                -67.28302001953125,
                -32.28481069238482
               ],
               [
                -67.269287109375,
                -32.34516180956194
               ]
              ]
             ],
             "type": "Polygon"
            },
            "properties": {
             "nombre": "San Luis"
            },
            "type": "Feature"
           },
           {
            "geometry": {
             "coordinates": [
              [
               [
                -70.17242431640625,
                -32.623183478738675
               ],
               [
                -70.14770507812499,
                -32.76880048488168
               ],
               [
                -69.993896484375,
                -32.898038181605216
               ],
               [
                -70.103759765625,
                -33.11915022676886
               ],
               [
                -70.015869140625,
                -33.321348526698806
               ],
               [
                -69.949951171875,
                -33.25706340236547
               ],
               [
                -69.840087890625,
                -33.26624989076273
               ],
               [
                -69.78515625,
                -33.35806161277886
               ],
               [
                -69.884033203125,
                -33.54139466898275
               ],
               [
                -69.884033203125,
                -33.706062655101206
               ],
               [
                -69.93896484375,
                -33.797408767572485
               ],
               [
                -69.884033203125,
                -33.88865750124074
               ],
               [
                -69.927978515625,
                -33.96158628979907
               ],
               [
                -69.818115234375,
                -34.03445260967644
               ],
               [
                -69.862060546875,
                -34.143634820312634
               ],
               [
                -69.840087890625,
                -34.24359472969739
               ],
               [
                -69.9609375,
                -34.29806835099083
               ],
               [
                -70.015869140625,
                -34.225429015241396
               ],
               [
                -70.059814453125,
                -34.30714385628803
               ],
               [
                -70.037841796875,
                -34.40690965652058
               ],
               [
                -70.323486328125,
                -34.7506398050501
               ],
               [
                -70.24658203125,
                -34.79576153473033
               ],
               [
                -70.38940429687499,
                -35.15584570226543
               ],
               [
                -70.587158203125,
                -35.19176696594738
               ],
               [
                -70.587158203125,
                -35.27253175660237
               ],
               [
                -70.455322265625,
                -35.3621760591468
               ],
               [
                -70.33447265624999,
                -35.82672127366603
               ],
               [
                -70.455322265625,
                -35.89795019335754
               ],
               [
                -70.433349609375,
                -36.11125252076157
               ],
               [
                -70.37841796875,
                -36.323977120112616
               ],
               [
                -70.24658203125,
                -36.323977120112616
               ],
               [
                -70.24658203125,
                -36.46547188679815
               ],
               [
                -69.8291015625,
                -36.888408043138206
               ],
               [
                -69.752197265625,
                -37.0990029438762
               ],
               [
                -69.42260742187499,
                -37.17782559332974
               ],
               [
                -69.32373046875,
                -37.13404537126445
               ],
               [
                -69.08203125,
                -37.239075302021824
               ],
               [
                -69.01611328125,
                -37.37015718405751
               ],
               [
                -68.873291015625,
                -37.39634613318924
               ],
               [
                -68.79638671875,
                -37.35269280367274
               ],
               [
                -68.70849609375,
                -37.448696585910376
               ],
               [
                -68.543701171875,
                -37.448696585910376
               ],
               [
                -68.433837890625,
                -37.561996953143506
               ],
               [
                -68.31298828125,
                -37.579412513438385
               ],
               [
                -68.29376220703125,
                -36.17335693522159
               ],
               [
                -68.3349609375,
                -36.01356058518153
               ],
               [
                -66.63482666015625,
                -35.98689628443789
               ],
               [
                -66.566162109375,
                -35.66845370835341
               ],
               [
                -66.57440185546875,
                -35.6037187406973
               ],
               [
                -66.544189453125,
                -35.56798045801208
               ],
               [
                -66.500244140625,
                -35.13787911963418
               ],
               [
                -66.59912109375,
                -34.858890491257796
               ],
               [
                -66.76391601562499,
                -34.56085936708384
               ],
               [
                -66.76391601562499,
                -34.488447837809304
               ],
               [
                -66.829833984375,
                -34.27083595164999
               ],
               [
                -66.68701171875,
                -33.934245311173115
               ],
               [
                -66.88201904296875,
                -33.838482755995145
               ],
               [
                -66.90399169921874,
                -33.765448698492214
               ],
               [
                -67.17864990234375,
                -33.45894275368763
               ],
               [
                -67.236328125,
                -32.861132322810946
               ],
               [
                -67.18414306640625,
                -32.819594869239744
               ],
               [
                -67.16766357421875,
                -32.741082231501245
               ],
               [
                -67.2528076171875,
                -32.64400044827675
               ],
               [
                -67.3077392578125,
                -32.45415593941475
               ],
               [
                -67.27203369140625,
                -32.35212281198642
               ],
               [
                -67.33245849609375,
                -32.359083278739675
               ],
               [
                -67.49176025390625,
                -32.30570601389429
               ],
               [
                -67.532958984375,
                -32.22209584050232
               ],
               [
                -67.554931640625,
                -32.24765156466267
               ],
               [
                -67.66754150390625,
                -32.2313896627376
               ],
               [
                -67.72247314453124,
                -32.23835940572264
               ],
               [
                -67.74169921875,
                -32.21977223646089
               ],
               [
                -67.7801513671875,
                -32.22906629627296
               ],
               [
                -67.840576171875,
                -32.22906629627296
               ],
               [
                -67.93121337890625,
                -32.16863792635911
               ],
               [
                -68.00811767578125,
                -32.0849016635483
               ],
               [
                -68.15643310546875,
                -32.11514862261243
               ],
               [
                -68.19488525390625,
                -32.112822289094396
               ],
               [
                -68.20587158203124,
                -32.131431297147934
               ],
               [
                -68.25531005859375,
                -32.09653629470277
               ],
               [
                -68.30474853515625,
                -32.14305999998843
               ],
               [
                -68.46405029296875,
                -32.13840869677249
               ],
               [
                -68.466796875,
                -32.2313896627376
               ],
               [
                -68.66729736328125,
                -32.34052084371421
               ],
               [
                -68.92547607421875,
                -32.33587963983593
               ],
               [
                -68.93096923828124,
                -32.131431297147934
               ],
               [
                -69.12872314453125,
                -32.01273389791075
               ],
               [
                -69.22760009765624,
                -32.01506277844934
               ],
               [
                -69.29901123046875,
                -32.0849016635483
               ],
               [
                -69.43634033203125,
                -32.07326555104237
               ],
               [
                -69.52423095703125,
                -32.13840869677249
               ],
               [
                -69.60113525390625,
                -32.136082956202074
               ],
               [
                -69.60113525390625,
                -32.210477226433824
               ],
               [
                -69.62860107421875,
                -32.2546200600072
               ],
               [
                -69.686279296875,
                -32.31731244438278
               ],
               [
                -69.71923828125,
                -32.30570601389429
               ],
               [
                -69.7467041015625,
                -32.39155837235157
               ],
               [
                -69.686279296875,
                -32.424021792657385
               ],
               [
                -69.70550537109375,
                -32.49123028794758
               ],
               [
                -69.76318359375,
                -32.5190260278275
               ],
               [
                -69.79888916015625,
                -32.54681317351514
               ],
               [
                -69.82086181640625,
                -32.54681317351514
               ],
               [
                -69.8455810546875,
                -32.5722771706588
               ],
               [
                -70.00762939453125,
                -32.53755174676898
               ],
               [
                -70.06256103515625,
                -32.63243606312154
               ],
               [
                -70.09552001953125,
                -32.618556827843264
               ],
               [
                -70.0982666015625,
                -32.590791901737894
               ],
               [
                -70.12847900390625,
                -32.57459172113417
               ],
               [
                -70.17242431640625,
                -32.623183478738675
               ]
              ]
             ],
             "type": "Polygon"
            },
            "properties": {
             "nombre": "Mendoza"
            },
            "type": "Feature"
           },
           {
            "geometry": {
             "coordinates": [
              [
               [
                -68.0712890625,
                -38.95940879245421
               ],
               [
                -68.22509765625,
                -38.69408504756832
               ],
               [
                -68.258056640625,
                -37.570705242331144
               ],
               [
                -68.45581054687499,
                -37.570705242331144
               ],
               [
                -68.543701171875,
                -37.448696585910376
               ],
               [
                -68.70849609375,
                -37.448696585910376
               ],
               [
                -68.79638671875,
                -37.32648861334206
               ],
               [
                -68.851318359375,
                -37.40507375017693
               ],
               [
                -69.049072265625,
                -37.35269280367274
               ],
               [
                -69.08203125,
                -37.212831514455935
               ],
               [
                -69.3017578125,
                -37.13404537126445
               ],
               [
                -69.444580078125,
                -37.18657859524883
               ],
               [
                -69.76318359375,
                -37.090239803072066
               ],
               [
                -69.85107421874999,
                -36.87962060502676
               ],
               [
                -70.2685546875,
                -36.46547188679815
               ],
               [
                -70.257568359375,
                -36.3151251474805
               ],
               [
                -70.37841796875,
                -36.30627216957991
               ],
               [
                -70.433349609375,
                -36.15561783381853
               ],
               [
                -70.55419921875,
                -36.120127589781454
               ],
               [
                -70.675048828125,
                -36.26199220445662
               ],
               [
                -70.675048828125,
                -36.40359962073253
               ],
               [
                -70.927734375,
                -36.37706783983681
               ],
               [
                -70.927734375,
                -36.47430675509521
               ],
               [
                -70.9716796875,
                -36.500805317604794
               ],
               [
                -71.05957031249999,
                -36.456636011596196
               ],
               [
                -71.015625,
                -36.65960622647969
               ],
               [
                -71.05957031249999,
                -36.72127388004499
               ],
               [
                -71.11450195312499,
                -36.6507925250347
               ],
               [
                -71.103515625,
                -36.91476428895593
               ],
               [
                -71.19140625,
                -36.96744946416932
               ],
               [
                -71.103515625,
                -37.17782559332974
               ],
               [
                -71.224365234375,
                -37.300275281344305
               ],
               [
                -71.11450195312499,
                -37.46613860234405
               ],
               [
                -71.1474609375,
                -37.60552821745789
               ],
               [
                -71.2353515625,
                -37.64033489805947
               ],
               [
                -70.960693359375,
                -38.462191723068266
               ],
               [
                -70.86181640625,
                -38.54816542304657
               ],
               [
                -70.894775390625,
                -38.719804742642374
               ],
               [
                -71.47705078125,
                -38.9764924855394
               ],
               [
                -71.378173828125,
                -39.33429742980723
               ],
               [
                -71.466064453125,
                -39.39375459224347
               ],
               [
                -71.531982421875,
                -39.53793974517625
               ],
               [
                -71.488037109375,
                -39.65645604812829
               ],
               [
                -71.6748046875,
                -39.56335316582929
               ],
               [
                -71.6748046875,
                -39.84228602074339
               ],
               [
                -71.5869140625,
                -39.89287990029478
               ],
               [
                -71.6748046875,
                -40.103285912934396
               ],
               [
                -71.806640625,
                -40.078071427450084
               ],
               [
                -71.8505859375,
                -40.25437660372649
               ],
               [
                -71.74072265625,
                -40.3130432088809
               ],
               [
                -71.71875,
                -40.413496049701955
               ],
               [
                -71.8505859375,
                -40.39676430557204
               ],
               [
                -71.905517578125,
                -40.58058466412763
               ],
               [
                -71.982421875,
                -40.73893324113602
               ],
               [
                -71.883544921875,
                -40.91351257612757
               ],
               [
                -71.905517578125,
                -40.98819156349393
               ],
               [
                -71.861572265625,
                -41.03793062246527
               ],
               [
                -71.3232421875,
                -41.11246878918086
               ],
               [
                -71.03759765625,
                -40.93841495689794
               ],
               [
                -71.08154296875,
                -40.76390128094587
               ],
               [
                -70.90576171875,
                -40.58058466412763
               ],
               [
                -70.751953125,
                -40.58058466412763
               ],
               [
                -70.55419921875,
                -40.48038142908171
               ],
               [
                -70.400390625,
                -40.530501775743204
               ],
               [
                -70.13671875,
                -40.49709237269566
               ],
               [
                -69.9609375,
                -40.17887331434695
               ],
               [
                -70.07080078125,
                -39.97712009843963
               ],
               [
                -69.43359375,
                -39.77476948529546
               ],
               [
                -68.79638671875,
                -39.30029918615028
               ],
               [
                -68.291015625,
                -38.95940879245421
               ],
               [
                -68.0712890625,
                -38.95940879245421
               ]
              ]
             ],
             "type": "Polygon"
            },
            "properties": {
             "nombre": "Neuquén"
            },
            "type": "Feature"
           },
           {
            "geometry": {
             "coordinates": [
              [
               [
                -68.07952880859375,
                -38.950865400919994
               ],
               [
                -68.291015625,
                -38.96154447940714
               ],
               [
                -68.345947265625,
                -38.9764924855394
               ],
               [
                -69.41162109375,
                -39.7663252565449
               ],
               [
                -70.09277343749999,
                -39.985538414809724
               ],
               [
                -69.9664306640625,
                -40.18097176388719
               ],
               [
                -70.13671875,
                -40.49291502689579
               ],
               [
                -70.3948974609375,
                -40.53258931069554
               ],
               [
                -70.55145263671875,
                -40.482470524589495
               ],
               [
                -70.7574462890625,
                -40.58058466412763
               ],
               [
                -70.91125488281249,
                -40.58684239087908
               ],
               [
                -71.07879638671875,
                -40.76390128094587
               ],
               [
                -71.03485107421875,
                -40.94256444133327
               ],
               [
                -71.33148193359375,
                -41.10832999732831
               ],
               [
                -71.82861328125,
                -41.02135510866601
               ],
               [
                -71.905517578125,
                -41.186922422902946
               ],
               [
                -71.817626953125,
                -41.310823880918186
               ],
               [
                -71.905517578125,
                -41.269549502842565
               ],
               [
                -71.905517578125,
                -41.39329428878487
               ],
               [
                -71.806640625,
                -41.590796851056
               ],
               [
                -71.89453125,
                -41.66470503009206
               ],
               [
                -71.78466796874999,
                -41.80407814427234
               ],
               [
                -71.795654296875,
                -41.99216023337628
               ],
               [
                -65.093994140625,
                -41.97582726102571
               ],
               [
                -64.9951171875,
                -41.50857729743933
               ],
               [
                -65.17364501953124,
                -41.0607151401866
               ],
               [
                -65.16265869140625,
                -41.03585891144299
               ],
               [
                -65.159912109375,
                -40.92804010533238
               ],
               [
                -65.12420654296875,
                -40.86991083161534
               ],
               [
                -65.13519287109375,
                -40.84290487729675
               ],
               [
                -65.0006103515625,
                -40.75974059207391
               ],
               [
                -64.9017333984375,
                -40.761820969066
               ],
               [
                -64.88800048828125,
                -40.7472569628042
               ],
               [
                -64.9896240234375,
                -40.713955826286046
               ],
               [
                -64.84405517578125,
                -40.713955826286046
               ],
               [
                -64.77813720703125,
                -40.743095232181844
               ],
               [
                -64.80560302734375,
                -40.75349907043136
               ],
               [
                -64.79461669921875,
                -40.786780414016455
               ],
               [
                -64.7589111328125,
                -40.768061709366116
               ],
               [
                -64.73968505859375,
                -40.7888599444948
               ],
               [
                -64.775390625,
                -40.801335759791996
               ],
               [
                -64.84954833984375,
                -40.782621157698514
               ],
               [
                -64.90997314453125,
                -40.80965166748854
               ],
               [
                -64.8797607421875,
                -40.83459313808023
               ],
               [
                -64.74517822265625,
                -40.80757278825516
               ],
               [
                -64.20135498046875,
                -41.01099329360267
               ],
               [
                -64.14093017578125,
                -41.017210578228436
               ],
               [
                -64.0887451171875,
                -40.977824533189505
               ],
               [
                -64.06951904296875,
                -40.994410999439516
               ],
               [
                -64.08599853515625,
                -41.04000226828483
               ],
               [
                -63.94317626953125,
                -41.07935114946897
               ],
               [
                -63.88000488281251,
                -41.13936457644674
               ],
               [
                -63.84979248046875,
                -41.14143302653628
               ],
               [
                -63.78662109375001,
                -41.15591035054503
               ],
               [
                -63.4295654296875,
                -41.16418167186549
               ],
               [
                -63.32519531249999,
                -41.14763798539186
               ],
               [
                -63.29223632812499,
                -41.16211393939691
               ],
               [
                -63.05328369140626,
                -41.15177429844499
               ],
               [
                -62.98736572265625,
                -41.11039942586732
               ],
               [
                -62.78686523437499,
                -41.02342727608893
               ],
               [
                -62.984619140625,
                -40.77014182590509
               ],
               [
                -62.99835205078124,
                -40.80965166748854
               ],
               [
                -63.19885253906249,
                -40.718119379753446
               ],
               [
                -63.39385986328124,
                -40.70979201243495
               ],
               [
                -63.4130859375,
                -39.35978526869
               ],
               [
                -64.5281982421875,
                -38.85895891044852
               ],
               [
                -65.19561767578125,
                -38.8225909761771
               ],
               [
                -65.36865234375,
                -38.87606680031535
               ],
               [
                -65.58013916015625,
                -38.75408327579141
               ],
               [
                -65.6597900390625,
                -38.84184690380897
               ],
               [
                -66.09375,
                -38.756225137839074
               ],
               [
                -66.3134765625,
                -38.79048618862272
               ],
               [
                -66.6265869140625,
                -38.73266112048232
               ],
               [
                -66.6265869140625,
                -38.5825261593533
               ],
               [
                -67.15118408203125,
                -38.42992513040935
               ],
               [
                -67.2418212890625,
                -38.201496974020806
               ],
               [
                -67.65655517578125,
                -38.25759312039535
               ],
               [
                -67.96417236328124,
                -38.01131226070672
               ],
               [
                -67.72247314453124,
                -37.877021386076336
               ],
               [
                -67.87353515625,
                -37.6664292120906
               ],
               [
                -68.2635498046875,
                -37.60552821745789
               ],
               [
                -68.22784423828125,
                -38.69622870885281
               ],
               [
                -68.07952880859375,
                -38.950865400919994
               ]
              ]
             ],
             "type": "Polygon"
            },
            "properties": {
             "nombre": "Río Negro"
            },
            "type": "Feature"
           },
           {
            "geometry": {
             "coordinates": [
              [
               [
                -71.795654296875,
                -42.000325148316215
               ],
               [
                -71.751708984375,
                -42.12267315117256
               ],
               [
                -71.89453125,
                -42.204107493733176
               ],
               [
                -72.08129882812499,
                -42.0737622400872
               ],
               [
                -72.2021484375,
                -42.15525946577861
               ],
               [
                -72.169189453125,
                -42.350425122434565
               ],
               [
                -72.02636718749999,
                -42.40723466155186
               ],
               [
                -72.158203125,
                -42.72280375732726
               ],
               [
                -72.147216796875,
                -42.94033923363181
               ],
               [
                -71.773681640625,
                -43.16512263158296
               ],
               [
                -71.773681640625,
                -43.31718491566705
               ],
               [
                -71.9384765625,
                -43.36512572875842
               ],
               [
                -71.905517578125,
                -43.5326204268101
               ],
               [
                -71.60888671875,
                -43.63607515596578
               ],
               [
                -71.78466796874999,
                -43.81074731344698
               ],
               [
                -71.65283203125,
                -43.94537239244209
               ],
               [
                -71.7626953125,
                -44.150681159780916
               ],
               [
                -71.883544921875,
                -44.087585028245165
               ],
               [
                -71.817626953125,
                -44.4102404129601
               ],
               [
                -71.158447265625,
                -44.44946753600693
               ],
               [
                -71.11450195312499,
                -44.6061127451739
               ],
               [
                -71.21337890625,
                -44.61393394730626
               ],
               [
                -71.25732421875,
                -44.81691551782855
               ],
               [
                -71.52099609375,
                -44.73112559264325
               ],
               [
                -71.663818359375,
                -44.79353090474406
               ],
               [
                -72.08129882812499,
                -44.74673324024679
               ],
               [
                -72.08129882812499,
                -44.91035917458493
               ],
               [
                -71.553955078125,
                -44.98811302615805
               ],
               [
                -71.334228515625,
                -45.29034662473614
               ],
               [
                -71.553955078125,
                -45.38301927899064
               ],
               [
                -71.4990234375,
                -45.47554027158591
               ],
               [
                -71.641845703125,
                -45.52174389699363
               ],
               [
                -71.7626953125,
                -45.575600209478
               ],
               [
                -71.773681640625,
                -45.85176048817253
               ],
               [
                -71.619873046875,
                -45.98932892799953
               ],
               [
                -67.56591796875,
                -46.01985337287632
               ],
               [
                -67.401123046875,
                -45.83645405018771
               ],
               [
                -67.401123046875,
                -45.70617928533083
               ],
               [
                -66.99462890625,
                -45.25168825611765
               ],
               [
                -66.64306640625,
                -45.213003555993964
               ],
               [
                -66.588134765625,
                -45.213003555993964
               ],
               [
                -66.51123046875,
                -45.08127861241874
               ],
               [
                -66.148681640625,
                -44.941473354802504
               ],
               [
                -65.972900390625,
                -45.08127861241874
               ],
               [
                -65.8740234375,
                -45.02695045318544
               ],
               [
                -65.643310546875,
                -45.05800143539828
               ],
               [
                -65.54443359375,
                -44.941473354802504
               ],
               [
                -65.76416015625,
                -44.8636563054061
               ],
               [
                -65.72021484375,
                -44.65302415981199
               ],
               [
                -65.36865234375,
                -44.5982904898401
               ],
               [
                -65.23681640625,
                -44.363133113807706
               ],
               [
                -65.302734375,
                -44.22158376545796
               ],
               [
                -65.302734375,
                -44.12702800650004
               ],
               [
                -65.21484375,
                -44.09547572946636
               ],
               [
                -65.21484375,
                -43.96909818325171
               ],
               [
                -65.401611328125,
                -43.66787161011748
               ],
               [
                -65.181884765625,
                -43.52465500687185
               ],
               [
                -64.984130859375,
                -43.22118973298753
               ],
               [
                -64.281005859375,
                -42.98053954751642
               ],
               [
                -64.34692382812499,
                -42.92827401776912
               ],
               [
                -64.412841796875,
                -42.96245265666877
               ],
               [
                -64.53369140625,
                -42.93229601903057
               ],
               [
                -64.62158203125,
                -42.9182178655845
               ],
               [
                -64.70123291015625,
                -42.90816007196053
               ],
               [
                -64.70947265625,
                -42.87596410238254
               ],
               [
                -64.8248291015625,
                -42.833681387335886
               ],
               [
                -64.86328125,
                -42.837709559849614
               ],
               [
                -64.896240234375,
                -42.819580715795915
               ],
               [
                -64.9456787109375,
                -42.78935416050277
               ],
               [
                -65.02532958984374,
                -42.7752433806997
               ],
               [
                -65.04730224609375,
                -42.73490914651559
               ],
               [
                -65.00335693359375,
                -42.700604408080835
               ],
               [
                -64.9896240234375,
                -42.65214190481524
               ],
               [
                -64.874267578125,
                -42.61172761665583
               ],
               [
                -64.852294921875,
                -42.61779143282346
               ],
               [
                -64.69573974609375,
                -42.52272381854158
               ],
               [
                -64.57763671875,
                -42.49032731830466
               ],
               [
                -64.390869140625,
                -42.51462626746591
               ],
               [
                -64.34967041015625,
                -42.53082032025189
               ],
               [
                -64.31121826171875,
                -42.593532625649935
               ],
               [
                -64.27825927734375,
                -42.56117285531809
               ],
               [
                -64.25628662109375,
                -42.595554553719204
               ],
               [
                -64.281005859375,
                -42.627896481020834
               ],
               [
                -64.21783447265625,
                -42.61172761665583
               ],
               [
                -64.2041015625,
                -42.62587560259135
               ],
               [
                -64.26177978515625,
                -42.68647341541783
               ],
               [
                -64.259033203125,
                -42.76314586689493
               ],
               [
                -64.127197265625,
                -42.879989517714804
               ],
               [
                -63.73718261718749,
                -42.81555136172695
               ],
               [
                -63.62731933593749,
                -42.765162283274684
               ],
               [
                -63.64379882812499,
                -42.7066595635104
               ],
               [
                -63.58886718749999,
                -42.60970621339408
               ],
               [
                -63.60260009765625,
                -42.50247797334869
               ],
               [
                -63.60260009765625,
                -42.32809302822459
               ],
               [
                -63.6328125,
                -42.261049162113835
               ],
               [
                -63.67675781249999,
                -42.21427941637545
               ],
               [
                -63.75640869140625,
                -42.0737622400872
               ],
               [
                -63.797607421875,
                -42.067645723795266
               ],
               [
                -63.97338867187501,
                -42.116561350389006
               ],
               [
                -64.05303955078125,
                -42.16951070521655
               ],
               [
                -64.3853759765625,
                -42.24071874922666
               ],
               [
                -64.4842529296875,
                -42.24071874922666
               ],
               [
                -64.8248291015625,
                -42.20003826604674
               ],
               [
                -64.9072265625,
                -42.15933157601719
               ],
               [
                -65.093994140625,
                -41.996242821785806
               ],
               [
                -65.0994873046875,
                -41.97378534488486
               ],
               [
                -71.795654296875,
                -42.000325148316215
               ]
              ]
             ],
             "type": "Polygon"
            },
            "properties": {
             "nombre": "Chubut"
            },
            "type": "Feature"
           },
           {
            "geometry": {
             "coordinates": [
              [
               [
                -67.598876953125,
                -46.01985337287632
               ],
               [
                -71.60888671875,
                -45.98169518512228
               ],
               [
                -71.7626953125,
                -46.10370875598025
               ],
               [
                -71.9384765625,
                -46.13417004624325
               ],
               [
                -71.78466796874999,
                -46.21785176740299
               ],
               [
                -71.641845703125,
                -46.68713141244413
               ],
               [
                -71.883544921875,
                -46.8000594467873
               ],
               [
                -71.97143554687499,
                -46.8000594467873
               ],
               [
                -71.8505859375,
                -47.21210577562242
               ],
               [
                -72.037353515625,
                -47.19717795172787
               ],
               [
                -72.037353515625,
                -47.353710619513606
               ],
               [
                -72.1142578125,
                -47.31648293428332
               ],
               [
                -72.35595703125,
                -47.46523622438362
               ],
               [
                -72.322998046875,
                -47.613569753973955
               ],
               [
                -72.520751953125,
                -47.76886840424206
               ],
               [
                -72.564697265625,
                -47.95314495015593
               ],
               [
                -72.44384765625,
                -47.98992166741417
               ],
               [
                -72.257080078125,
                -48.34164617237459
               ],
               [
                -72.432861328125,
                -48.52388120259334
               ],
               [
                -72.57568359375,
                -48.451065619532145
               ],
               [
                -72.5537109375,
                -48.78515199804314
               ],
               [
                -72.83935546875,
                -48.98021698537499
               ],
               [
                -72.894287109375,
                -48.944151234187935
               ],
               [
                -73.135986328125,
                -49.2032427441791
               ],
               [
                -73.0810546875,
                -49.274972875996376
               ],
               [
                -73.47656249999999,
                -49.210420445650286
               ],
               [
                -73.5205078125,
                -49.26780455063752
               ],
               [
                -73.41064453125,
                -49.35375571830991
               ],
               [
                -73.54248046875,
                -49.55372551347578
               ],
               [
                -73.45458984375,
                -49.80963156356309
               ],
               [
                -73.564453125,
                -49.95121990866204
               ],
               [
                -73.45458984375,
                -49.96535590991309
               ],
               [
                -73.531494140625,
                -50.14170587960566
               ],
               [
                -73.41064453125,
                -50.24017888479702
               ],
               [
                -73.42163085937499,
                -50.34546040860478
               ],
               [
                -73.36669921875,
                -50.57626025689926
               ],
               [
                -73.17993164062499,
                -50.625073063414355
               ],
               [
                -73.1689453125,
                -50.79899141148548
               ],
               [
                -72.79541015625,
                -50.639010281258706
               ],
               [
                -72.59765625,
                -50.68775800806201
               ],
               [
                -72.4658203125,
                -50.59718623058701
               ],
               [
                -72.279052734375,
                -50.67383524992133
               ],
               [
                -72.3779296875,
                -50.736455137010644
               ],
               [
                -72.2900390625,
                -51.03448563297413
               ],
               [
                -72.388916015625,
                -51.020666012558095
               ],
               [
                -72.388916015625,
                -51.13800148806255
               ],
               [
                -72.26806640624999,
                -51.26878915771343
               ],
               [
                -72.3779296875,
                -51.35806157319091
               ],
               [
                -72.301025390625,
                -51.39920565355377
               ],
               [
                -72.421875,
                -51.570241445811234
               ],
               [
                -72.2900390625,
                -51.618016548773696
               ],
               [
                -72.2900390625,
                -51.692990211491846
               ],
               [
                -71.927490234375,
                -51.923943445544694
               ],
               [
                -72.02636718749999,
                -51.971345808851716
               ],
               [
                -69.9609375,
                -51.99841038239032
               ],
               [
                -69.521484375,
                -52.15371445951162
               ],
               [
                -69.169921875,
                -52.146973340644706
               ],
               [
                -68.895263671875,
                -52.274880130680536
               ],
               [
                -68.4228515625,
                -52.35547370875268
               ],
               [
                -68.35693359375,
                -52.32862548843016
               ],
               [
                -68.9501953125,
                -51.68617954855623
               ],
               [
                -68.9501953125,
                -51.52241608253253
               ],
               [
                -69.18090820312499,
                -50.965346321637696
               ],
               [
                -69.3896484375,
                -51.082821861609766
               ],
               [
                -69.136962890625,
                -50.847572953653874
               ],
               [
                -68.93920898437499,
                -50.324422739309384
               ],
               [
                -68.367919921875,
                -50.13466432216695
               ],
               [
                -68.64257812499999,
                -49.83798245308484
               ],
               [
                -68.291015625,
                -50.12057809796008
               ],
               [
                -67.752685546875,
                -49.85215166776998
               ],
               [
                -67.6318359375,
                -49.26780455063752
               ],
               [
                -67.598876953125,
                -49.0738659012854
               ],
               [
                -67.203369140625,
                -48.821332549646634
               ],
               [
                -67.159423828125,
                -48.64016871811908
               ],
               [
                -66.873779296875,
                -48.60385760823253
               ],
               [
                -66.46728515624999,
                -48.400032496106846
               ],
               [
                -66.478271484375,
                -48.327039130634766
               ],
               [
                -66.37939453125,
                -48.363548888986884
               ],
               [
                -66.192626953125,
                -48.12943437745314
               ],
               [
                -65.93994140625,
                -48.08541857551197
               ],
               [
                -66.02783203125,
                -48.01197512670994
               ],
               [
                -65.9619140625,
                -47.93106634750977
               ],
               [
                -65.841064453125,
                -47.975214123416166
               ],
               [
                -65.775146484375,
                -47.91634204016117
               ],
               [
                -65.906982421875,
                -47.75409797968002
               ],
               [
                -65.709228515625,
                -47.36115300722623
               ],
               [
                -65.753173828125,
                -47.18224592701489
               ],
               [
                -65.928955078125,
                -47.055154085503474
               ],
               [
                -66.192626953125,
                -47.070121823833084
               ],
               [
                -66.632080078125,
                -47.04766864046081
               ],
               [
                -67.39013671875,
                -46.59661864884464
               ],
               [
                -67.576904296875,
                -46.36967413462374
               ],
               [
                -67.6318359375,
                -46.21785176740299
               ],
               [
                -67.598876953125,
                -46.01985337287632
               ]
              ]
             ],
             "type": "Polygon"
            },
            "properties": {
             "nombre": "Santa Cruz"
            },
            "type": "Feature"
           },
           {
            "geometry": {
             "coordinates": [
              [
               [
                -68.40087890624999,
                -52.36218321674425
               ],
               [
                -68.62060546875,
                -52.643063436658906
               ],
               [
                -68.62060546875,
                -54.927141864546435
               ],
               [
                -67.25830078125,
                -54.914514007665254
               ],
               [
                -66.37939453125,
                -55.040614327716725
               ],
               [
                -65.3466796875,
                -54.914514007665254
               ],
               [
                -65.19287109375,
                -54.686534234529695
               ],
               [
                -65.63232421875,
                -54.67383096593114
               ],
               [
                -66.5771484375,
                -54.48280455958254
               ],
               [
                -66.70898437499999,
                -54.316523240258256
               ],
               [
                -67.47802734375,
                -53.95608553098789
               ],
               [
                -67.6318359375,
                -53.77468884583576
               ],
               [
                -68.04931640625,
                -53.59250480903936
               ],
               [
                -68.09326171875,
                -53.34399288223421
               ],
               [
                -68.62060546875,
                -53.25206880589412
               ],
               [
                -68.3349609375,
                -53.01478324585921
               ],
               [
                -68.5546875,
                -52.72298552457067
               ],
               [
                -68.40087890624999,
                -52.36218321674425
               ]
              ]
             ],
             "type": "Polygon"
            },
            "properties": {
             "nombre": "Tierra del Fuego"
            },
            "type": "Feature"
           },
           {
            "geometry": {
             "coordinates": [
              [
               [
                -58.41293334960937,
                -34.56566571569509
               ],
               [
                -58.46580505371094,
                -34.53371242139564
               ],
               [
                -58.50116729736328,
                -34.54954921593402
               ],
               [
                -58.532752990722656,
                -34.61682196594163
               ],
               [
                -58.52931976318359,
                -34.6555214931444
               ],
               [
                -58.46099853515624,
                -34.705281728442685
               ],
               [
                -58.424949645996094,
                -34.662299113496196
               ],
               [
                -58.41293334960937,
                -34.65778076151677
               ],
               [
                -58.40572357177734,
                -34.65975757082139
               ],
               [
                -58.39336395263672,
                -34.66286389017133
               ],
               [
                -58.38409423828125,
                -34.6586279712784
               ],
               [
                -58.37692737579346,
                -34.6571453485119
               ],
               [
                -58.37362289428711,
                -34.65718064936219
               ],
               [
                -58.36963176727295,
                -34.6538270014492
               ],
               [
                -58.368988037109375,
                -34.65146171553466
               ],
               [
                -58.36418151855469,
                -34.64863740514246
               ],
               [
                -58.36186408996582,
                -34.64831966420204
               ],
               [
                -58.356971740722656,
                -34.64436545285109
               ],
               [
                -58.347015380859375,
                -34.63320791137958
               ],
               [
                -58.34564208984375,
                -34.626427912618915
               ],
               [
                -58.33602905273437,
                -34.62699293367837
               ],
               [
                -58.34770202636719,
                -34.598737167902335
               ],
               [
                -58.35868835449218,
                -34.595345829770636
               ],
               [
                -58.36486816406249,
                -34.598737167902335
               ],
               [
                -58.36967468261719,
                -34.578387062362864
               ],
               [
                -58.41293334960937,
                -34.56566571569509
               ]
              ]
             ],
             "type": "Polygon"
            },
            "properties": {
             "nombre": "Capital Federal"
            },
            "type": "Feature"
           }
          ],
          "type": "FeatureCollection"
         },
         "hovertemplate": "<b>%{customdata[0]}</b><br>Presupuesto Brindado: %{customdata[1]}<br>Proporción en relación al presupuesto total: %{customdata[2]:.2f}%",
         "hovertext": [
          "Tucumán",
          "Santiago del Estero",
          "Salta",
          "Jujuy",
          "Formosa",
          "Chaco",
          "Misiones",
          "Corrientes",
          "Catamarca",
          "Córdoba",
          "Santa Fe",
          "Entre Ríos",
          "Buenos Aires",
          "La Pampa",
          "La Rioja",
          "San Juan",
          "San Luis",
          "Mendoza",
          "Neuquén",
          "Río Negro",
          "Chubut",
          "Santa Cruz",
          "Tierra del Fuego",
          "Capital Federal"
         ],
         "locations": [
          "Tucumán",
          "Santiago del Estero",
          "Salta",
          "Jujuy",
          "Formosa",
          "Chaco",
          "Misiones",
          "Corrientes",
          "Catamarca",
          "Córdoba",
          "Santa Fe",
          "Entre Ríos",
          "Buenos Aires",
          "La Pampa",
          "La Rioja",
          "San Juan",
          "San Luis",
          "Mendoza",
          "Neuquén",
          "Río Negro",
          "Chubut",
          "Santa Cruz",
          "Tierra del Fuego",
          "Capital Federal"
         ],
         "marker": {
          "line": {
           "color": "black",
           "width": 1.5
          },
          "opacity": 1
         },
         "name": "",
         "subplot": "mapbox",
         "type": "choroplethmapbox",
         "z": [
          1.8544935447883373,
          1.1676764523830765,
          1.3574415486217317,
          1.1392570557607176,
          0.5468558496717848,
          1.119788616930048,
          1.241256838494807,
          1.160935781833032,
          0.7617515907666287,
          3.1902786341778335,
          3.0184158237728904,
          1.174546970763913,
          19.206438962037783,
          0.7481274648828674,
          0.7043485202387693,
          0.9140299786451676,
          0.7908312376140038,
          2.0625943168545993,
          0.759584354957646,
          1.3233420522691546,
          0.8670858489809119,
          0.7531133686092989,
          0.41554259469939914,
          25.648607031971768
         ]
        }
       ],
       "layout": {
        "coloraxis": {
         "colorbar": {
          "title": {
           "text": "%"
          }
         },
         "colorscale": [
          [
           0,
           "#000004"
          ],
          [
           0.1111111111111111,
           "#180f3d"
          ],
          [
           0.2222222222222222,
           "#440f76"
          ],
          [
           0.3333333333333333,
           "#721f81"
          ],
          [
           0.4444444444444444,
           "#9e2f7f"
          ],
          [
           0.5555555555555556,
           "#cd4071"
          ],
          [
           0.6666666666666666,
           "#f1605d"
          ],
          [
           0.7777777777777778,
           "#fd9668"
          ],
          [
           0.8888888888888888,
           "#feca8d"
          ],
          [
           1,
           "#fcfdbf"
          ]
         ]
        },
        "geo": {
         "showcountries": false,
         "showland": false
        },
        "legend": {
         "tracegroupgap": 0
        },
        "mapbox": {
         "center": {
          "lat": -38.4161,
          "lon": -63.6167
         },
         "domain": {
          "x": [
           0,
           1
          ],
          "y": [
           0,
           1
          ]
         },
         "layers": [
          {
           "below": "traces",
           "color": "lightblue",
           "source": {
            "features": [
             {
              "geometry": {
               "coordinates": [
                [
                 [
                  -66.20361328125,
                  -26.62781822639305
                 ],
                 [
                  -66.0498046875,
                  -26.64745870265937
                 ],
                 [
                  -65.830078125,
                  -26.725986812271756
                 ],
                 [
                  -65.89599609375,
                  -26.92206991673281
                 ],
                 [
                  -66.181640625,
                  -27.274161117374668
                 ],
                 [
                  -65.6103515625,
                  -27.994401411046148
                 ],
                 [
                  -65.4345703125,
                  -27.89734922968425
                 ],
                 [
                  -65.0390625,
                  -27.89734922968425
                 ],
                 [
                  -64.4677734375,
                  -26.29341500426577
                 ],
                 [
                  -65.36865234375,
                  -26.07652055985696
                 ],
                 [
                  -65.85205078125,
                  -26.31311263768267
                 ],
                 [
                  -66.11572265625,
                  -26.2145910237943
                 ],
                 [
                  -66.20361328125,
                  -26.62781822639305
                 ]
                ]
               ],
               "type": "Polygon"
              },
              "properties": {
               "nombre": "Tucumán"
              },
              "type": "Feature"
             },
             {
              "geometry": {
               "coordinates": [
                [
                 [
                  -64.42108154296874,
                  -26.28356493253137
                 ],
                 [
                  -65.0390625,
                  -27.885211577912145
                 ],
                 [
                  -65.18463134765625,
                  -27.931327412293648
                 ],
                 [
                  -65.08026123046874,
                  -28.738763971370293
                 ],
                 [
                  -64.88250732421875,
                  -28.7965462417692
                 ],
                 [
                  -64.81658935546872,
                  -29.506549442788607
                 ],
                 [
                  -62.79510498046873,
                  -29.869228848968298
                 ],
                 [
                  -62.091979980468736,
                  -30.439202087235568
                 ],
                 [
                  -61.58660888671873,
                  -25.671235828577018
                 ],
                 [
                  -64.22332763671874,
                  -25.651430347039724
                 ],
                 [
                  -64.42108154296874,
                  -26.28356493253137
                 ]
                ]
               ],
               "type": "Polygon"
              },
              "properties": {
               "nombre": "Santiago del Estero"
              },
              "type": "Feature"
             },
             {
              "geometry": {
               "coordinates": [
                [
                 [
                  -66.11572265625,
                  -26.2145910237943
                 ],
                 [
                  -65.85205078125,
                  -26.322960198925365
                 ],
                 [
                  -65.379638671875,
                  -26.056782885778798
                 ],
                 [
                  -64.4677734375,
                  -26.29341500426577
                 ],
                 [
                  -64.215087890625,
                  -25.641526373065755
                 ],
                 [
                  -63.45703124999999,
                  -25.661333498952683
                 ],
                 [
                  -62.33642578125001,
                  -24.397133017391038
                 ],
                 [
                  -62.347412109375,
                  -22.49225722008518
                 ],
                 [
                  -62.80883789062499,
                  -22.15688318686069
                 ],
                 [
                  -62.81982421875001,
                  -22.004174972901993
                 ],
                 [
                  -63.951416015625,
                  -22.034729817044195
                 ],
                 [
                  -64.31396484375,
                  -22.847070687839064
                 ],
                 [
                  -64.5556640625,
                  -22.268764039073968
                 ],
                 [
                  -65.23681640625,
                  -22.09581971780769
                 ],
                 [
                  -65.28076171875,
                  -22.92804166565175
                 ],
                 [
                  -64.434814453125,
                  -23.624394569716923
                 ],
                 [
                  -64.35791015625,
                  -23.49347666096087
                 ],
                 [
                  -64.171142578125,
                  -23.50355189742412
                 ],
                 [
                  -64.18212890625,
                  -24.226928664976363
                 ],
                 [
                  -64.64355468749999,
                  -24.597080137096412
                 ],
                 [
                  -64.83032226562499,
                  -24.44714958973082
                 ],
                 [
                  -64.951171875,
                  -24.597080137096412
                 ],
                 [
                  -65.654296875,
                  -24.397133017391038
                 ],
                 [
                  -65.7421875,
                  -24.096618611278767
                 ],
                 [
                  -65.994873046875,
                  -23.96617587126503
                 ],
                 [
                  -65.950927734375,
                  -23.51362636346272
                 ],
                 [
                  -66.2255859375,
                  -23.433009077420344
                 ],
                 [
                  -66.46728515624999,
                  -24.20688962239801
                 ],
                 [
                  -67.225341796875,
                  -23.694834722205936
                 ],
                 [
                  -67.313232421875,
                  -24.066528197726857
                 ],
                 [
                  -68.40087890624999,
                  -24.487148563173424
                 ],
                 [
                  -68.57666015625,
                  -24.78673454198888
                 ],
                 [
                  -68.37890625,
                  -25.085598897064763
                 ],
                 [
                  -68.499755859375,
                  -25.17511653162175
                 ],
                 [
                  -66.610107421875,
                  -25.29437116258816
                 ],
                 [
                  -66.533203125,
                  -25.393660521998022
                 ],
                 [
                  -66.68701171875,
                  -25.710836919640595
                 ],
                 [
                  -66.884765625,
                  -25.74052909277321
                 ],
                 [
                  -66.851806640625,
                  -26.017297563851745
                 ],
                 [
                  -66.390380859375,
                  -26.401710528707692
                 ],
                 [
                  -66.214599609375,
                  -26.13571361317392
                 ],
                 [
                  -66.11572265625,
                  -26.2145910237943
                 ]
                ]
               ],
               "type": "Polygon"
              },
              "properties": {
               "nombre": "Salta"
              },
              "type": "Feature"
             },
             {
              "geometry": {
               "coordinates": [
                [
                 [
                  -67.225341796875,
                  -23.694834722205936
                 ],
                 [
                  -66.478271484375,
                  -24.20688962239801
                 ],
                 [
                  -66.214599609375,
                  -23.433009077420344
                 ],
                 [
                  -65.950927734375,
                  -23.51362636346272
                 ],
                 [
                  -66.005859375,
                  -23.956136333969273
                 ],
                 [
                  -65.7421875,
                  -24.086589258228027
                 ],
                 [
                  -65.654296875,
                  -24.387127324604496
                 ],
                 [
                  -64.97314453125,
                  -24.58709033920962
                 ],
                 [
                  -64.852294921875,
                  -24.45715052418584
                 ],
                 [
                  -64.66552734375,
                  -24.597080137096412
                 ],
                 [
                  -64.2041015625,
                  -24.196868919249642
                 ],
                 [
                  -64.193115234375,
                  -23.49347666096087
                 ],
                 [
                  -64.35791015625,
                  -23.49347666096087
                 ],
                 [
                  -64.434814453125,
                  -23.61432859499168
                 ],
                 [
                  -65.291748046875,
                  -22.92804166565175
                 ],
                 [
                  -65.247802734375,
                  -22.09581971780769
                 ],
                 [
                  -65.753173828125,
                  -22.09581971780769
                 ],
                 [
                  -66.236572265625,
                  -21.769702899409655
                 ],
                 [
                  -66.302490234375,
                  -22.09581971780769
                 ],
                 [
                  -66.73095703125,
                  -22.207749178410847
                 ],
                 [
                  -66.785888671875,
                  -22.421184710331858
                 ],
                 [
                  -67.00561523437499,
                  -22.52270570348246
                 ],
                 [
                  -67.027587890625,
                  -22.664709810176813
                 ],
                 [
                  -67.1484375,
                  -22.695120184965685
                 ],
                 [
                  -67.19238281249999,
                  -22.806567100271508
                 ],
                 [
                  -67.027587890625,
                  -22.98873816096073
                 ],
                 [
                  -67.225341796875,
                  -23.694834722205936
                 ]
                ]
               ],
               "type": "Polygon"
              },
              "properties": {
               "nombre": "Jujuy"
              },
              "type": "Feature"
             },
             {
              "geometry": {
               "coordinates": [
                [
                 [
                  -62.35839843749999,
                  -24.086589258228027
                 ],
                 [
                  -58.4033203125,
                  -26.804460766546146
                 ],
                 [
                  -57.59033203125,
                  -25.443274612305732
                 ],
                 [
                  -58.13964843749999,
                  -24.96614015991296
                 ],
                 [
                  -58.33740234375,
                  -25.025884063244828
                 ],
                 [
                  -60.09521484375,
                  -24.006326198751115
                 ],
                 [
                  -60.22705078125,
                  -24.046463999666567
                 ],
                 [
                  -61.06201171875,
                  -23.84564988765934
                 ],
                 [
                  -61.36962890625001,
                  -23.483400654325628
                 ],
                 [
                  -62.40234375,
                  -22.43134015636061
                 ],
                 [
                  -62.35839843749999,
                  -24.086589258228027
                 ]
                ]
               ],
               "type": "Polygon"
              },
              "properties": {
               "nombre": "Formosa"
              },
              "type": "Feature"
             },
             {
              "geometry": {
               "coordinates": [
                [
                 [
                  -61.74316406249999,
                  -27.137368359795584
                 ],
                 [
                  -61.65527343749999,
                  -28.052590823339845
                 ],
                 [
                  -58.91967773437499,
                  -28.03319784767635
                 ],
                 [
                  -58.41430664062501,
                  -26.78484736105119
                 ],
                 [
                  -62.369384765625,
                  -24.10664717920179
                 ],
                 [
                  -62.32543945312499,
                  -24.37712083961039
                 ],
                 [
                  -63.468017578125,
                  -25.661333498952683
                 ],
                 [
                  -61.58935546875,
                  -25.681137335685307
                 ],
                 [
                  -61.74316406249999,
                  -27.137368359795584
                 ]
                ]
               ],
               "type": "Polygon"
              },
              "properties": {
               "nombre": "Chaco"
              },
              "type": "Feature"
             },
             {
              "geometry": {
               "coordinates": [
                [
                 [
                  -56.041259765625,
                  -27.371767300523032
                 ],
                 [
                  -55.5908203125,
                  -28.16887518006333
                 ],
                 [
                  -54.86572265625,
                  -27.605670826465445
                 ],
                 [
                  -54.7998046875,
                  -27.547241546253268
                 ],
                 [
                  -54.722900390625,
                  -27.61540601339959
                 ],
                 [
                  -53.81103515625,
                  -27.166695222253104
                 ],
                 [
                  -53.67919921875,
                  -26.892679095908154
                 ],
                 [
                  -53.646240234375,
                  -26.23430203240673
                 ],
                 [
                  -53.8330078125,
                  -25.97779895546436
                 ],
                 [
                  -53.876953125,
                  -25.651430347039724
                 ],
                 [
                  -54.11865234375,
                  -25.50278454875533
                 ],
                 [
                  -54.4482421875,
                  -25.681137335685307
                 ],
                 [
                  -54.64599609375,
                  -25.582085278700696
                 ],
                 [
                  -54.810791015625,
                  -26.657277674217575
                 ],
                 [
                  -55.21728515625,
                  -26.961245770526954
                 ],
                 [
                  -55.382080078125,
                  -26.980828590472107
                 ],
                 [
                  -55.623779296875,
                  -27.215556209029675
                 ],
                 [
                  -55.579833984375,
                  -27.293689224852393
                 ],
                 [
                  -55.777587890625,
                  -27.43028973886258
                 ],
                 [
                  -56.041259765625,
                  -27.371767300523032
                 ]
                ]
               ],
               "type": "Polygon"
              },
              "properties": {
               "nombre": "Misiones"
              },
              "type": "Feature"
             },
             {
              "geometry": {
               "coordinates": [
                [
                 [
                  -56.03027343749999,
                  -27.371767300523032
                 ],
                 [
                  -56.31591796875,
                  -27.41078570257701
                 ],
                 [
                  -56.3818359375,
                  -27.664068965384516
                 ],
                 [
                  -56.6015625,
                  -27.43028973886258
                 ],
                 [
                  -58.71093750000001,
                  -27.254629577800063
                 ],
                 [
                  -58.9306640625,
                  -28.14950321154457
                 ],
                 [
                  -59.08447265624999,
                  -28.130127737874005
                 ],
                 [
                  -59.26025390625,
                  -29.11377539511439
                 ],
                 [
                  -59.56787109374999,
                  -29.267232865200878
                 ],
                 [
                  -59.6337890625,
                  -30.410781790845878
                 ],
                 [
                  -58.62304687499999,
                  -30.12612436422458
                 ],
                 [
                  -58.3154296875,
                  -30.240086360983412
                 ],
                 [
                  -57.83203125,
                  -30.751277776257812
                 ],
                 [
                  -57.94189453125,
                  -30.524413269923986
                 ],
                 [
                  -57.65624999999999,
                  -30.334953881988564
                 ],
                 [
                  -57.12890625,
                  -29.745301662213585
                 ],
                 [
                  -55.92041015625,
                  -28.38173504322308
                 ],
                 [
                  -55.70068359375,
                  -28.459033019728043
                 ],
                 [
                  -55.7666015625,
                  -28.246327971048842
                 ],
                 [
                  -55.634765625,
                  -28.110748760633534
                 ],
                 [
                  -56.03027343749999,
                  -27.371767300523032
                 ]
                ]
               ],
               "type": "Polygon"
              },
              "properties": {
               "nombre": "Corrientes"
              },
              "type": "Feature"
             },
             {
              "geometry": {
               "coordinates": [
                [
                 [
                  -68.5107421875,
                  -25.16517336866393
                 ],
                 [
                  -68.543701171875,
                  -25.631621577258482
                 ],
                 [
                  -68.40087890624999,
                  -26.194876675795218
                 ],
                 [
                  -68.5546875,
                  -26.28356493253137
                 ],
                 [
                  -68.5986328125,
                  -26.539394329017032
                 ],
                 [
                  -68.26904296875,
                  -26.931865156388916
                 ],
                 [
                  -68.323974609375,
                  -27.019984007982554
                 ],
                 [
                  -68.587646484375,
                  -27.196014383173296
                 ],
                 [
                  -68.719482421875,
                  -27.098253906137884
                 ],
                 [
                  -68.818359375,
                  -27.08847315655588
                 ],
                 [
                  -69.10400390625,
                  -27.80020993741824
                 ],
                 [
                  -68.785400390625,
                  -27.761329874505233
                 ],
                 [
                  -68.609619140625,
                  -27.819644755099446
                 ],
                 [
                  -68.5986328125,
                  -27.732160709580892
                 ],
                 [
                  -68.466796875,
                  -27.877928333679495
                 ],
                 [
                  -68.48876953125,
                  -27.994401411046148
                 ],
                 [
                  -68.09326171875,
                  -28.19792655722614
                 ],
                 [
                  -67.928466796875,
                  -28.110748760633534
                 ],
                 [
                  -67.840576171875,
                  -28.391400375817753
                 ],
                 [
                  -67.7197265625,
                  -28.30438068296277
                 ],
                 [
                  -67.1484375,
                  -28.391400375817753
                 ],
                 [
                  -67.060546875,
                  -28.256005619824972
                 ],
                 [
                  -66.566162109375,
                  -28.30438068296277
                 ],
                 [
                  -66.4892578125,
                  -28.661671216419496
                 ],
                 [
                  -66.368408203125,
                  -28.729130483430154
                 ],
                 [
                  -66.42333984375,
                  -28.815799886487284
                 ],
                 [
                  -65.80810546875,
                  -29.180941290001776
                 ],
                 [
                  -65.830078125,
                  -29.286398892934763
                 ],
                 [
                  -65.72021484375,
                  -29.286398892934763
                 ],
                 [
                  -65.445556640625,
                  -30.12612436422458
                 ],
                 [
                  -65.137939453125,
                  -30.05007652169871
                 ],
                 [
                  -64.940185546875,
                  -29.831113764737136
                 ],
                 [
                  -64.962158203125,
                  -29.592565403314072
                 ],
                 [
                  -64.8193359375,
                  -29.563901551414432
                 ],
                 [
                  -64.896240234375,
                  -28.815799886487284
                 ],
                 [
                  -65.126953125,
                  -28.73876397137028
                 ],
                 [
                  -65.181884765625,
                  -27.90705837112198
                 ],
                 [
                  -65.445556640625,
                  -27.90705837112198
                 ],
                 [
                  -65.599365234375,
                  -27.994401411046148
                 ],
                 [
                  -66.2255859375,
                  -27.254629577800063
                 ],
                 [
                  -65.906982421875,
                  -26.912273826625587
                 ],
                 [
                  -65.819091796875,
                  -26.725986812271756
                 ],
                 [
                  -66.2255859375,
                  -26.62781822639305
                 ],
                 [
                  -66.126708984375,
                  -26.23430203240673
                 ],
                 [
                  -66.236572265625,
                  -26.145576207592264
                 ],
                 [
                  -66.42333984375,
                  -26.401710528707692
                 ],
                 [
                  -66.884765625,
                  -25.997549919572098
                 ],
                 [
                  -66.884765625,
                  -25.74052909277321
                 ],
                 [
                  -66.719970703125,
                  -25.70093788144426
                 ],
                 [
                  -66.533203125,
                  -25.41350860804229
                 ],
                 [
                  -66.62109375,
                  -25.28443774698303
                 ],
                 [
                  -68.5107421875,
                  -25.16517336866393
                 ]
                ]
               ],
               "type": "Polygon"
              },
              "properties": {
               "nombre": "Catamarca"
              },
              "type": "Feature"
             },
             {
              "geometry": {
               "coordinates": [
                [
                 [
                  -65.56640625,
                  -30.183121842195504
                 ],
                 [
                  -65.7861328125,
                  -31.91486750327621
                 ],
                 [
                  -65.390625,
                  -32.0639555946604
                 ],
                 [
                  -65.302734375,
                  -32.32427558887654
                 ],
                 [
                  -64.9072265625,
                  -32.43561304116276
                 ],
                 [
                  -65.1434326171875,
                  -33.22030778968541
                 ],
                 [
                  -65.14892578125,
                  -35.0120020431607
                 ],
                 [
                  -63.39111328125,
                  -34.95799531086791
                 ],
                 [
                  -63.39111328125,
                  -34.39784494644985
                 ],
                 [
                  -62.8857421875,
                  -34.37971258046219
                 ],
                 [
                  -62.90771484375,
                  -34.39784494644985
                 ],
                 [
                  -61.80908203125,
                  -33.04550781490999
                 ],
                 [
                  -62.2705078125,
                  -31.69078180613681
                 ],
                 [
                  -61.87499999999999,
                  -30.713503990354965
                 ],
                 [
                  -62.77587890625,
                  -29.91685223307016
                 ],
                 [
                  -64.8193359375,
                  -29.516110386062277
                 ],
                 [
                  -64.8193359375,
                  -29.592565403314072
                 ],
                 [
                  -64.9951171875,
                  -29.554345125748267
                 ],
                 [
                  -64.92919921875,
                  -29.82158272057499
                 ],
                 [
                  -65.10498046875,
                  -30.05007652169871
                 ],
                 [
                  -65.56640625,
                  -30.183121842195504
                 ]
                ]
               ],
               "type": "Polygon"
              },
              "properties": {
               "nombre": "Córdoba"
              },
              "type": "Feature"
             },
             {
              "geometry": {
               "coordinates": [
                [
                 [
                  -61.8310546875,
                  -28.09136628140693
                 ],
                 [
                  -62.11669921874999,
                  -30.496017831341284
                 ],
                 [
                  -61.885986328125,
                  -30.694611546632277
                 ],
                 [
                  -62.2705078125,
                  -31.672083485607377
                 ],
                 [
                  -61.84204101562499,
                  -33.05471648804274
                 ],
                 [
                  -62.8857421875,
                  -34.34343606848294
                 ],
                 [
                  -61.8310546875,
                  -34.37971258046219
                 ],
                 [
                  -60.87524414062499,
                  -33.54139466898275
                 ],
                 [
                  -60.50170898437499,
                  -33.687781758439364
                 ],
                 [
                  -60.2490234375,
                  -33.26624989076273
                 ],
                 [
                  -60.68847656249999,
                  -32.981020148981465
                 ],
                 [
                  -60.8203125,
                  -31.84023266790935
                 ],
                 [
                  -59.65576171875,
                  -30.694611546632277
                 ],
                 [
                  -59.688720703125,
                  -30.439202087235582
                 ],
                 [
                  -59.578857421875,
                  -29.22889003019423
                 ],
                 [
                  -59.2822265625,
                  -29.094577077511815
                 ],
                 [
                  -59.08447265624999,
                  -28.139815912754436
                 ],
                 [
                  -58.9306640625,
                  -28.16887518006333
                 ],
                 [
                  -58.89770507812501,
                  -27.994401411046148
                 ],
                 [
                  -61.8310546875,
                  -28.09136628140693
                 ]
                ]
               ],
               "type": "Polygon"
              },
              "properties": {
               "nombre": "Santa Fe"
              },
              "type": "Feature"
             },
             {
              "geometry": {
               "coordinates": [
                [
                 [
                  -59.69970703124999,
                  -30.713503990354965
                 ],
                 [
                  -60.8203125,
                  -31.78421688448737
                 ],
                 [
                  -60.71044921875,
                  -32.99023555965107
                 ],
                 [
                  -60.29296874999999,
                  -33.26624989076273
                 ],
                 [
                  -59.58984374999999,
                  -33.687781758439364
                 ],
                 [
                  -59.52392578125,
                  -33.62834199137178
                 ],
                 [
                  -59.45800781249999,
                  -33.72890830547333
                 ],
                 [
                  -59.2437744140625,
                  -33.71977077483139
                 ],
                 [
                  -59.249267578125,
                  -33.792843773631844
                 ],
                 [
                  -58.85925292968751,
                  -33.957030069982295
                 ],
                 [
                  -58.74938964843749,
                  -33.95247360616282
                 ],
                 [
                  -58.64501953125,
                  -34.02990029603907
                 ],
                 [
                  -58.392333984375,
                  -33.99802726234876
                 ],
                 [
                  -58.4967041015625,
                  -33.57343808567734
                 ],
                 [
                  -58.4307861328125,
                  -33.536816067733
                 ],
                 [
                  -58.35937499999999,
                  -33.08233672856374
                 ],
                 [
                  -58.07373046875,
                  -32.953368145799324
                 ],
                 [
                  -58.22753906250001,
                  -32.509761735919426
                 ],
                 [
                  -58.00781249999999,
                  -32.32427558887654
                 ],
                 [
                  -58.16162109375,
                  -32.249974455863295
                 ],
                 [
                  -58.24951171874999,
                  -31.821564514920727
                 ],
                 [
                  -58.07373046875,
                  -31.821564514920727
                 ],
                 [
                  -57.94189453125,
                  -31.55981453201843
                 ],
                 [
                  -58.0517578125,
                  -31.409912194070973
                 ],
                 [
                  -57.81005859375,
                  -30.789036751261136
                 ],
                 [
                  -58.24951171874999,
                  -30.29701788337204
                 ],
                 [
                  -58.71093750000001,
                  -30.10711788709237
                 ],
                 [
                  -59.69970703124999,
                  -30.4297295750316
                 ],
                 [
                  -59.69970703124999,
                  -30.713503990354965
                 ]
                ]
               ],
               "type": "Polygon"
              },
              "properties": {
               "nombre": "Entre Ríos"
              },
              "type": "Feature"
             },
             {
              "geometry": {
               "coordinates": [
                [
                 [
                  -60.5126953125,
                  -33.687781758439364
                 ],
                 [
                  -60.87524414062499,
                  -33.54139466898275
                 ],
                 [
                  -61.84204101562499,
                  -34.384246040152185
                 ],
                 [
                  -62.852783203125,
                  -34.352506668675936
                 ],
                 [
                  -62.90222167968749,
                  -34.39784494644985
                 ],
                 [
                  -63.4130859375,
                  -34.37971258046219
                 ],
                 [
                  -63.39111328125,
                  -40.713955826286046
                 ],
                 [
                  -63.19335937499999,
                  -40.72228267283148
                 ],
                 [
                  -62.99560546875,
                  -40.813809230569596
                 ],
                 [
                  -62.984619140625,
                  -40.768061709366116
                 ],
                 [
                  -62.78686523437499,
                  -41.02549937831375
                 ],
                 [
                  -62.70996093749999,
                  -41.02964338716638
                 ],
                 [
                  -62.34191894531249,
                  -40.8844479390356
                 ],
                 [
                  -62.17163085937499,
                  -40.59309953216488
                 ],
                 [
                  -62.39685058593749,
                  -40.48873742102282
                 ],
                 [
                  -62.479248046875,
                  -40.27533480732467
                 ],
                 [
                  -62.3529052734375,
                  -40.20405042511328
                 ],
                 [
                  -62.30346679687499,
                  -39.871803651624425
                 ],
                 [
                  -62.13317871093751,
                  -39.87601941962115
                 ],
                 [
                  -62.0562744140625,
                  -39.44467758047343
                 ],
                 [
                  -62.22656249999999,
                  -39.32579941789297
                 ],
                 [
                  -62.02880859375,
                  -39.40648882684978
                 ],
                 [
                  -62.00683593749999,
                  -39.33854604847978
                 ],
                 [
                  -62.2979736328125,
                  -39.23650795487107
                 ],
                 [
                  -62.3529052734375,
                  -39.10022600175344
                 ],
                 [
                  -62.314453125,
                  -39.031986028740064
                 ],
                 [
                  -62.33642578125001,
                  -38.95513722542956
                 ],
                 [
                  -62.391357421875,
                  -38.81403111409755
                 ],
                 [
                  -62.51220703125,
                  -38.818311173746615
                 ],
                 [
                  -62.52868652343749,
                  -38.719804742642374
                 ],
                 [
                  -62.40234375,
                  -38.728375918239784
                 ],
                 [
                  -62.16064453125,
                  -38.82687052138062
                 ],
                 [
                  -62.105712890625,
                  -38.90813299596704
                 ],
                 [
                  -61.80908203125,
                  -38.99784130750071
                 ],
                 [
                  -61.74316406249999,
                  -38.98076276501631
                 ],
                 [
                  -61.65527343749999,
                  -39.01491572891581
                 ],
                 [
                  -61.04003906249999,
                  -38.98076276501631
                 ],
                 [
                  -60.7269287109375,
                  -38.95513722542956
                 ],
                 [
                  -60.062255859375,
                  -38.85254239036424
                 ],
                 [
                  -59.25476074218749,
                  -38.724090458956944
                 ],
                 [
                  -58.74938964843749,
                  -38.5825261593533
                 ],
                 [
                  -58.56811523437499,
                  -38.561052624469774
                 ],
                 [
                  -58.3154296875,
                  -38.475094320502436
                 ],
                 [
                  -58.018798828125,
                  -38.358887858666755
                 ],
                 [
                  -57.81005859375,
                  -38.272688535980954
                 ],
                 [
                  -57.54638671874999,
                  -38.09133660751174
                 ],
                 [
                  -57.568359375,
                  -37.98750437106372
                 ],
                 [
                  -57.48046875,
                  -37.75334401310657
                 ],
                 [
                  -57.19482421875,
                  -37.54457732085582
                 ],
                 [
                  -56.689453125,
                  -36.89719446989034
                 ],
                 [
                  -56.766357421875,
                  -36.29741818650809
                 ],
                 [
                  -57.008056640625,
                  -36.28856319836237
                 ],
                 [
                  -57.23876953124999,
                  -36.199958059328935
                 ],
                 [
                  -57.37060546875,
                  -36.01356058518153
                 ],
                 [
                  -57.403564453125,
                  -35.764343479667176
                 ],
                 [
                  -57.095947265625,
                  -35.415914923456214
                 ],
                 [
                  -57.83203125,
                  -34.867904962568716
                 ],
                 [
                  -58.502197265625,
                  -34.50655662164559
                 ],
                 [
                  -58.42529296875,
                  -33.96158628979907
                 ],
                 [
                  -58.67797851562499,
                  -34.04355650412745
                 ],
                 [
                  -58.78784179687499,
                  -33.9433599465788
                 ],
                 [
                  -58.853759765625,
                  -33.97980872872456
                 ],
                 [
                  -59.26025390625,
                  -33.797408767572485
                 ],
                 [
                  -59.249267578125,
                  -33.7243396617476
                 ],
                 [
                  -59.45800781249999,
                  -33.73347670599253
                 ],
                 [
                  -59.56787109374999,
                  -33.61461929233377
                 ],
                 [
                  -59.61181640625,
                  -33.69692269295766
                 ],
                 [
                  -60.303955078125,
                  -33.28461996888768
                 ],
                 [
                  -60.5126953125,
                  -33.687781758439364
                 ]
                ]
               ],
               "type": "Polygon"
              },
              "properties": {
               "nombre": "Buenos Aires"
              },
              "type": "Feature"
             },
             {
              "geometry": {
               "coordinates": [
                [
                 [
                  -65.126953125,
                  -35.94243575255425
                 ],
                 [
                  -68.3349609375,
                  -36.03133177633187
                 ],
                 [
                  -68.2470703125,
                  -36.226550147470896
                 ],
                 [
                  -68.291015625,
                  -37.596824001083654
                 ],
                 [
                  -67.87353515625,
                  -37.6664292120906
                 ],
                 [
                  -67.7197265625,
                  -37.87485339352927
                 ],
                 [
                  -67.96142578125,
                  -38.01347623104191
                 ],
                 [
                  -67.65380859375,
                  -38.255436376379464
                 ],
                 [
                  -67.236328125,
                  -38.20365531807149
                 ],
                 [
                  -67.1484375,
                  -38.42777351132903
                 ],
                 [
                  -66.62109375,
                  -38.5825261593533
                 ],
                 [
                  -66.62109375,
                  -38.736946065676
                 ],
                 [
                  -66.3134765625,
                  -38.78834535508562
                 ],
                 [
                  -66.09375,
                  -38.75408327579141
                 ],
                 [
                  -65.654296875,
                  -38.83970761354513
                 ],
                 [
                  -65.56640625,
                  -38.75408327579141
                 ],
                 [
                  -65.36865234375,
                  -38.87392853923629
                 ],
                 [
                  -65.19287109375,
                  -38.8225909761771
                 ],
                 [
                  -64.53369140625,
                  -38.856820134743614
                 ],
                 [
                  -64.0283203125,
                  -39.07890809706474
                 ],
                 [
                  -63.43505859374999,
                  -39.35129035526704
                 ],
                 [
                  -63.4130859375,
                  -34.93998515156043
                 ],
                 [
                  -65.126953125,
                  -35.0120020431607
                 ],
                 [
                  -65.126953125,
                  -35.94243575255425
                 ]
                ]
               ],
               "type": "Polygon"
              },
              "properties": {
               "nombre": "La Pampa"
              },
              "type": "Feature"
             },
             {
              "geometry": {
               "coordinates": [
                [
                 [
                  -69.10400390625,
                  -27.797780340741387
                 ],
                 [
                  -69.169921875,
                  -27.98470011861267
                 ],
                 [
                  -69.27978515625,
                  -27.97499795326775
                 ],
                 [
                  -69.400634765625,
                  -28.217289755957054
                 ],
                 [
                  -69.49951171875,
                  -28.178559849396965
                 ],
                 [
                  -69.598388671875,
                  -28.391400375817753
                 ],
                 [
                  -69.41162109375,
                  -28.44937385955666
                 ],
                 [
                  -69.312744140625,
                  -28.401064827220896
                 ],
                 [
                  -69.2138671875,
                  -28.5941685062326
                 ],
                 [
                  -69.2138671875,
                  -28.729130483430154
                 ],
                 [
                  -68.93920898437499,
                  -28.835049972635165
                 ],
                 [
                  -68.92822265625,
                  -29.171348850951507
                 ],
                 [
                  -69.027099609375,
                  -29.171348850951507
                 ],
                 [
                  -68.9501953125,
                  -29.439597566602902
                 ],
                 [
                  -69.027099609375,
                  -29.487424847484775
                 ],
                 [
                  -68.97216796875,
                  -29.64986867797228
                 ],
                 [
                  -68.90625,
                  -29.602118211647333
                 ],
                 [
                  -68.26904296875,
                  -29.754839972510933
                 ],
                 [
                  -68.170166015625,
                  -29.91685223307016
                 ],
                 [
                  -68.0712890625,
                  -29.897805610155864
                 ],
                 [
                  -67.598876953125,
                  -30.29701788337204
                 ],
                 [
                  -67.4560546875,
                  -30.56226095049943
                 ],
                 [
                  -67.291259765625,
                  -30.56226095049943
                 ],
                 [
                  -67.093505859375,
                  -30.892797477508154
                 ],
                 [
                  -67.159423828125,
                  -31.005862904624195
                 ],
                 [
                  -67.071533203125,
                  -31.05293398570514
                 ],
                 [
                  -67.1044921875,
                  -31.42866311735861
                 ],
                 [
                  -67.00561523437499,
                  -31.531726144517158
                 ],
                 [
                  -67.03857421875,
                  -31.63467554954133
                 ],
                 [
                  -66.873779296875,
                  -31.63467554954133
                 ],
                 [
                  -66.829833984375,
                  -31.78421688448737
                 ],
                 [
                  -66.676025390625,
                  -31.905541455900355
                 ],
                 [
                  -66.346435546875,
                  -31.98944183792288
                 ],
                 [
                  -66.3134765625,
                  -31.905541455900355
                 ],
                 [
                  -66.082763671875,
                  -31.980123357368026
                 ],
                 [
                  -65.9619140625,
                  -31.886886525780806
                 ],
                 [
                  -65.80810546875,
                  -31.905541455900355
                 ],
                 [
                  -65.577392578125,
                  -30.183121842195504
                 ],
                 [
                  -65.4345703125,
                  -30.145127183376115
                 ],
                 [
                  -65.71746826171875,
                  -29.288794393648296
                 ],
                 [
                  -65.8355712890625,
                  -29.286398892934763
                 ],
                 [
                  -65.81634521484375,
                  -29.18333925965321
                 ],
                 [
                  -66.42608642578125,
                  -28.806173508854766
                 ],
                 [
                  -66.37390136718749,
                  -28.729130483430154
                 ],
                 [
                  -66.49200439453125,
                  -28.671310915880834
                 ],
                 [
                  -66.566162109375,
                  -28.30921698045776
                 ],
                 [
                  -67.06878662109375,
                  -28.263263279931966
                 ],
                 [
                  -67.14569091796874,
                  -28.388984125273186
                 ],
                 [
                  -67.7252197265625,
                  -28.301962451766745
                 ],
                 [
                  -67.84332275390625,
                  -28.386567819657188
                 ],
                 [
                  -67.92572021484374,
                  -28.110748760633534
                 ],
                 [
                  -68.0987548828125,
                  -28.19308520918522
                 ],
                 [
                  -68.49700927734375,
                  -27.98712552356428
                 ],
                 [
                  -68.47503662109375,
                  -27.87307256542277
                 ],
                 [
                  -68.60412597656249,
                  -27.737022779516813
                 ],
                 [
                  -68.61785888671875,
                  -27.819644755099446
                 ],
                 [
                  -68.78814697265625,
                  -27.763760285581967
                 ],
                 [
                  -69.10400390625,
                  -27.797780340741387
                 ]
                ]
               ],
               "type": "Polygon"
              },
              "properties": {
               "nombre": "La Rioja"
              },
              "type": "Feature"
             },
             {
              "geometry": {
               "coordinates": [
                [
                 [
                  -69.840087890625,
                  -29.152161283318915
                 ],
                 [
                  -69.949951171875,
                  -29.200123477644983
                 ],
                 [
                  -69.93896484375,
                  -29.257648503615542
                 ],
                 [
                  -70.0048828125,
                  -29.29598055871568
                 ],
                 [
                  -70.0213623046875,
                  -29.396533739128387
                 ],
                 [
                  -69.971923828125,
                  -29.40610505570927
                 ],
                 [
                  -69.9884033203125,
                  -29.516110386062277
                 ],
                 [
                  -69.949951171875,
                  -29.55912345157795
                 ],
                 [
                  -69.9609375,
                  -29.65941605491237
                 ],
                 [
                  -69.884033203125,
                  -29.726222319395493
                 ],
                 [
                  -69.89501953125,
                  -29.869228848968298
                 ],
                 [
                  -69.9774169921875,
                  -30.07860131571654
                 ],
                 [
                  -69.818115234375,
                  -30.121373087823034
                 ],
                 [
                  -69.8291015625,
                  -30.216355152668537
                 ],
                 [
                  -69.8785400390625,
                  -30.230594564932193
                 ],
                 [
                  -69.949951171875,
                  -30.38709188778112
                 ],
                 [
                  -70.07080078125,
                  -30.38709188778112
                 ],
                 [
                  -70.125732421875,
                  -30.32547125932808
                 ],
                 [
                  -70.169677734375,
                  -30.34917609414982
                 ],
                 [
                  -70.1312255859375,
                  -30.4297295750316
                 ],
                 [
                  -70.18615722656249,
                  -30.481817002827256
                 ],
                 [
                  -70.3179931640625,
                  -30.93050081760778
                 ],
                 [
                  -70.257568359375,
                  -31.029401353028874
                 ],
                 [
                  -70.323486328125,
                  -31.043521630684204
                 ],
                 [
                  -70.400390625,
                  -31.16110911780645
                 ],
                 [
                  -70.4443359375,
                  -31.067050772707812
                 ],
                 [
                  -70.5377197265625,
                  -31.142304905845723
                 ],
                 [
                  -70.5706787109375,
                  -31.57853542647337
                 ],
                 [
                  -70.4443359375,
                  -31.84489911613476
                 ],
                 [
                  -70.2960205078125,
                  -31.872892847840692
                 ],
                 [
                  -70.213623046875,
                  -31.961483557268544
                 ],
                 [
                  -70.2850341796875,
                  -32.04533283885849
                 ],
                 [
                  -70.3839111328125,
                  -32.02204906495203
                 ],
                 [
                  -70.3179931640625,
                  -32.26855544621476
                 ],
                 [
                  -70.224609375,
                  -32.32427558887654
                 ],
                 [
                  -70.24658203125,
                  -32.42634016154639
                 ],
                 [
                  -70.1531982421875,
                  -32.458791067834575
                 ],
                 [
                  -70.09140014648438,
                  -32.60236166681751
                 ],
                 [
                  -70.09140014648438,
                  -32.622026838432575
                 ],
                 [
                  -70.06805419921875,
                  -32.625496714513716
                 ],
                 [
                  -70.00900268554688,
                  -32.535236240827224
                 ],
                 [
                  -69.84420776367188,
                  -32.5722771706588
                 ],
                 [
                  -69.82086181640625,
                  -32.54681317351514
                 ],
                 [
                  -69.79202270507812,
                  -32.54797078468893
                 ],
                 [
                  -69.77279663085938,
                  -32.53176286998226
                 ],
                 [
                  -69.77005004882812,
                  -32.5178680435577
                 ],
                 [
                  -69.70962524414062,
                  -32.49354692775989
                 ],
                 [
                  -69.70138549804688,
                  -32.441408106676086
                 ],
                 [
                  -69.69039916992188,
                  -32.42981760314475
                 ],
                 [
                  -69.74395751953125,
                  -32.39155837235157
                 ],
                 [
                  -69.72061157226562,
                  -32.31267005062579
                 ],
                 [
                  -69.68765258789061,
                  -32.30686672385539
                 ],
                 [
                  -69.63272094726561,
                  -32.25694277294589
                 ],
                 [
                  -69.6038818359375,
                  -32.208153325473255
                 ],
                 [
                  -69.60525512695312,
                  -32.14073437803538
                 ],
                 [
                  -69.532470703125,
                  -32.13840869677249
                 ],
                 [
                  -69.44183349609375,
                  -32.07326555104237
                 ],
                 [
                  -69.30450439453125,
                  -32.082574559545904
                 ],
                 [
                  -69.27154541015625,
                  -32.0616279574764
                 ],
                 [
                  -69.224853515625,
                  -32.00807595929104
                 ],
                 [
                  -69.12597656249999,
                  -32.010404958190534
                 ],
                 [
                  -68.92547607421875,
                  -32.133757156326446
                 ],
                 [
                  -68.91998291015625,
                  -32.33355894864106
                 ],
                 [
                  -68.67828369140625,
                  -32.33355894864106
                 ],
                 [
                  -68.4722900390625,
                  -32.23603621746474
                 ],
                 [
                  -68.46405029296875,
                  -32.136082956202074
                 ],
                 [
                  -68.30749511718749,
                  -32.13840869677249
                 ],
                 [
                  -68.25531005859375,
                  -32.09420948699397
                 ],
                 [
                  -68.20381164550781,
                  -32.12619789718211
                 ],
                 [
                  -68.19145202636719,
                  -32.11224069645199
                 ],
                 [
                  -68.15162658691405,
                  -32.11631176714
                 ],
                 [
                  -68.08090209960938,
                  -32.08606519332937
                 ],
                 [
                  -68.07609558105469,
                  -32.09828136159138
                 ],
                 [
                  -68.05686950683594,
                  -32.07268370653683
                 ],
                 [
                  -68.02253723144531,
                  -32.08606519332937
                 ],
                 [
                  -68.00537109375,
                  -32.079665596220444
                 ],
                 [
                  -67.99095153808594,
                  -32.0947911944772
                 ],
                 [
                  -67.97378540039062,
                  -32.09711798736979
                 ],
                 [
                  -67.95867919921875,
                  -32.118638011730695
                 ],
                 [
                  -67.94975280761719,
                  -32.10991428883184
                 ],
                 [
                  -67.94151306152344,
                  -32.112822289094396
                 ],
                 [
                  -67.94700622558594,
                  -32.12677940089152
                 ],
                 [
                  -67.93327331542967,
                  -32.133175697091374
                 ],
                 [
                  -67.9229736328125,
                  -32.170962836413246
                 ],
                 [
                  -67.89276123046875,
                  -32.18723554514384
                 ],
                 [
                  -67.8460693359375,
                  -32.22674287041065
                 ],
                 [
                  -67.77191162109375,
                  -32.22674287041065
                 ],
                 [
                  -67.7362060546875,
                  -32.21744857303103
                 ],
                 [
                  -67.71697998046875,
                  -32.24068253457368
                 ],
                 [
                  -67.67578124999999,
                  -32.22906629627296
                 ],
                 [
                  -67.65380859375,
                  -32.24068253457368
                 ],
                 [
                  -67.55218505859375,
                  -32.24300560401556
                 ],
                 [
                  -67.52471923828125,
                  -32.21744857303103
                 ],
                 [
                  -67.510986328125,
                  -32.24068253457368
                 ],
                 [
                  -67.48626708984375,
                  -32.30802741894788
                 ],
                 [
                  -67.38739013671874,
                  -32.33355894864106
                 ],
                 [
                  -67.33245849609375,
                  -32.35444302709291
                 ],
                 [
                  -67.2637939453125,
                  -32.34980253736092
                 ],
                 [
                  -67.2857666015625,
                  -32.28945451339287
                 ],
                 [
                  -67.4395751953125,
                  -32.18955998041357
                 ],
                 [
                  -67.4835205078125,
                  -32.11514862261243
                 ],
                 [
                  -67.4505615234375,
                  -32.04766089060863
                 ],
                 [
                  -67.4395751953125,
                  -32.01506277844934
                 ],
                 [
                  -67.44232177734374,
                  -31.926523733115925
                 ],
                 [
                  -67.467041015625,
                  -31.86822781618069
                 ],
                 [
                  -67.24456787109375,
                  -31.87755764334002
                 ],
                 [
                  -67.137451171875,
                  -31.83089906339438
                 ],
                 [
                  -67.060546875,
                  -31.85889704445453
                 ],
                 [
                  -66.9781494140625,
                  -31.87056036152958
                 ],
                 [
                  -66.78314208984375,
                  -31.91953017247695
                 ],
                 [
                  -66.62109375,
                  -31.92186141844725
                 ],
                 [
                  -66.676025390625,
                  -31.907873056360206
                 ],
                 [
                  -66.83258056640625,
                  -31.781882156411022
                 ],
                 [
                  -66.873779296875,
                  -31.637013986617973
                 ],
                 [
                  -67.03857421875,
                  -31.632337053668728
                 ],
                 [
                  -67.00836181640625,
                  -31.534067166324203
                 ],
                 [
                  -67.11273193359375,
                  -31.4310067191785
                 ],
                 [
                  -67.0770263671875,
                  -31.05763981413011
                 ],
                 [
                  -67.159423828125,
                  -31.005862904624195
                 ],
                 [
                  -67.10174560546875,
                  -30.888083515609047
                 ],
                 [
                  -67.29400634765624,
                  -30.56226095049943
                 ],
                 [
                  -67.45880126953125,
                  -30.56462594065098
                 ],
                 [
                  -67.59613037109375,
                  -30.301760686320698
                 ],
                 [
                  -68.0712890625,
                  -29.900186637177384
                 ],
                 [
                  -68.18115234375,
                  -29.91447160438235
                 ],
                 [
                  -68.26904296875,
                  -29.754839972510933
                 ],
                 [
                  -68.91448974609375,
                  -29.606894276531495
                 ],
                 [
                  -68.97491455078125,
                  -29.645094649860745
                 ],
                 [
                  -69.03533935546875,
                  -29.489815619374937
                 ],
                 [
                  -68.95294189453125,
                  -29.432421529604852
                 ],
                 [
                  -69.0380859375,
                  -29.171348850951507
                 ],
                 [
                  -68.9501953125,
                  -29.180941290001776
                 ],
                 [
                  -68.93920898437499,
                  -28.84467368077178
                 ],
                 [
                  -69.224853515625,
                  -28.729130483430154
                 ],
                 [
                  -69.224853515625,
                  -28.5941685062326
                 ],
                 [
                  -69.356689453125,
                  -28.410728397237914
                 ],
                 [
                  -69.42260742187499,
                  -28.43971381702787
                 ],
                 [
                  -69.67529296875,
                  -28.43971381702787
                 ],
                 [
                  -69.78515625,
                  -28.700224692776974
                 ],
                 [
                  -69.708251953125,
                  -28.786918085420226
                 ],
                 [
                  -69.774169921875,
                  -28.93124697186731
                 ],
                 [
                  -69.840087890625,
                  -29.152161283318915
                 ]
                ]
               ],
               "type": "Polygon"
              },
              "properties": {
               "nombre": "San Juan"
              },
              "type": "Feature"
             },
             {
              "geometry": {
               "coordinates": [
                [
                 [
                  -67.269287109375,
                  -32.34516180956194
                 ],
                 [
                  -67.30224609375,
                  -32.45415593941475
                 ],
                 [
                  -67.24731445312499,
                  -32.63937487360668
                 ],
                 [
                  -67.159423828125,
                  -32.73184089686568
                 ],
                 [
                  -67.25830078125,
                  -32.87036022808353
                 ],
                 [
                  -67.17041015625,
                  -33.46810795527895
                 ],
                 [
                  -66.895751953125,
                  -33.760882000869174
                 ],
                 [
                  -66.873779296875,
                  -33.84304531474468
                 ],
                 [
                  -66.676025390625,
                  -33.96158628979907
                 ],
                 [
                  -66.7529296875,
                  -34.234512362369856
                 ],
                 [
                  -66.81884765625,
                  -34.27083595164999
                 ],
                 [
                  -66.7529296875,
                  -34.45221847282653
                 ],
                 [
                  -66.7529296875,
                  -34.569906380856345
                 ],
                 [
                  -66.5771484375,
                  -34.84085858477277
                 ],
                 [
                  -66.4892578125,
                  -35.15584570226543
                 ],
                 [
                  -66.533203125,
                  -35.55904339525895
                 ],
                 [
                  -66.5771484375,
                  -35.594785665487244
                 ],
                 [
                  -66.566162109375,
                  -35.65729624809628
                 ],
                 [
                  -66.632080078125,
                  -35.98689628443789
                 ],
                 [
                  -65.137939453125,
                  -35.933540642493114
                 ],
                 [
                  -65.159912109375,
                  -33.20192418977892
                 ],
                 [
                  -64.9072265625,
                  -32.43793111207064
                 ],
                 [
                  -65.31097412109375,
                  -32.32427558887654
                 ],
                 [
                  -65.390625,
                  -32.0639555946604
                 ],
                 [
                  -65.78887939453125,
                  -31.912536080050494
                 ],
                 [
                  -65.9674072265625,
                  -31.886886525780806
                 ],
                 [
                  -66.082763671875,
                  -31.980123357368026
                 ],
                 [
                  -66.3134765625,
                  -31.910204597744368
                 ],
                 [
                  -66.3409423828125,
                  -31.994100723260793
                 ],
                 [
                  -66.62384033203124,
                  -31.92186141844725
                 ],
                 [
                  -66.785888671875,
                  -31.91953017247695
                 ],
                 [
                  -67.14019775390625,
                  -31.835565983656227
                 ],
                 [
                  -67.24456787109375,
                  -31.88222220265971
                 ],
                 [
                  -67.467041015625,
                  -31.87056036152958
                 ],
                 [
                  -67.445068359375,
                  -31.924192605327708
                 ],
                 [
                  -67.43682861328125,
                  -32.00807595929104
                 ],
                 [
                  -67.48077392578125,
                  -32.12212726745139
                 ],
                 [
                  -67.43682861328125,
                  -32.19188435632485
                 ],
                 [
                  -67.28302001953125,
                  -32.28481069238482
                 ],
                 [
                  -67.269287109375,
                  -32.34516180956194
                 ]
                ]
               ],
               "type": "Polygon"
              },
              "properties": {
               "nombre": "San Luis"
              },
              "type": "Feature"
             },
             {
              "geometry": {
               "coordinates": [
                [
                 [
                  -70.17242431640625,
                  -32.623183478738675
                 ],
                 [
                  -70.14770507812499,
                  -32.76880048488168
                 ],
                 [
                  -69.993896484375,
                  -32.898038181605216
                 ],
                 [
                  -70.103759765625,
                  -33.11915022676886
                 ],
                 [
                  -70.015869140625,
                  -33.321348526698806
                 ],
                 [
                  -69.949951171875,
                  -33.25706340236547
                 ],
                 [
                  -69.840087890625,
                  -33.26624989076273
                 ],
                 [
                  -69.78515625,
                  -33.35806161277886
                 ],
                 [
                  -69.884033203125,
                  -33.54139466898275
                 ],
                 [
                  -69.884033203125,
                  -33.706062655101206
                 ],
                 [
                  -69.93896484375,
                  -33.797408767572485
                 ],
                 [
                  -69.884033203125,
                  -33.88865750124074
                 ],
                 [
                  -69.927978515625,
                  -33.96158628979907
                 ],
                 [
                  -69.818115234375,
                  -34.03445260967644
                 ],
                 [
                  -69.862060546875,
                  -34.143634820312634
                 ],
                 [
                  -69.840087890625,
                  -34.24359472969739
                 ],
                 [
                  -69.9609375,
                  -34.29806835099083
                 ],
                 [
                  -70.015869140625,
                  -34.225429015241396
                 ],
                 [
                  -70.059814453125,
                  -34.30714385628803
                 ],
                 [
                  -70.037841796875,
                  -34.40690965652058
                 ],
                 [
                  -70.323486328125,
                  -34.7506398050501
                 ],
                 [
                  -70.24658203125,
                  -34.79576153473033
                 ],
                 [
                  -70.38940429687499,
                  -35.15584570226543
                 ],
                 [
                  -70.587158203125,
                  -35.19176696594738
                 ],
                 [
                  -70.587158203125,
                  -35.27253175660237
                 ],
                 [
                  -70.455322265625,
                  -35.3621760591468
                 ],
                 [
                  -70.33447265624999,
                  -35.82672127366603
                 ],
                 [
                  -70.455322265625,
                  -35.89795019335754
                 ],
                 [
                  -70.433349609375,
                  -36.11125252076157
                 ],
                 [
                  -70.37841796875,
                  -36.323977120112616
                 ],
                 [
                  -70.24658203125,
                  -36.323977120112616
                 ],
                 [
                  -70.24658203125,
                  -36.46547188679815
                 ],
                 [
                  -69.8291015625,
                  -36.888408043138206
                 ],
                 [
                  -69.752197265625,
                  -37.0990029438762
                 ],
                 [
                  -69.42260742187499,
                  -37.17782559332974
                 ],
                 [
                  -69.32373046875,
                  -37.13404537126445
                 ],
                 [
                  -69.08203125,
                  -37.239075302021824
                 ],
                 [
                  -69.01611328125,
                  -37.37015718405751
                 ],
                 [
                  -68.873291015625,
                  -37.39634613318924
                 ],
                 [
                  -68.79638671875,
                  -37.35269280367274
                 ],
                 [
                  -68.70849609375,
                  -37.448696585910376
                 ],
                 [
                  -68.543701171875,
                  -37.448696585910376
                 ],
                 [
                  -68.433837890625,
                  -37.561996953143506
                 ],
                 [
                  -68.31298828125,
                  -37.579412513438385
                 ],
                 [
                  -68.29376220703125,
                  -36.17335693522159
                 ],
                 [
                  -68.3349609375,
                  -36.01356058518153
                 ],
                 [
                  -66.63482666015625,
                  -35.98689628443789
                 ],
                 [
                  -66.566162109375,
                  -35.66845370835341
                 ],
                 [
                  -66.57440185546875,
                  -35.6037187406973
                 ],
                 [
                  -66.544189453125,
                  -35.56798045801208
                 ],
                 [
                  -66.500244140625,
                  -35.13787911963418
                 ],
                 [
                  -66.59912109375,
                  -34.858890491257796
                 ],
                 [
                  -66.76391601562499,
                  -34.56085936708384
                 ],
                 [
                  -66.76391601562499,
                  -34.488447837809304
                 ],
                 [
                  -66.829833984375,
                  -34.27083595164999
                 ],
                 [
                  -66.68701171875,
                  -33.934245311173115
                 ],
                 [
                  -66.88201904296875,
                  -33.838482755995145
                 ],
                 [
                  -66.90399169921874,
                  -33.765448698492214
                 ],
                 [
                  -67.17864990234375,
                  -33.45894275368763
                 ],
                 [
                  -67.236328125,
                  -32.861132322810946
                 ],
                 [
                  -67.18414306640625,
                  -32.819594869239744
                 ],
                 [
                  -67.16766357421875,
                  -32.741082231501245
                 ],
                 [
                  -67.2528076171875,
                  -32.64400044827675
                 ],
                 [
                  -67.3077392578125,
                  -32.45415593941475
                 ],
                 [
                  -67.27203369140625,
                  -32.35212281198642
                 ],
                 [
                  -67.33245849609375,
                  -32.359083278739675
                 ],
                 [
                  -67.49176025390625,
                  -32.30570601389429
                 ],
                 [
                  -67.532958984375,
                  -32.22209584050232
                 ],
                 [
                  -67.554931640625,
                  -32.24765156466267
                 ],
                 [
                  -67.66754150390625,
                  -32.2313896627376
                 ],
                 [
                  -67.72247314453124,
                  -32.23835940572264
                 ],
                 [
                  -67.74169921875,
                  -32.21977223646089
                 ],
                 [
                  -67.7801513671875,
                  -32.22906629627296
                 ],
                 [
                  -67.840576171875,
                  -32.22906629627296
                 ],
                 [
                  -67.93121337890625,
                  -32.16863792635911
                 ],
                 [
                  -68.00811767578125,
                  -32.0849016635483
                 ],
                 [
                  -68.15643310546875,
                  -32.11514862261243
                 ],
                 [
                  -68.19488525390625,
                  -32.112822289094396
                 ],
                 [
                  -68.20587158203124,
                  -32.131431297147934
                 ],
                 [
                  -68.25531005859375,
                  -32.09653629470277
                 ],
                 [
                  -68.30474853515625,
                  -32.14305999998843
                 ],
                 [
                  -68.46405029296875,
                  -32.13840869677249
                 ],
                 [
                  -68.466796875,
                  -32.2313896627376
                 ],
                 [
                  -68.66729736328125,
                  -32.34052084371421
                 ],
                 [
                  -68.92547607421875,
                  -32.33587963983593
                 ],
                 [
                  -68.93096923828124,
                  -32.131431297147934
                 ],
                 [
                  -69.12872314453125,
                  -32.01273389791075
                 ],
                 [
                  -69.22760009765624,
                  -32.01506277844934
                 ],
                 [
                  -69.29901123046875,
                  -32.0849016635483
                 ],
                 [
                  -69.43634033203125,
                  -32.07326555104237
                 ],
                 [
                  -69.52423095703125,
                  -32.13840869677249
                 ],
                 [
                  -69.60113525390625,
                  -32.136082956202074
                 ],
                 [
                  -69.60113525390625,
                  -32.210477226433824
                 ],
                 [
                  -69.62860107421875,
                  -32.2546200600072
                 ],
                 [
                  -69.686279296875,
                  -32.31731244438278
                 ],
                 [
                  -69.71923828125,
                  -32.30570601389429
                 ],
                 [
                  -69.7467041015625,
                  -32.39155837235157
                 ],
                 [
                  -69.686279296875,
                  -32.424021792657385
                 ],
                 [
                  -69.70550537109375,
                  -32.49123028794758
                 ],
                 [
                  -69.76318359375,
                  -32.5190260278275
                 ],
                 [
                  -69.79888916015625,
                  -32.54681317351514
                 ],
                 [
                  -69.82086181640625,
                  -32.54681317351514
                 ],
                 [
                  -69.8455810546875,
                  -32.5722771706588
                 ],
                 [
                  -70.00762939453125,
                  -32.53755174676898
                 ],
                 [
                  -70.06256103515625,
                  -32.63243606312154
                 ],
                 [
                  -70.09552001953125,
                  -32.618556827843264
                 ],
                 [
                  -70.0982666015625,
                  -32.590791901737894
                 ],
                 [
                  -70.12847900390625,
                  -32.57459172113417
                 ],
                 [
                  -70.17242431640625,
                  -32.623183478738675
                 ]
                ]
               ],
               "type": "Polygon"
              },
              "properties": {
               "nombre": "Mendoza"
              },
              "type": "Feature"
             },
             {
              "geometry": {
               "coordinates": [
                [
                 [
                  -68.0712890625,
                  -38.95940879245421
                 ],
                 [
                  -68.22509765625,
                  -38.69408504756832
                 ],
                 [
                  -68.258056640625,
                  -37.570705242331144
                 ],
                 [
                  -68.45581054687499,
                  -37.570705242331144
                 ],
                 [
                  -68.543701171875,
                  -37.448696585910376
                 ],
                 [
                  -68.70849609375,
                  -37.448696585910376
                 ],
                 [
                  -68.79638671875,
                  -37.32648861334206
                 ],
                 [
                  -68.851318359375,
                  -37.40507375017693
                 ],
                 [
                  -69.049072265625,
                  -37.35269280367274
                 ],
                 [
                  -69.08203125,
                  -37.212831514455935
                 ],
                 [
                  -69.3017578125,
                  -37.13404537126445
                 ],
                 [
                  -69.444580078125,
                  -37.18657859524883
                 ],
                 [
                  -69.76318359375,
                  -37.090239803072066
                 ],
                 [
                  -69.85107421874999,
                  -36.87962060502676
                 ],
                 [
                  -70.2685546875,
                  -36.46547188679815
                 ],
                 [
                  -70.257568359375,
                  -36.3151251474805
                 ],
                 [
                  -70.37841796875,
                  -36.30627216957991
                 ],
                 [
                  -70.433349609375,
                  -36.15561783381853
                 ],
                 [
                  -70.55419921875,
                  -36.120127589781454
                 ],
                 [
                  -70.675048828125,
                  -36.26199220445662
                 ],
                 [
                  -70.675048828125,
                  -36.40359962073253
                 ],
                 [
                  -70.927734375,
                  -36.37706783983681
                 ],
                 [
                  -70.927734375,
                  -36.47430675509521
                 ],
                 [
                  -70.9716796875,
                  -36.500805317604794
                 ],
                 [
                  -71.05957031249999,
                  -36.456636011596196
                 ],
                 [
                  -71.015625,
                  -36.65960622647969
                 ],
                 [
                  -71.05957031249999,
                  -36.72127388004499
                 ],
                 [
                  -71.11450195312499,
                  -36.6507925250347
                 ],
                 [
                  -71.103515625,
                  -36.91476428895593
                 ],
                 [
                  -71.19140625,
                  -36.96744946416932
                 ],
                 [
                  -71.103515625,
                  -37.17782559332974
                 ],
                 [
                  -71.224365234375,
                  -37.300275281344305
                 ],
                 [
                  -71.11450195312499,
                  -37.46613860234405
                 ],
                 [
                  -71.1474609375,
                  -37.60552821745789
                 ],
                 [
                  -71.2353515625,
                  -37.64033489805947
                 ],
                 [
                  -70.960693359375,
                  -38.462191723068266
                 ],
                 [
                  -70.86181640625,
                  -38.54816542304657
                 ],
                 [
                  -70.894775390625,
                  -38.719804742642374
                 ],
                 [
                  -71.47705078125,
                  -38.9764924855394
                 ],
                 [
                  -71.378173828125,
                  -39.33429742980723
                 ],
                 [
                  -71.466064453125,
                  -39.39375459224347
                 ],
                 [
                  -71.531982421875,
                  -39.53793974517625
                 ],
                 [
                  -71.488037109375,
                  -39.65645604812829
                 ],
                 [
                  -71.6748046875,
                  -39.56335316582929
                 ],
                 [
                  -71.6748046875,
                  -39.84228602074339
                 ],
                 [
                  -71.5869140625,
                  -39.89287990029478
                 ],
                 [
                  -71.6748046875,
                  -40.103285912934396
                 ],
                 [
                  -71.806640625,
                  -40.078071427450084
                 ],
                 [
                  -71.8505859375,
                  -40.25437660372649
                 ],
                 [
                  -71.74072265625,
                  -40.3130432088809
                 ],
                 [
                  -71.71875,
                  -40.413496049701955
                 ],
                 [
                  -71.8505859375,
                  -40.39676430557204
                 ],
                 [
                  -71.905517578125,
                  -40.58058466412763
                 ],
                 [
                  -71.982421875,
                  -40.73893324113602
                 ],
                 [
                  -71.883544921875,
                  -40.91351257612757
                 ],
                 [
                  -71.905517578125,
                  -40.98819156349393
                 ],
                 [
                  -71.861572265625,
                  -41.03793062246527
                 ],
                 [
                  -71.3232421875,
                  -41.11246878918086
                 ],
                 [
                  -71.03759765625,
                  -40.93841495689794
                 ],
                 [
                  -71.08154296875,
                  -40.76390128094587
                 ],
                 [
                  -70.90576171875,
                  -40.58058466412763
                 ],
                 [
                  -70.751953125,
                  -40.58058466412763
                 ],
                 [
                  -70.55419921875,
                  -40.48038142908171
                 ],
                 [
                  -70.400390625,
                  -40.530501775743204
                 ],
                 [
                  -70.13671875,
                  -40.49709237269566
                 ],
                 [
                  -69.9609375,
                  -40.17887331434695
                 ],
                 [
                  -70.07080078125,
                  -39.97712009843963
                 ],
                 [
                  -69.43359375,
                  -39.77476948529546
                 ],
                 [
                  -68.79638671875,
                  -39.30029918615028
                 ],
                 [
                  -68.291015625,
                  -38.95940879245421
                 ],
                 [
                  -68.0712890625,
                  -38.95940879245421
                 ]
                ]
               ],
               "type": "Polygon"
              },
              "properties": {
               "nombre": "Neuquén"
              },
              "type": "Feature"
             },
             {
              "geometry": {
               "coordinates": [
                [
                 [
                  -68.07952880859375,
                  -38.950865400919994
                 ],
                 [
                  -68.291015625,
                  -38.96154447940714
                 ],
                 [
                  -68.345947265625,
                  -38.9764924855394
                 ],
                 [
                  -69.41162109375,
                  -39.7663252565449
                 ],
                 [
                  -70.09277343749999,
                  -39.985538414809724
                 ],
                 [
                  -69.9664306640625,
                  -40.18097176388719
                 ],
                 [
                  -70.13671875,
                  -40.49291502689579
                 ],
                 [
                  -70.3948974609375,
                  -40.53258931069554
                 ],
                 [
                  -70.55145263671875,
                  -40.482470524589495
                 ],
                 [
                  -70.7574462890625,
                  -40.58058466412763
                 ],
                 [
                  -70.91125488281249,
                  -40.58684239087908
                 ],
                 [
                  -71.07879638671875,
                  -40.76390128094587
                 ],
                 [
                  -71.03485107421875,
                  -40.94256444133327
                 ],
                 [
                  -71.33148193359375,
                  -41.10832999732831
                 ],
                 [
                  -71.82861328125,
                  -41.02135510866601
                 ],
                 [
                  -71.905517578125,
                  -41.186922422902946
                 ],
                 [
                  -71.817626953125,
                  -41.310823880918186
                 ],
                 [
                  -71.905517578125,
                  -41.269549502842565
                 ],
                 [
                  -71.905517578125,
                  -41.39329428878487
                 ],
                 [
                  -71.806640625,
                  -41.590796851056
                 ],
                 [
                  -71.89453125,
                  -41.66470503009206
                 ],
                 [
                  -71.78466796874999,
                  -41.80407814427234
                 ],
                 [
                  -71.795654296875,
                  -41.99216023337628
                 ],
                 [
                  -65.093994140625,
                  -41.97582726102571
                 ],
                 [
                  -64.9951171875,
                  -41.50857729743933
                 ],
                 [
                  -65.17364501953124,
                  -41.0607151401866
                 ],
                 [
                  -65.16265869140625,
                  -41.03585891144299
                 ],
                 [
                  -65.159912109375,
                  -40.92804010533238
                 ],
                 [
                  -65.12420654296875,
                  -40.86991083161534
                 ],
                 [
                  -65.13519287109375,
                  -40.84290487729675
                 ],
                 [
                  -65.0006103515625,
                  -40.75974059207391
                 ],
                 [
                  -64.9017333984375,
                  -40.761820969066
                 ],
                 [
                  -64.88800048828125,
                  -40.7472569628042
                 ],
                 [
                  -64.9896240234375,
                  -40.713955826286046
                 ],
                 [
                  -64.84405517578125,
                  -40.713955826286046
                 ],
                 [
                  -64.77813720703125,
                  -40.743095232181844
                 ],
                 [
                  -64.80560302734375,
                  -40.75349907043136
                 ],
                 [
                  -64.79461669921875,
                  -40.786780414016455
                 ],
                 [
                  -64.7589111328125,
                  -40.768061709366116
                 ],
                 [
                  -64.73968505859375,
                  -40.7888599444948
                 ],
                 [
                  -64.775390625,
                  -40.801335759791996
                 ],
                 [
                  -64.84954833984375,
                  -40.782621157698514
                 ],
                 [
                  -64.90997314453125,
                  -40.80965166748854
                 ],
                 [
                  -64.8797607421875,
                  -40.83459313808023
                 ],
                 [
                  -64.74517822265625,
                  -40.80757278825516
                 ],
                 [
                  -64.20135498046875,
                  -41.01099329360267
                 ],
                 [
                  -64.14093017578125,
                  -41.017210578228436
                 ],
                 [
                  -64.0887451171875,
                  -40.977824533189505
                 ],
                 [
                  -64.06951904296875,
                  -40.994410999439516
                 ],
                 [
                  -64.08599853515625,
                  -41.04000226828483
                 ],
                 [
                  -63.94317626953125,
                  -41.07935114946897
                 ],
                 [
                  -63.88000488281251,
                  -41.13936457644674
                 ],
                 [
                  -63.84979248046875,
                  -41.14143302653628
                 ],
                 [
                  -63.78662109375001,
                  -41.15591035054503
                 ],
                 [
                  -63.4295654296875,
                  -41.16418167186549
                 ],
                 [
                  -63.32519531249999,
                  -41.14763798539186
                 ],
                 [
                  -63.29223632812499,
                  -41.16211393939691
                 ],
                 [
                  -63.05328369140626,
                  -41.15177429844499
                 ],
                 [
                  -62.98736572265625,
                  -41.11039942586732
                 ],
                 [
                  -62.78686523437499,
                  -41.02342727608893
                 ],
                 [
                  -62.984619140625,
                  -40.77014182590509
                 ],
                 [
                  -62.99835205078124,
                  -40.80965166748854
                 ],
                 [
                  -63.19885253906249,
                  -40.718119379753446
                 ],
                 [
                  -63.39385986328124,
                  -40.70979201243495
                 ],
                 [
                  -63.4130859375,
                  -39.35978526869
                 ],
                 [
                  -64.5281982421875,
                  -38.85895891044852
                 ],
                 [
                  -65.19561767578125,
                  -38.8225909761771
                 ],
                 [
                  -65.36865234375,
                  -38.87606680031535
                 ],
                 [
                  -65.58013916015625,
                  -38.75408327579141
                 ],
                 [
                  -65.6597900390625,
                  -38.84184690380897
                 ],
                 [
                  -66.09375,
                  -38.756225137839074
                 ],
                 [
                  -66.3134765625,
                  -38.79048618862272
                 ],
                 [
                  -66.6265869140625,
                  -38.73266112048232
                 ],
                 [
                  -66.6265869140625,
                  -38.5825261593533
                 ],
                 [
                  -67.15118408203125,
                  -38.42992513040935
                 ],
                 [
                  -67.2418212890625,
                  -38.201496974020806
                 ],
                 [
                  -67.65655517578125,
                  -38.25759312039535
                 ],
                 [
                  -67.96417236328124,
                  -38.01131226070672
                 ],
                 [
                  -67.72247314453124,
                  -37.877021386076336
                 ],
                 [
                  -67.87353515625,
                  -37.6664292120906
                 ],
                 [
                  -68.2635498046875,
                  -37.60552821745789
                 ],
                 [
                  -68.22784423828125,
                  -38.69622870885281
                 ],
                 [
                  -68.07952880859375,
                  -38.950865400919994
                 ]
                ]
               ],
               "type": "Polygon"
              },
              "properties": {
               "nombre": "Río Negro"
              },
              "type": "Feature"
             },
             {
              "geometry": {
               "coordinates": [
                [
                 [
                  -71.795654296875,
                  -42.000325148316215
                 ],
                 [
                  -71.751708984375,
                  -42.12267315117256
                 ],
                 [
                  -71.89453125,
                  -42.204107493733176
                 ],
                 [
                  -72.08129882812499,
                  -42.0737622400872
                 ],
                 [
                  -72.2021484375,
                  -42.15525946577861
                 ],
                 [
                  -72.169189453125,
                  -42.350425122434565
                 ],
                 [
                  -72.02636718749999,
                  -42.40723466155186
                 ],
                 [
                  -72.158203125,
                  -42.72280375732726
                 ],
                 [
                  -72.147216796875,
                  -42.94033923363181
                 ],
                 [
                  -71.773681640625,
                  -43.16512263158296
                 ],
                 [
                  -71.773681640625,
                  -43.31718491566705
                 ],
                 [
                  -71.9384765625,
                  -43.36512572875842
                 ],
                 [
                  -71.905517578125,
                  -43.5326204268101
                 ],
                 [
                  -71.60888671875,
                  -43.63607515596578
                 ],
                 [
                  -71.78466796874999,
                  -43.81074731344698
                 ],
                 [
                  -71.65283203125,
                  -43.94537239244209
                 ],
                 [
                  -71.7626953125,
                  -44.150681159780916
                 ],
                 [
                  -71.883544921875,
                  -44.087585028245165
                 ],
                 [
                  -71.817626953125,
                  -44.4102404129601
                 ],
                 [
                  -71.158447265625,
                  -44.44946753600693
                 ],
                 [
                  -71.11450195312499,
                  -44.6061127451739
                 ],
                 [
                  -71.21337890625,
                  -44.61393394730626
                 ],
                 [
                  -71.25732421875,
                  -44.81691551782855
                 ],
                 [
                  -71.52099609375,
                  -44.73112559264325
                 ],
                 [
                  -71.663818359375,
                  -44.79353090474406
                 ],
                 [
                  -72.08129882812499,
                  -44.74673324024679
                 ],
                 [
                  -72.08129882812499,
                  -44.91035917458493
                 ],
                 [
                  -71.553955078125,
                  -44.98811302615805
                 ],
                 [
                  -71.334228515625,
                  -45.29034662473614
                 ],
                 [
                  -71.553955078125,
                  -45.38301927899064
                 ],
                 [
                  -71.4990234375,
                  -45.47554027158591
                 ],
                 [
                  -71.641845703125,
                  -45.52174389699363
                 ],
                 [
                  -71.7626953125,
                  -45.575600209478
                 ],
                 [
                  -71.773681640625,
                  -45.85176048817253
                 ],
                 [
                  -71.619873046875,
                  -45.98932892799953
                 ],
                 [
                  -67.56591796875,
                  -46.01985337287632
                 ],
                 [
                  -67.401123046875,
                  -45.83645405018771
                 ],
                 [
                  -67.401123046875,
                  -45.70617928533083
                 ],
                 [
                  -66.99462890625,
                  -45.25168825611765
                 ],
                 [
                  -66.64306640625,
                  -45.213003555993964
                 ],
                 [
                  -66.588134765625,
                  -45.213003555993964
                 ],
                 [
                  -66.51123046875,
                  -45.08127861241874
                 ],
                 [
                  -66.148681640625,
                  -44.941473354802504
                 ],
                 [
                  -65.972900390625,
                  -45.08127861241874
                 ],
                 [
                  -65.8740234375,
                  -45.02695045318544
                 ],
                 [
                  -65.643310546875,
                  -45.05800143539828
                 ],
                 [
                  -65.54443359375,
                  -44.941473354802504
                 ],
                 [
                  -65.76416015625,
                  -44.8636563054061
                 ],
                 [
                  -65.72021484375,
                  -44.65302415981199
                 ],
                 [
                  -65.36865234375,
                  -44.5982904898401
                 ],
                 [
                  -65.23681640625,
                  -44.363133113807706
                 ],
                 [
                  -65.302734375,
                  -44.22158376545796
                 ],
                 [
                  -65.302734375,
                  -44.12702800650004
                 ],
                 [
                  -65.21484375,
                  -44.09547572946636
                 ],
                 [
                  -65.21484375,
                  -43.96909818325171
                 ],
                 [
                  -65.401611328125,
                  -43.66787161011748
                 ],
                 [
                  -65.181884765625,
                  -43.52465500687185
                 ],
                 [
                  -64.984130859375,
                  -43.22118973298753
                 ],
                 [
                  -64.281005859375,
                  -42.98053954751642
                 ],
                 [
                  -64.34692382812499,
                  -42.92827401776912
                 ],
                 [
                  -64.412841796875,
                  -42.96245265666877
                 ],
                 [
                  -64.53369140625,
                  -42.93229601903057
                 ],
                 [
                  -64.62158203125,
                  -42.9182178655845
                 ],
                 [
                  -64.70123291015625,
                  -42.90816007196053
                 ],
                 [
                  -64.70947265625,
                  -42.87596410238254
                 ],
                 [
                  -64.8248291015625,
                  -42.833681387335886
                 ],
                 [
                  -64.86328125,
                  -42.837709559849614
                 ],
                 [
                  -64.896240234375,
                  -42.819580715795915
                 ],
                 [
                  -64.9456787109375,
                  -42.78935416050277
                 ],
                 [
                  -65.02532958984374,
                  -42.7752433806997
                 ],
                 [
                  -65.04730224609375,
                  -42.73490914651559
                 ],
                 [
                  -65.00335693359375,
                  -42.700604408080835
                 ],
                 [
                  -64.9896240234375,
                  -42.65214190481524
                 ],
                 [
                  -64.874267578125,
                  -42.61172761665583
                 ],
                 [
                  -64.852294921875,
                  -42.61779143282346
                 ],
                 [
                  -64.69573974609375,
                  -42.52272381854158
                 ],
                 [
                  -64.57763671875,
                  -42.49032731830466
                 ],
                 [
                  -64.390869140625,
                  -42.51462626746591
                 ],
                 [
                  -64.34967041015625,
                  -42.53082032025189
                 ],
                 [
                  -64.31121826171875,
                  -42.593532625649935
                 ],
                 [
                  -64.27825927734375,
                  -42.56117285531809
                 ],
                 [
                  -64.25628662109375,
                  -42.595554553719204
                 ],
                 [
                  -64.281005859375,
                  -42.627896481020834
                 ],
                 [
                  -64.21783447265625,
                  -42.61172761665583
                 ],
                 [
                  -64.2041015625,
                  -42.62587560259135
                 ],
                 [
                  -64.26177978515625,
                  -42.68647341541783
                 ],
                 [
                  -64.259033203125,
                  -42.76314586689493
                 ],
                 [
                  -64.127197265625,
                  -42.879989517714804
                 ],
                 [
                  -63.73718261718749,
                  -42.81555136172695
                 ],
                 [
                  -63.62731933593749,
                  -42.765162283274684
                 ],
                 [
                  -63.64379882812499,
                  -42.7066595635104
                 ],
                 [
                  -63.58886718749999,
                  -42.60970621339408
                 ],
                 [
                  -63.60260009765625,
                  -42.50247797334869
                 ],
                 [
                  -63.60260009765625,
                  -42.32809302822459
                 ],
                 [
                  -63.6328125,
                  -42.261049162113835
                 ],
                 [
                  -63.67675781249999,
                  -42.21427941637545
                 ],
                 [
                  -63.75640869140625,
                  -42.0737622400872
                 ],
                 [
                  -63.797607421875,
                  -42.067645723795266
                 ],
                 [
                  -63.97338867187501,
                  -42.116561350389006
                 ],
                 [
                  -64.05303955078125,
                  -42.16951070521655
                 ],
                 [
                  -64.3853759765625,
                  -42.24071874922666
                 ],
                 [
                  -64.4842529296875,
                  -42.24071874922666
                 ],
                 [
                  -64.8248291015625,
                  -42.20003826604674
                 ],
                 [
                  -64.9072265625,
                  -42.15933157601719
                 ],
                 [
                  -65.093994140625,
                  -41.996242821785806
                 ],
                 [
                  -65.0994873046875,
                  -41.97378534488486
                 ],
                 [
                  -71.795654296875,
                  -42.000325148316215
                 ]
                ]
               ],
               "type": "Polygon"
              },
              "properties": {
               "nombre": "Chubut"
              },
              "type": "Feature"
             },
             {
              "geometry": {
               "coordinates": [
                [
                 [
                  -67.598876953125,
                  -46.01985337287632
                 ],
                 [
                  -71.60888671875,
                  -45.98169518512228
                 ],
                 [
                  -71.7626953125,
                  -46.10370875598025
                 ],
                 [
                  -71.9384765625,
                  -46.13417004624325
                 ],
                 [
                  -71.78466796874999,
                  -46.21785176740299
                 ],
                 [
                  -71.641845703125,
                  -46.68713141244413
                 ],
                 [
                  -71.883544921875,
                  -46.8000594467873
                 ],
                 [
                  -71.97143554687499,
                  -46.8000594467873
                 ],
                 [
                  -71.8505859375,
                  -47.21210577562242
                 ],
                 [
                  -72.037353515625,
                  -47.19717795172787
                 ],
                 [
                  -72.037353515625,
                  -47.353710619513606
                 ],
                 [
                  -72.1142578125,
                  -47.31648293428332
                 ],
                 [
                  -72.35595703125,
                  -47.46523622438362
                 ],
                 [
                  -72.322998046875,
                  -47.613569753973955
                 ],
                 [
                  -72.520751953125,
                  -47.76886840424206
                 ],
                 [
                  -72.564697265625,
                  -47.95314495015593
                 ],
                 [
                  -72.44384765625,
                  -47.98992166741417
                 ],
                 [
                  -72.257080078125,
                  -48.34164617237459
                 ],
                 [
                  -72.432861328125,
                  -48.52388120259334
                 ],
                 [
                  -72.57568359375,
                  -48.451065619532145
                 ],
                 [
                  -72.5537109375,
                  -48.78515199804314
                 ],
                 [
                  -72.83935546875,
                  -48.98021698537499
                 ],
                 [
                  -72.894287109375,
                  -48.944151234187935
                 ],
                 [
                  -73.135986328125,
                  -49.2032427441791
                 ],
                 [
                  -73.0810546875,
                  -49.274972875996376
                 ],
                 [
                  -73.47656249999999,
                  -49.210420445650286
                 ],
                 [
                  -73.5205078125,
                  -49.26780455063752
                 ],
                 [
                  -73.41064453125,
                  -49.35375571830991
                 ],
                 [
                  -73.54248046875,
                  -49.55372551347578
                 ],
                 [
                  -73.45458984375,
                  -49.80963156356309
                 ],
                 [
                  -73.564453125,
                  -49.95121990866204
                 ],
                 [
                  -73.45458984375,
                  -49.96535590991309
                 ],
                 [
                  -73.531494140625,
                  -50.14170587960566
                 ],
                 [
                  -73.41064453125,
                  -50.24017888479702
                 ],
                 [
                  -73.42163085937499,
                  -50.34546040860478
                 ],
                 [
                  -73.36669921875,
                  -50.57626025689926
                 ],
                 [
                  -73.17993164062499,
                  -50.625073063414355
                 ],
                 [
                  -73.1689453125,
                  -50.79899141148548
                 ],
                 [
                  -72.79541015625,
                  -50.639010281258706
                 ],
                 [
                  -72.59765625,
                  -50.68775800806201
                 ],
                 [
                  -72.4658203125,
                  -50.59718623058701
                 ],
                 [
                  -72.279052734375,
                  -50.67383524992133
                 ],
                 [
                  -72.3779296875,
                  -50.736455137010644
                 ],
                 [
                  -72.2900390625,
                  -51.03448563297413
                 ],
                 [
                  -72.388916015625,
                  -51.020666012558095
                 ],
                 [
                  -72.388916015625,
                  -51.13800148806255
                 ],
                 [
                  -72.26806640624999,
                  -51.26878915771343
                 ],
                 [
                  -72.3779296875,
                  -51.35806157319091
                 ],
                 [
                  -72.301025390625,
                  -51.39920565355377
                 ],
                 [
                  -72.421875,
                  -51.570241445811234
                 ],
                 [
                  -72.2900390625,
                  -51.618016548773696
                 ],
                 [
                  -72.2900390625,
                  -51.692990211491846
                 ],
                 [
                  -71.927490234375,
                  -51.923943445544694
                 ],
                 [
                  -72.02636718749999,
                  -51.971345808851716
                 ],
                 [
                  -69.9609375,
                  -51.99841038239032
                 ],
                 [
                  -69.521484375,
                  -52.15371445951162
                 ],
                 [
                  -69.169921875,
                  -52.146973340644706
                 ],
                 [
                  -68.895263671875,
                  -52.274880130680536
                 ],
                 [
                  -68.4228515625,
                  -52.35547370875268
                 ],
                 [
                  -68.35693359375,
                  -52.32862548843016
                 ],
                 [
                  -68.9501953125,
                  -51.68617954855623
                 ],
                 [
                  -68.9501953125,
                  -51.52241608253253
                 ],
                 [
                  -69.18090820312499,
                  -50.965346321637696
                 ],
                 [
                  -69.3896484375,
                  -51.082821861609766
                 ],
                 [
                  -69.136962890625,
                  -50.847572953653874
                 ],
                 [
                  -68.93920898437499,
                  -50.324422739309384
                 ],
                 [
                  -68.367919921875,
                  -50.13466432216695
                 ],
                 [
                  -68.64257812499999,
                  -49.83798245308484
                 ],
                 [
                  -68.291015625,
                  -50.12057809796008
                 ],
                 [
                  -67.752685546875,
                  -49.85215166776998
                 ],
                 [
                  -67.6318359375,
                  -49.26780455063752
                 ],
                 [
                  -67.598876953125,
                  -49.0738659012854
                 ],
                 [
                  -67.203369140625,
                  -48.821332549646634
                 ],
                 [
                  -67.159423828125,
                  -48.64016871811908
                 ],
                 [
                  -66.873779296875,
                  -48.60385760823253
                 ],
                 [
                  -66.46728515624999,
                  -48.400032496106846
                 ],
                 [
                  -66.478271484375,
                  -48.327039130634766
                 ],
                 [
                  -66.37939453125,
                  -48.363548888986884
                 ],
                 [
                  -66.192626953125,
                  -48.12943437745314
                 ],
                 [
                  -65.93994140625,
                  -48.08541857551197
                 ],
                 [
                  -66.02783203125,
                  -48.01197512670994
                 ],
                 [
                  -65.9619140625,
                  -47.93106634750977
                 ],
                 [
                  -65.841064453125,
                  -47.975214123416166
                 ],
                 [
                  -65.775146484375,
                  -47.91634204016117
                 ],
                 [
                  -65.906982421875,
                  -47.75409797968002
                 ],
                 [
                  -65.709228515625,
                  -47.36115300722623
                 ],
                 [
                  -65.753173828125,
                  -47.18224592701489
                 ],
                 [
                  -65.928955078125,
                  -47.055154085503474
                 ],
                 [
                  -66.192626953125,
                  -47.070121823833084
                 ],
                 [
                  -66.632080078125,
                  -47.04766864046081
                 ],
                 [
                  -67.39013671875,
                  -46.59661864884464
                 ],
                 [
                  -67.576904296875,
                  -46.36967413462374
                 ],
                 [
                  -67.6318359375,
                  -46.21785176740299
                 ],
                 [
                  -67.598876953125,
                  -46.01985337287632
                 ]
                ]
               ],
               "type": "Polygon"
              },
              "properties": {
               "nombre": "Santa Cruz"
              },
              "type": "Feature"
             },
             {
              "geometry": {
               "coordinates": [
                [
                 [
                  -68.40087890624999,
                  -52.36218321674425
                 ],
                 [
                  -68.62060546875,
                  -52.643063436658906
                 ],
                 [
                  -68.62060546875,
                  -54.927141864546435
                 ],
                 [
                  -67.25830078125,
                  -54.914514007665254
                 ],
                 [
                  -66.37939453125,
                  -55.040614327716725
                 ],
                 [
                  -65.3466796875,
                  -54.914514007665254
                 ],
                 [
                  -65.19287109375,
                  -54.686534234529695
                 ],
                 [
                  -65.63232421875,
                  -54.67383096593114
                 ],
                 [
                  -66.5771484375,
                  -54.48280455958254
                 ],
                 [
                  -66.70898437499999,
                  -54.316523240258256
                 ],
                 [
                  -67.47802734375,
                  -53.95608553098789
                 ],
                 [
                  -67.6318359375,
                  -53.77468884583576
                 ],
                 [
                  -68.04931640625,
                  -53.59250480903936
                 ],
                 [
                  -68.09326171875,
                  -53.34399288223421
                 ],
                 [
                  -68.62060546875,
                  -53.25206880589412
                 ],
                 [
                  -68.3349609375,
                  -53.01478324585921
                 ],
                 [
                  -68.5546875,
                  -52.72298552457067
                 ],
                 [
                  -68.40087890624999,
                  -52.36218321674425
                 ]
                ]
               ],
               "type": "Polygon"
              },
              "properties": {
               "nombre": "Tierra del Fuego"
              },
              "type": "Feature"
             },
             {
              "geometry": {
               "coordinates": [
                [
                 [
                  -58.41293334960937,
                  -34.56566571569509
                 ],
                 [
                  -58.46580505371094,
                  -34.53371242139564
                 ],
                 [
                  -58.50116729736328,
                  -34.54954921593402
                 ],
                 [
                  -58.532752990722656,
                  -34.61682196594163
                 ],
                 [
                  -58.52931976318359,
                  -34.6555214931444
                 ],
                 [
                  -58.46099853515624,
                  -34.705281728442685
                 ],
                 [
                  -58.424949645996094,
                  -34.662299113496196
                 ],
                 [
                  -58.41293334960937,
                  -34.65778076151677
                 ],
                 [
                  -58.40572357177734,
                  -34.65975757082139
                 ],
                 [
                  -58.39336395263672,
                  -34.66286389017133
                 ],
                 [
                  -58.38409423828125,
                  -34.6586279712784
                 ],
                 [
                  -58.37692737579346,
                  -34.6571453485119
                 ],
                 [
                  -58.37362289428711,
                  -34.65718064936219
                 ],
                 [
                  -58.36963176727295,
                  -34.6538270014492
                 ],
                 [
                  -58.368988037109375,
                  -34.65146171553466
                 ],
                 [
                  -58.36418151855469,
                  -34.64863740514246
                 ],
                 [
                  -58.36186408996582,
                  -34.64831966420204
                 ],
                 [
                  -58.356971740722656,
                  -34.64436545285109
                 ],
                 [
                  -58.347015380859375,
                  -34.63320791137958
                 ],
                 [
                  -58.34564208984375,
                  -34.626427912618915
                 ],
                 [
                  -58.33602905273437,
                  -34.62699293367837
                 ],
                 [
                  -58.34770202636719,
                  -34.598737167902335
                 ],
                 [
                  -58.35868835449218,
                  -34.595345829770636
                 ],
                 [
                  -58.36486816406249,
                  -34.598737167902335
                 ],
                 [
                  -58.36967468261719,
                  -34.578387062362864
                 ],
                 [
                  -58.41293334960937,
                  -34.56566571569509
                 ]
                ]
               ],
               "type": "Polygon"
              },
              "properties": {
               "nombre": "Capital Federal"
              },
              "type": "Feature"
             }
            ],
            "type": "FeatureCollection"
           },
           "type": "fill"
          }
         ],
         "style": "white-bg",
         "zoom": 2.65
        },
        "margin": {
         "b": 0,
         "l": 0,
         "r": 0,
         "t": 0
        },
        "showlegend": false,
        "template": {
         "data": {
          "bar": [
           {
            "error_x": {
             "color": "#2a3f5f"
            },
            "error_y": {
             "color": "#2a3f5f"
            },
            "marker": {
             "line": {
              "color": "#E5ECF6",
              "width": 0.5
             },
             "pattern": {
              "fillmode": "overlay",
              "size": 10,
              "solidity": 0.2
             }
            },
            "type": "bar"
           }
          ],
          "barpolar": [
           {
            "marker": {
             "line": {
              "color": "#E5ECF6",
              "width": 0.5
             },
             "pattern": {
              "fillmode": "overlay",
              "size": 10,
              "solidity": 0.2
             }
            },
            "type": "barpolar"
           }
          ],
          "carpet": [
           {
            "aaxis": {
             "endlinecolor": "#2a3f5f",
             "gridcolor": "white",
             "linecolor": "white",
             "minorgridcolor": "white",
             "startlinecolor": "#2a3f5f"
            },
            "baxis": {
             "endlinecolor": "#2a3f5f",
             "gridcolor": "white",
             "linecolor": "white",
             "minorgridcolor": "white",
             "startlinecolor": "#2a3f5f"
            },
            "type": "carpet"
           }
          ],
          "choropleth": [
           {
            "colorbar": {
             "outlinewidth": 0,
             "ticks": ""
            },
            "type": "choropleth"
           }
          ],
          "contour": [
           {
            "colorbar": {
             "outlinewidth": 0,
             "ticks": ""
            },
            "colorscale": [
             [
              0,
              "#0d0887"
             ],
             [
              0.1111111111111111,
              "#46039f"
             ],
             [
              0.2222222222222222,
              "#7201a8"
             ],
             [
              0.3333333333333333,
              "#9c179e"
             ],
             [
              0.4444444444444444,
              "#bd3786"
             ],
             [
              0.5555555555555556,
              "#d8576b"
             ],
             [
              0.6666666666666666,
              "#ed7953"
             ],
             [
              0.7777777777777778,
              "#fb9f3a"
             ],
             [
              0.8888888888888888,
              "#fdca26"
             ],
             [
              1,
              "#f0f921"
             ]
            ],
            "type": "contour"
           }
          ],
          "contourcarpet": [
           {
            "colorbar": {
             "outlinewidth": 0,
             "ticks": ""
            },
            "type": "contourcarpet"
           }
          ],
          "heatmap": [
           {
            "colorbar": {
             "outlinewidth": 0,
             "ticks": ""
            },
            "colorscale": [
             [
              0,
              "#0d0887"
             ],
             [
              0.1111111111111111,
              "#46039f"
             ],
             [
              0.2222222222222222,
              "#7201a8"
             ],
             [
              0.3333333333333333,
              "#9c179e"
             ],
             [
              0.4444444444444444,
              "#bd3786"
             ],
             [
              0.5555555555555556,
              "#d8576b"
             ],
             [
              0.6666666666666666,
              "#ed7953"
             ],
             [
              0.7777777777777778,
              "#fb9f3a"
             ],
             [
              0.8888888888888888,
              "#fdca26"
             ],
             [
              1,
              "#f0f921"
             ]
            ],
            "type": "heatmap"
           }
          ],
          "heatmapgl": [
           {
            "colorbar": {
             "outlinewidth": 0,
             "ticks": ""
            },
            "colorscale": [
             [
              0,
              "#0d0887"
             ],
             [
              0.1111111111111111,
              "#46039f"
             ],
             [
              0.2222222222222222,
              "#7201a8"
             ],
             [
              0.3333333333333333,
              "#9c179e"
             ],
             [
              0.4444444444444444,
              "#bd3786"
             ],
             [
              0.5555555555555556,
              "#d8576b"
             ],
             [
              0.6666666666666666,
              "#ed7953"
             ],
             [
              0.7777777777777778,
              "#fb9f3a"
             ],
             [
              0.8888888888888888,
              "#fdca26"
             ],
             [
              1,
              "#f0f921"
             ]
            ],
            "type": "heatmapgl"
           }
          ],
          "histogram": [
           {
            "marker": {
             "pattern": {
              "fillmode": "overlay",
              "size": 10,
              "solidity": 0.2
             }
            },
            "type": "histogram"
           }
          ],
          "histogram2d": [
           {
            "colorbar": {
             "outlinewidth": 0,
             "ticks": ""
            },
            "colorscale": [
             [
              0,
              "#0d0887"
             ],
             [
              0.1111111111111111,
              "#46039f"
             ],
             [
              0.2222222222222222,
              "#7201a8"
             ],
             [
              0.3333333333333333,
              "#9c179e"
             ],
             [
              0.4444444444444444,
              "#bd3786"
             ],
             [
              0.5555555555555556,
              "#d8576b"
             ],
             [
              0.6666666666666666,
              "#ed7953"
             ],
             [
              0.7777777777777778,
              "#fb9f3a"
             ],
             [
              0.8888888888888888,
              "#fdca26"
             ],
             [
              1,
              "#f0f921"
             ]
            ],
            "type": "histogram2d"
           }
          ],
          "histogram2dcontour": [
           {
            "colorbar": {
             "outlinewidth": 0,
             "ticks": ""
            },
            "colorscale": [
             [
              0,
              "#0d0887"
             ],
             [
              0.1111111111111111,
              "#46039f"
             ],
             [
              0.2222222222222222,
              "#7201a8"
             ],
             [
              0.3333333333333333,
              "#9c179e"
             ],
             [
              0.4444444444444444,
              "#bd3786"
             ],
             [
              0.5555555555555556,
              "#d8576b"
             ],
             [
              0.6666666666666666,
              "#ed7953"
             ],
             [
              0.7777777777777778,
              "#fb9f3a"
             ],
             [
              0.8888888888888888,
              "#fdca26"
             ],
             [
              1,
              "#f0f921"
             ]
            ],
            "type": "histogram2dcontour"
           }
          ],
          "mesh3d": [
           {
            "colorbar": {
             "outlinewidth": 0,
             "ticks": ""
            },
            "type": "mesh3d"
           }
          ],
          "parcoords": [
           {
            "line": {
             "colorbar": {
              "outlinewidth": 0,
              "ticks": ""
             }
            },
            "type": "parcoords"
           }
          ],
          "pie": [
           {
            "automargin": true,
            "type": "pie"
           }
          ],
          "scatter": [
           {
            "fillpattern": {
             "fillmode": "overlay",
             "size": 10,
             "solidity": 0.2
            },
            "type": "scatter"
           }
          ],
          "scatter3d": [
           {
            "line": {
             "colorbar": {
              "outlinewidth": 0,
              "ticks": ""
             }
            },
            "marker": {
             "colorbar": {
              "outlinewidth": 0,
              "ticks": ""
             }
            },
            "type": "scatter3d"
           }
          ],
          "scattercarpet": [
           {
            "marker": {
             "colorbar": {
              "outlinewidth": 0,
              "ticks": ""
             }
            },
            "type": "scattercarpet"
           }
          ],
          "scattergeo": [
           {
            "marker": {
             "colorbar": {
              "outlinewidth": 0,
              "ticks": ""
             }
            },
            "type": "scattergeo"
           }
          ],
          "scattergl": [
           {
            "marker": {
             "colorbar": {
              "outlinewidth": 0,
              "ticks": ""
             }
            },
            "type": "scattergl"
           }
          ],
          "scattermapbox": [
           {
            "marker": {
             "colorbar": {
              "outlinewidth": 0,
              "ticks": ""
             }
            },
            "type": "scattermapbox"
           }
          ],
          "scatterpolar": [
           {
            "marker": {
             "colorbar": {
              "outlinewidth": 0,
              "ticks": ""
             }
            },
            "type": "scatterpolar"
           }
          ],
          "scatterpolargl": [
           {
            "marker": {
             "colorbar": {
              "outlinewidth": 0,
              "ticks": ""
             }
            },
            "type": "scatterpolargl"
           }
          ],
          "scatterternary": [
           {
            "marker": {
             "colorbar": {
              "outlinewidth": 0,
              "ticks": ""
             }
            },
            "type": "scatterternary"
           }
          ],
          "surface": [
           {
            "colorbar": {
             "outlinewidth": 0,
             "ticks": ""
            },
            "colorscale": [
             [
              0,
              "#0d0887"
             ],
             [
              0.1111111111111111,
              "#46039f"
             ],
             [
              0.2222222222222222,
              "#7201a8"
             ],
             [
              0.3333333333333333,
              "#9c179e"
             ],
             [
              0.4444444444444444,
              "#bd3786"
             ],
             [
              0.5555555555555556,
              "#d8576b"
             ],
             [
              0.6666666666666666,
              "#ed7953"
             ],
             [
              0.7777777777777778,
              "#fb9f3a"
             ],
             [
              0.8888888888888888,
              "#fdca26"
             ],
             [
              1,
              "#f0f921"
             ]
            ],
            "type": "surface"
           }
          ],
          "table": [
           {
            "cells": {
             "fill": {
              "color": "#EBF0F8"
             },
             "line": {
              "color": "white"
             }
            },
            "header": {
             "fill": {
              "color": "#C8D4E3"
             },
             "line": {
              "color": "white"
             }
            },
            "type": "table"
           }
          ]
         },
         "layout": {
          "annotationdefaults": {
           "arrowcolor": "#2a3f5f",
           "arrowhead": 0,
           "arrowwidth": 1
          },
          "autotypenumbers": "strict",
          "coloraxis": {
           "colorbar": {
            "outlinewidth": 0,
            "ticks": ""
           }
          },
          "colorscale": {
           "diverging": [
            [
             0,
             "#8e0152"
            ],
            [
             0.1,
             "#c51b7d"
            ],
            [
             0.2,
             "#de77ae"
            ],
            [
             0.3,
             "#f1b6da"
            ],
            [
             0.4,
             "#fde0ef"
            ],
            [
             0.5,
             "#f7f7f7"
            ],
            [
             0.6,
             "#e6f5d0"
            ],
            [
             0.7,
             "#b8e186"
            ],
            [
             0.8,
             "#7fbc41"
            ],
            [
             0.9,
             "#4d9221"
            ],
            [
             1,
             "#276419"
            ]
           ],
           "sequential": [
            [
             0,
             "#0d0887"
            ],
            [
             0.1111111111111111,
             "#46039f"
            ],
            [
             0.2222222222222222,
             "#7201a8"
            ],
            [
             0.3333333333333333,
             "#9c179e"
            ],
            [
             0.4444444444444444,
             "#bd3786"
            ],
            [
             0.5555555555555556,
             "#d8576b"
            ],
            [
             0.6666666666666666,
             "#ed7953"
            ],
            [
             0.7777777777777778,
             "#fb9f3a"
            ],
            [
             0.8888888888888888,
             "#fdca26"
            ],
            [
             1,
             "#f0f921"
            ]
           ],
           "sequentialminus": [
            [
             0,
             "#0d0887"
            ],
            [
             0.1111111111111111,
             "#46039f"
            ],
            [
             0.2222222222222222,
             "#7201a8"
            ],
            [
             0.3333333333333333,
             "#9c179e"
            ],
            [
             0.4444444444444444,
             "#bd3786"
            ],
            [
             0.5555555555555556,
             "#d8576b"
            ],
            [
             0.6666666666666666,
             "#ed7953"
            ],
            [
             0.7777777777777778,
             "#fb9f3a"
            ],
            [
             0.8888888888888888,
             "#fdca26"
            ],
            [
             1,
             "#f0f921"
            ]
           ]
          },
          "colorway": [
           "#636efa",
           "#EF553B",
           "#00cc96",
           "#ab63fa",
           "#FFA15A",
           "#19d3f3",
           "#FF6692",
           "#B6E880",
           "#FF97FF",
           "#FECB52"
          ],
          "font": {
           "color": "#2a3f5f"
          },
          "geo": {
           "bgcolor": "white",
           "lakecolor": "white",
           "landcolor": "#E5ECF6",
           "showlakes": true,
           "showland": true,
           "subunitcolor": "white"
          },
          "hoverlabel": {
           "align": "left"
          },
          "hovermode": "closest",
          "mapbox": {
           "style": "light"
          },
          "paper_bgcolor": "white",
          "plot_bgcolor": "#E5ECF6",
          "polar": {
           "angularaxis": {
            "gridcolor": "white",
            "linecolor": "white",
            "ticks": ""
           },
           "bgcolor": "#E5ECF6",
           "radialaxis": {
            "gridcolor": "white",
            "linecolor": "white",
            "ticks": ""
           }
          },
          "scene": {
           "xaxis": {
            "backgroundcolor": "#E5ECF6",
            "gridcolor": "white",
            "gridwidth": 2,
            "linecolor": "white",
            "showbackground": true,
            "ticks": "",
            "zerolinecolor": "white"
           },
           "yaxis": {
            "backgroundcolor": "#E5ECF6",
            "gridcolor": "white",
            "gridwidth": 2,
            "linecolor": "white",
            "showbackground": true,
            "ticks": "",
            "zerolinecolor": "white"
           },
           "zaxis": {
            "backgroundcolor": "#E5ECF6",
            "gridcolor": "white",
            "gridwidth": 2,
            "linecolor": "white",
            "showbackground": true,
            "ticks": "",
            "zerolinecolor": "white"
           }
          },
          "shapedefaults": {
           "line": {
            "color": "#2a3f5f"
           }
          },
          "ternary": {
           "aaxis": {
            "gridcolor": "white",
            "linecolor": "white",
            "ticks": ""
           },
           "baxis": {
            "gridcolor": "white",
            "linecolor": "white",
            "ticks": ""
           },
           "bgcolor": "#E5ECF6",
           "caxis": {
            "gridcolor": "white",
            "linecolor": "white",
            "ticks": ""
           }
          },
          "title": {
           "x": 0.05
          },
          "xaxis": {
           "automargin": true,
           "gridcolor": "white",
           "linecolor": "white",
           "ticks": "",
           "title": {
            "standoff": 15
           },
           "zerolinecolor": "white",
           "zerolinewidth": 2
          },
          "yaxis": {
           "automargin": true,
           "gridcolor": "white",
           "linecolor": "white",
           "ticks": "",
           "title": {
            "standoff": 15
           },
           "zerolinecolor": "white",
           "zerolinewidth": 2
          }
         }
        }
       }
      }
     },
     "metadata": {},
     "output_type": "display_data"
    }
   ],
   "source": [
    "provincias={'Ciudad Autónoma de Buenos Aires':'Capital Federal',\n",
    " 'Provincia de Buenos Aires':'Buenos Aires',\n",
    " 'Provincia de Catamarca':'Catamarca',\n",
    " 'Provincia de Corrientes':'Corrientes',\n",
    " 'Provincia de Córdoba':'Córdoba',\n",
    " 'Provincia de Entre Ríos':'Entre Ríos',\n",
    " 'Provincia de Formosa':'Formosa',\n",
    " 'Provincia de Jujuy':'Jujuy',\n",
    " 'Provincia de La Pampa':'La Pampa',\n",
    " 'Provincia de La Rioja':'La Rioja',\n",
    " 'Provincia de Mendoza':'Mendoza',\n",
    " 'Provincia de Misiones':'Misiones',\n",
    " 'Provincia de Río Negro':'Río Negro',\n",
    " 'Provincia de Salta':'Salta',\n",
    " 'Provincia de San Juan':'San Juan',\n",
    " 'Provincia de San Luis':'San Luis',\n",
    " 'Provincia de Santa Cruz':'Santa Cruz',\n",
    " 'Provincia de Santa Fe':'Santa Fe',\n",
    " 'Provincia de Santiago del Estero':'Santiago del Estero',\n",
    " 'Provincia de Tierra del Fuego, Antártida e Islas del Atlántico Sur':'Tierra del Fuego, Antártida e Islas del Atlántico Sur',\n",
    " 'Provincia de Tucumán':'Tucumán',\n",
    " 'Provincia del Chaco':'Chaco',\n",
    " 'Provincia del Chubut':'Chubut',\n",
    " 'Provincia del Neuquén':'Neuquén'}\n",
    "df=pd.read_csv('presupuestos.csv',encoding='utf-8')\n",
    "\n",
    "df1=df.groupby(by=['ubicacion_geografica_desc']).sum()#.reset_index()\n",
    "df1['%']=100*df1['credito_vigente']/df1['credito_vigente'].sum()\n",
    "extras=df1.iloc[0:4]\n",
    "df1=df1.drop(index=['Binacional','No Clasificado','Interprovincial','Nacional'],)\n",
    "df1=df1.reset_index()\n",
    "df1['ubicacion_geografica_desc'] = df1['ubicacion_geografica_desc'].replace(provincias)\n",
    "\n",
    "\n",
    "geo=json.load(open('ProvinciasArgentina.geojson', encoding='utf-8'))\n",
    "provincias_geo_df = pd.json_normalize(geo['features'])\n",
    "#provincias_geo_df['properties.nombre'] = 'Provincia de ' + provincias_geo_df['properties.nombre']\n",
    "\n",
    "merged_df = provincias_geo_df.merge(df1, left_on='properties.nombre', right_on='ubicacion_geografica_desc')\n",
    "\n",
    "fig = px.choropleth_mapbox(\n",
    "    merged_df,\n",
    "    geojson=geo,\n",
    "    locations='ubicacion_geografica_desc',\n",
    "    featureidkey='properties.nombre',\n",
    "    color='%', # Asegúrate de que esta columna contiene el gasto fiscal\n",
    "    hover_name='properties.nombre',\n",
    "    custom_data=['properties.nombre','credito_vigente','%'],\n",
    "    color_continuous_scale='magma',\n",
    "                           mapbox_style= \"carto-positron\" , # formatos de diseño del mapa : \"carto-positron\", \"carto-positron\",   \"white-bg\",\n",
    "                           zoom=2.6, center = {\"lat\": -38.40, \"lon\": -63.60},\n",
    "                           opacity=1,\n",
    "                           labels={'promedio acessos por cada 100 hogares':'acceso a internet'},\n",
    "                           color_discrete_sequence=[\"blue\"],\n",
    "                          )\n",
    "fig.update_traces(\n",
    "    marker_line_width=1.5,\n",
    "    marker_line_color='black',\n",
    "    hovertemplate=\"<br>\".join([\n",
    "        \"<b>%{customdata[0]}</b>\",  # Asegúrate de cerrar la etiqueta <b> correctamente aquí\n",
    "        \"Presupuesto Brindado: %{customdata[1]}\",\n",
    "        \"Proporción en relación al presupuesto total: %{customdata[2]:.2f}%\"\n",
    "    ])\n",
    ")\n",
    "# Actualizar el layout del mapa\n",
    "#fig.update_geos(fitbounds=\"locations\", visible=False)\n",
    "fig.update_layout(margin={\"r\":0,\"t\":0,\"l\":0,\"b\":0})\n",
    "fig.update_layout(\n",
    "    mapbox=dict(\n",
    "        center={\"lat\": -38.4161, \"lon\": -63.6167},\n",
    "        style=\"white-bg\",\n",
    "        zoom=2.65,\n",
    "        layers=[\n",
    "            dict(\n",
    "                below='traces',\n",
    "                type='fill',\n",
    "                source=geo,\n",
    "                color=\"lightblue\"\n",
    "            )\n",
    "        ]\n",
    "    ),\n",
    "    showlegend=False,\n",
    "    margin=dict(t=0, b=0, l=0, r=0),\n",
    "    geo=dict(\n",
    "        showland=False,  # No mostrar etiquetas de países\n",
    "        showcountries=False,  # No mostrar bordes de países\n",
    "    )\n",
    ")\n",
    "\n",
    "fig.show()"
   ]
  },
  {
   "cell_type": "code",
   "execution_count": 172,
   "metadata": {},
   "outputs": [
    {
     "data": {
      "text/plain": [
       "'mapa_argentina.html'"
      ]
     },
     "execution_count": 172,
     "metadata": {},
     "output_type": "execute_result"
    }
   ],
   "source": [
    "import json\n",
    "import folium\n",
    "\n",
    "# Leer el archivo JSON\n",
    "with open('provincias.json', 'r') as file:\n",
    "    data = json.load(file)\n",
    "\n",
    "# Crear el mapa centrado en Argentina\n",
    "m = folium.Map(location=[-38.4161, -63.6167], zoom_start=4)\n",
    "\n",
    "# Agregar las provincias al mapa\n",
    "for feature in data['features']:\n",
    "    nombre = feature['properties']['nombre']\n",
    "    coords = feature['geometry']['coordinates']\n",
    "    folium.Polygon(\n",
    "        locations=[(lat, lon) for lon, lat in coords[0]],\n",
    "        color='blue',\n",
    "        fill=True,\n",
    "        fill_color='blue',\n",
    "        fill_opacity=0.5,\n",
    "        popup=nombre\n",
    "    ).add_to(m)\n",
    "\n",
    "# Guardar el mapa en un archivo HTML\n",
    "map_path = \"mapa_argentina.html\"\n",
    "m.save(map_path)\n",
    "\n",
    "map_path\n"
   ]
  },
  {
   "cell_type": "code",
   "execution_count": 83,
   "metadata": {},
   "outputs": [],
   "source": [
    "url = \"https://www.presupuestoabierto.gob.ar/api/v1/pef?format=csv\"\n",
    "\n",
    "# Cabeceras de la solicitud\n",
    "headers = {\n",
    "    'Authorization': 'ee7f6d62-90ad-4a31-8db0-844acf12ee27',  # Reemplaza con tu token\n",
    "    'Content-Type': 'application/json'\n",
    "}\n",
    "\n",
    "# Datos de la solicitud\n",
    "data = {\n",
    "    \"title\": \"Programación y ejecución física del primer trimestre\",\n",
    "    \n",
    "    \"columns\": [\n",
    "\"ejercicio_presupuestario\",\n",
    "\"trimestre\",\n",
    "\"finalidad_id\",\n",
    "\"finalidad_desc\",\n",
    "\"funcion_id\",\n",
    "\"funcion_desc\",\n",
    "\"sector_id\",\n",
    "\"sector_desc\",\n",
    "\"subsector_id\",\n",
    "\"subsector_desc\",\n",
    "\"caracter_id\",\n",
    "\"caracter_desc\",\n",
    "\"jurisdiccion_id\",\n",
    "\"jurisdiccion_desc\",\n",
    "\"subjurisdiccion_id\",\n",
    "\"subjurisdiccion_desc\",\n",
    "\"entidad_id\",\n",
    "\"entidad_desc\",\n",
    "\"servicio_id\",\n",
    "\"servicio_desc\",\n",
    "\"programa_id\",\n",
    "\"programa_desc\",\n",
    "\"subprograma_id\",\n",
    "\"subprograma_desc\",\n",
    "\"proyecto_id\",\n",
    "\"proyecto_desc\",\n",
    "\"actividad_id\",\n",
    "\"actividad_desc\",\n",
    "\"obra_id\",\n",
    "\"obra_desc\",\n",
    "\"medicion_fisica_id\",\n",
    "\"medicion_fisica_desc\",\n",
    "\"tipo_medicion_fisica\",\n",
    "\"unidad_medida_id\",\n",
    "\"unidad_medida_desc\",\n",
    "\"ubicacion_geografica_id\",\n",
    "\"ubicacion_geografica_desc\",\n",
    "\"totalizador_avance_fisico\",\n",
    "\"programacion_inicial_DA\",\n",
    "\"programacion_inicial_ajustada\",\n",
    "\"programacion_anual_vig_cierre\",\n",
    "\"programacion_anual_vig_trim\",\n",
    "\"programacion_trim\",\n",
    "\"programacion_acumulada_trim\",\n",
    "\"ejecutado_vigente_trim\",\n",
    "\"ejecutado_acumulado_trim\",\n",
    "\"ejecutado_cierre_acum_trim\",\n",
    "\"ejecucion_anual_de_cierre\",\n",
    "\"tipo_causa_desvio\",\n",
    "\"causa_desvio\",\n",
    "\"causa_desvio_detalle\",\n",
    "\"causa_desvio_comentario\",\n",
    "\"porc_desvio_acum_trim\",\n",
    "\"ultima_actualizacion_fecha\"\n",
    "],\n",
    "    \"ejercicios\":[2024]\n",
    "}\n",
    "\n",
    "\n",
    "# Realizar la solicitud POST a la API\n",
    "response = requests.post(url, headers=headers, data=json.dumps(data))\n"
   ]
  },
  {
   "cell_type": "code",
   "execution_count": 84,
   "metadata": {},
   "outputs": [
    {
     "data": {
      "text/plain": [
       "<Response [200]>"
      ]
     },
     "execution_count": 84,
     "metadata": {},
     "output_type": "execute_result"
    }
   ],
   "source": [
    "response"
   ]
  },
  {
   "cell_type": "code",
   "execution_count": 85,
   "metadata": {},
   "outputs": [
    {
     "name": "stdout",
     "output_type": "stream",
     "text": [
      "Datos guardados en credito_vigente_por_jurisdiccion.csv\n"
     ]
    }
   ],
   "source": [
    "if response.status_code == 200:\n",
    "    # Guardar la respuesta directamente en un archivo CSV\n",
    "    with open('credito_vigente_por_jurisdiccion.csv', 'w', encoding='utf-8') as file:\n",
    "        file.write(response.text)\n",
    "    print(\"Datos guardados en credito_vigente_por_jurisdiccion.csv\")\n",
    "else:\n",
    "    print(f\"Error {response.status_code}: {response.text}\")"
   ]
  },
  {
   "cell_type": "code",
   "execution_count": 89,
   "metadata": {},
   "outputs": [
    {
     "data": {
      "text/plain": [
       "Index(['ejercicio_presupuestario', 'trimestre', 'finalidad_id',\n",
       "       'finalidad_desc', 'funcion_id', 'funcion_desc', 'sector_id',\n",
       "       'sector_desc', 'subsector_id', 'subsector_desc', 'caracter_id',\n",
       "       'caracter_desc', 'jurisdiccion_id', 'jurisdiccion_desc',\n",
       "       'subjurisdiccion_id', 'subjurisdiccion_desc', 'entidad_id',\n",
       "       'entidad_desc', 'servicio_id', 'servicio_desc', 'programa_id',\n",
       "       'programa_desc', 'subprograma_id', 'subprograma_desc', 'proyecto_id',\n",
       "       'proyecto_desc', 'actividad_id', 'actividad_desc', 'obra_id',\n",
       "       'obra_desc', 'medicion_fisica_id', 'medicion_fisica_desc',\n",
       "       'tipo_medicion_fisica', 'unidad_medida_id', 'unidad_medida_desc',\n",
       "       'ubicacion_geografica_id', 'ubicacion_geografica_desc',\n",
       "       'totalizador_avance_fisico', 'programacion_inicial_DA',\n",
       "       'programacion_inicial_ajustada', 'programacion_anual_vig_cierre',\n",
       "       'programacion_anual_vig_trim', 'programacion_trim',\n",
       "       'programacion_acumulada_trim', 'ejecutado_vigente_trim',\n",
       "       'ejecutado_acumulado_trim', 'ejecutado_cierre_acum_trim',\n",
       "       'ejecucion_anual_de_cierre', 'tipo_causa_desvio', 'causa_desvio',\n",
       "       'causa_desvio_detalle', 'causa_desvio_comentario',\n",
       "       'porc_desvio_acum_trim', 'ultima_actualizacion_fecha'],\n",
       "      dtype='object')"
      ]
     },
     "execution_count": 89,
     "metadata": {},
     "output_type": "execute_result"
    }
   ],
   "source": [
    "df=pd.read_csv('credito_vigente_por_jurisdiccion.csv')\n",
    "df.columns#.iloc[1]"
   ]
  },
  {
   "cell_type": "code",
   "execution_count": 91,
   "metadata": {},
   "outputs": [
    {
     "data": {
      "text/plain": [
       "array(['Poder Legislativo Nacional', 'Poder Judicial de la Nación',\n",
       "       'Ministerio de Justicia', 'Procuración del Tesoro de la Nación',\n",
       "       'Secretaría Legal y Técnica', 'Secretaría de Prensa',\n",
       "       'Jefatura de Gabinete de Ministros', 'Ministerio de Economía',\n",
       "       'Ministerio de Infraestructura',\n",
       "       'Ministerio de Relaciones Exteriores, Comercio Internacional y Culto',\n",
       "       'Ministerio del Interior', 'Presidencia de la Nación',\n",
       "       'Ministerio de Defensa',\n",
       "       'Estado Mayor General del Ejército Argentino',\n",
       "       'Estado Mayor General de la Armada Argentina',\n",
       "       'Estado Mayor General de la Fuerza Aérea Argentina',\n",
       "       'Estado Mayor Conjunto de las Fuerzas Armadas (EMCO)',\n",
       "       'Ministerio de Seguridad', 'Policía Federal Argentina',\n",
       "       'Gendarmería Nacional', 'Prefectura Naval Argentina',\n",
       "       'Policía de Seguridad Aeroportuaria',\n",
       "       'Servicio Penitenciario Federal', 'Ministerio de Salud',\n",
       "       'Ministerio de Capital Humano',\n",
       "       'Secretaría Nacional de Niñez, Adolescencia y Familia',\n",
       "       'Secretaría de Educacion',\n",
       "       'Secretaría de Innovación, Ciencia y Tecnología',\n",
       "       'Secretaría de Trabajo'], dtype=object)"
      ]
     },
     "execution_count": 91,
     "metadata": {},
     "output_type": "execute_result"
    }
   ],
   "source": [
    "df['subjurisdiccion_desc'].unique()"
   ]
  },
  {
   "cell_type": "code",
   "execution_count": 54,
   "metadata": {},
   "outputs": [],
   "source": [
    "url = \"https://www.presupuestoabierto.gob.ar/api/v1/transversal_financiero?format=csv\"\n",
    "\n",
    "# Cabeceras de la solicitud\n",
    "headers = {\n",
    "    'Authorization': 'ee7f6d62-90ad-4a31-8db0-844acf12ee27',  # Reemplaza con tu token\n",
    "    'Content-Type': 'application/json'\n",
    "}\n",
    "\n",
    "# Datos de la solicitud\n",
    "data = {\n",
    "    \"title\": \"Programación y ejecución física del primer trimestre\",\n",
    "    \n",
    "    \"columns\": [\n",
    "\"ejercicio_presupuestario\",\n",
    "\"sector_id\",\n",
    "\"sector_desc\",\n",
    "\"subsector_id\",\n",
    "\"subsector_desc\",\n",
    "\"caracter_id\",\n",
    "\"caracter_desc\",\n",
    "\"jurisdiccion_id\",\n",
    "\"jurisdiccion_desc\",\n",
    "\"subjurisdiccion_id\",\n",
    "\"subjurisdiccion_desc\",\n",
    "\"entidad_id\",\n",
    "\"entidad_desc\",\n",
    "\"servicio_id\",\n",
    "\"servicio_desc\",\n",
    "\"programa_id\",\n",
    "\"programa_desc\",\n",
    "\"subprograma_id\",\n",
    "\"subprograma_desc\",\n",
    "\"proyecto_id\",\n",
    "\"proyecto_desc\",\n",
    "\"actividad_id\",\n",
    "\"actividad_desc\",\n",
    "\"obra_id\",\n",
    "\"obra_desc\",\n",
    "\"finalidad_id\",\n",
    "\"finalidad_desc\",\n",
    "\"funcion_id\",\n",
    "\"funcion_desc\",\n",
    "\"fuente_financiamiento_id\",\n",
    "\"fuente_financiamiento_desc\",\n",
    "\"ubicacion_geografica_id\",\n",
    "\"ubicacion_geografica_desc\",\n",
    "\"inciso_id\",\n",
    "\"inciso_desc\",\n",
    "\"principal_id\",\n",
    "\"principal_desc\",\n",
    "\"parcial_id\",\n",
    "\"parcial_desc\",\n",
    "\"subparcial_id\",\n",
    "\"subparcial_desc\",\n",
    "\"etiqueta_id\",\n",
    "\"etiqueta_desc\",\n",
    "\"ponderacion_credito\",\n",
    "\"codigo_bapin_id\",\n",
    "\"codigo_bapin_desc\",\n",
    "\"credito_inicial\",\n",
    "\"credito_inicial_ponderado\",\n",
    "\"credito_vigente\",\n",
    "\"credito_vigente_ponderado\",\n",
    "\"credito_ejecutado\",\n",
    "\"credito_ejecutado_ponderado\"\n",
    "],\n",
    "    \n",
    "    \"ejercicios\":[2024]\n",
    "}\n",
    "\n",
    "\n",
    "# Realizar la solicitud POST a la API\n",
    "response = requests.post(url, headers=headers, data=json.dumps(data))\n",
    "if response.status_code == 200:\n",
    "    # Guardar la respuesta directamente en un archivo CSV\n",
    "    with open('transversal_financiero.csv', 'w', encoding='utf-8') as file:\n",
    "        file.write(response.text)\n",
    "    df=pd.read_csv('transversal_financiero.csv')\n",
    "df.iloc[1]"
   ]
  },
  {
   "cell_type": "code",
   "execution_count": 78,
   "metadata": {},
   "outputs": [
    {
     "data": {
      "text/plain": [
       "array(['Poder Legislativo Nacional', 'Poder Judicial de la Nación',\n",
       "       'Ministerio de Justicia', 'Procuración del Tesoro de la Nación',\n",
       "       'Secretaría Legal y Técnica', 'Secretaría de Prensa',\n",
       "       'Jefatura de Gabinete de Ministros', 'Ministerio de Economía',\n",
       "       'Ministerio de Infraestructura',\n",
       "       'Ministerio de Relaciones Exteriores, Comercio Internacional y Culto',\n",
       "       'Ministerio del Interior', 'Presidencia de la Nación',\n",
       "       'Ministerio de Defensa',\n",
       "       'Estado Mayor General del Ejército Argentino',\n",
       "       'Estado Mayor General de la Armada Argentina',\n",
       "       'Estado Mayor General de la Fuerza Aérea Argentina',\n",
       "       'Estado Mayor Conjunto de las Fuerzas Armadas (EMCO)',\n",
       "       'Ministerio de Seguridad', 'Policía Federal Argentina',\n",
       "       'Gendarmería Nacional', 'Prefectura Naval Argentina',\n",
       "       'Policía de Seguridad Aeroportuaria',\n",
       "       'Servicio Penitenciario Federal', 'Ministerio de Salud',\n",
       "       'Ministerio de Capital Humano',\n",
       "       'Secretaría Nacional de Niñez, Adolescencia y Familia',\n",
       "       'Secretaría de Educacion',\n",
       "       'Secretaría de Innovación, Ciencia y Tecnología',\n",
       "       'Secretaría de Trabajo'], dtype=object)"
      ]
     },
     "execution_count": 78,
     "metadata": {},
     "output_type": "execute_result"
    }
   ],
   "source": [
    "df['subjurisdiccion_desc'].unique()"
   ]
  },
  {
   "cell_type": "code",
   "execution_count": 79,
   "metadata": {},
   "outputs": [
    {
     "data": {
      "text/plain": [
       "ejercicio_presupuestario                                                      2024\n",
       "trimestre                                                                        1\n",
       "finalidad_id                                                                     1\n",
       "finalidad_desc                                        ADMINISTRACION GUBERNAMENTAL\n",
       "funcion_id                                                                       1\n",
       "funcion_desc                                                           Legislativa\n",
       "sector_id                                                                        1\n",
       "sector_desc                                  Sector Público Nacional no Financiero\n",
       "subsector_id                                                                     1\n",
       "subsector_desc                                             Administración Nacional\n",
       "caracter_id                                                                      1\n",
       "caracter_desc                                               Administración Central\n",
       "jurisdiccion_id                                                                  1\n",
       "jurisdiccion_desc                                       Poder Legislativo Nacional\n",
       "subjurisdiccion_id                                                               0\n",
       "subjurisdiccion_desc                                    Poder Legislativo Nacional\n",
       "entidad_id                                                                       0\n",
       "entidad_desc                                            Poder Legislativo Nacional\n",
       "servicio_id                                                                    312\n",
       "servicio_desc                              Honorable Senado de la Nación Argentina\n",
       "programa_id                                                                     16\n",
       "programa_desc                              Formacion y Sancion de Leyes Nacionales\n",
       "subprograma_id                                                                   0\n",
       "subprograma_desc                           Formacion y Sancion de Leyes Nacionales\n",
       "proyecto_id                                                                      0\n",
       "proyecto_desc                              Formacion y Sancion de Leyes Nacionales\n",
       "actividad_id                                                                     0\n",
       "actividad_desc                             Formacion y Sancion de Leyes Nacionales\n",
       "obra_id                                                                          0\n",
       "obra_desc                                  Formacion y Sancion de Leyes Nacionales\n",
       "medicion_fisica_id                                                             359\n",
       "medicion_fisica_desc             Porcentaje de bancas ocupadas por mujeres en l...\n",
       "tipo_medicion_fisica                                                     Indicador\n",
       "unidad_medida_id                                                              1187\n",
       "unidad_medida_desc                                                      Porcentaje\n",
       "ubicacion_geografica_id                                                          0\n",
       "ubicacion_geografica_desc                                                 GENERICO\n",
       "totalizador_avance_fisico                                                     Suma\n",
       "programacion_inicial_DA                                                       43.0\n",
       "programacion_inicial_ajustada                                                 43.0\n",
       "programacion_anual_vig_cierre                                                 43.0\n",
       "programacion_anual_vig_trim                                                   43.0\n",
       "programacion_trim                                                              NaN\n",
       "programacion_acumulada_trim                                                    NaN\n",
       "ejecutado_vigente_trim                                                         NaN\n",
       "ejecutado_acumulado_trim                                                       NaN\n",
       "ejecutado_cierre_acum_trim                                                     NaN\n",
       "ejecucion_anual_de_cierre                                                      NaN\n",
       "tipo_causa_desvio                                                                P\n",
       "causa_desvio                                                La Mejora se Mantendrá\n",
       "causa_desvio_detalle                                        La Mejora se Mantendrá\n",
       "causa_desvio_comentario                                                        NaN\n",
       "porc_desvio_acum_trim                                                         0,00\n",
       "ultima_actualizacion_fecha                                     2024-06-13 00:00:00\n",
       "Name: 1, dtype: object"
      ]
     },
     "execution_count": 79,
     "metadata": {},
     "output_type": "execute_result"
    }
   ],
   "source": [
    "url = \"https://www.presupuestoabierto.gob.ar/api/v1/credito?format=csv\"\n",
    "\n",
    "# Cabeceras de la solicitud\n",
    "headers = {\n",
    "    'Authorization': 'ee7f6d62-90ad-4a31-8db0-844acf12ee27',  # Reemplaza con tu token\n",
    "    'Content-Type': 'application/json'\n",
    "}\n",
    "\n",
    "# Datos de la solicitud\n",
    "data = {\n",
    "    \"title\": \"Programación y ejecución física del primer trimestre\",\n",
    "    \n",
    "    \"columns\": [\n",
    "\"impacto_presupuestario_fecha\",\n",
    "\"impacto_presupuestario_anio\",\n",
    "\"impacto_presupuestario_mes\",\n",
    "\"ejercicio_presupuestario\",\n",
    "\"sector_id\",\n",
    "\"sector_desc\",\n",
    "\"subsector_id\",\n",
    "\"subsector_desc\",\n",
    "\"caracter_id\",\n",
    "\"caracter_desc\",\n",
    "\"jurisdiccion_id\",\n",
    "\"jurisdiccion_desc\",\n",
    "\"subjurisdiccion_id\",\n",
    "\"subjurisdiccion_desc\",\n",
    "\"entidad_id\",\n",
    "\"entidad_desc\",\n",
    "\"servicio_id\",\n",
    "\"servicio_desc\",\n",
    "\"programa_id\",\n",
    "\"programa_desc\",\n",
    "\"subprograma_id\",\n",
    "\"subprograma_desc\",\n",
    "\"proyecto_id\",\n",
    "\"proyecto_desc\",\n",
    "\"actividad_id\",\n",
    "\"actividad_desc\",\n",
    "\"obra_id\",\n",
    "\"obra_desc\",\n",
    "\"finalidad_id\",\n",
    "\"finalidad_desc\",\n",
    "\"funcion_id\",\n",
    "\"funcion_desc\",\n",
    "\"inciso_id\",\n",
    "\"inciso_desc\",\n",
    "\"principal_id\",\n",
    "\"principal_desc\",\n",
    "\"parcial_id\",\n",
    "\"parcial_desc\",\n",
    "\"subparcial_id\",\n",
    "\"subparcial_desc\",\n",
    "\"clasificador_economico_8_digitos_id\",\n",
    "\"clasificador_economico_8_digitos_desc\",\n",
    "\"fuente_financiamiento_id\",\n",
    "\"fuente_financiamiento_desc\",\n",
    "\"ubicacion_geografica_id\",\n",
    "\"ubicacion_geografica_desc\",\n",
    "\"unidad_ejecutora_id\",\n",
    "\"unidad_ejecutora_desc\",\n",
    "\"prestamo_externo_id\",\n",
    "\"prestamo_externo_desc\",\n",
    "\"codigo_bapin_id\",\n",
    "\"codigo_bapin_desc\",\n",
    "\"credito_presupuestado\",\n",
    "\"credito_vigente\",\n",
    "\"credito_comprometido\",\n",
    "\"credito_devengado\",\n",
    "\"credito_pagado\",\n",
    "\"ultima_actualizacion_fecha\"\n",
    "],\n",
    "    \n",
    "    \"ejercicios\":[2023]\n",
    "}\n",
    "\n",
    "\n",
    "# Realizar la solicitud POST a la API\n",
    "response = requests.post(url, headers=headers, data=json.dumps(data))\n",
    "if response.status_code == 200:\n",
    "    # Guardar la respuesta directamente en un archivo CSV\n",
    "    with open('credito.csv', 'w', encoding='utf-8') as file:\n",
    "        file.write(response.text)\n",
    "    df=pd.read_csv('credito.csv')\n",
    "df.iloc[1]"
   ]
  },
  {
   "cell_type": "code",
   "execution_count": null,
   "metadata": {},
   "outputs": [],
   "source": [
    "url = \"https://www.presupuestoabierto.gob.ar/api/v1/recurso?format=csv\"\n",
    "\n",
    "# Cabeceras de la solicitud\n",
    "headers = {\n",
    "    'Authorization': 'ee7f6d62-90ad-4a31-8db0-844acf12ee27',  # Reemplaza con tu token\n",
    "    'Content-Type': 'application/json'\n",
    "}\n",
    "\n",
    "# Datos de la solicitud\n",
    "data = {\n",
    "    \"title\": \"Programación y ejecución física del primer trimestre\",\n",
    "    \n",
    "    \"columns\": [\n",
    "\"impacto_presupuestario_fecha\",\n",
    "\"impacto_presupuestario_anio\",\n",
    "\"impacto_presupuestario_mes\",\n",
    "\"ejercicio_presupuestario\",\n",
    "\"sector_id\",\n",
    "\"sector_desc\",\n",
    "\"subsector_id\",\n",
    "\"subsector_desc\",\n",
    "\"caracter_id\",\n",
    "\"caracter_desc\",\n",
    "\"jurisdiccion_id\",\n",
    "\"jurisdiccion_desc\",\n",
    "\"subjurisdiccion_id\",\n",
    "\"subjurisdiccion_desc\",\n",
    "\"entidad_id\",\n",
    "\"entidad_desc\",\n",
    "\"servicio_id\",\n",
    "\"servicio_desc\",\n",
    "\"tipo_id\",\n",
    "\"tipo_desc\",\n",
    "\"clase_id\",\n",
    "\"clase_desc\",\n",
    "\"concepto_id\",\n",
    "\"concepto_desc\",\n",
    "\"subconcepto_id\",\n",
    "\"subconcepto_desc\",\n",
    "\"fuente_financiamiento_id\",\n",
    "\"fuente_financiamiento_desc\",\n",
    "\"clasificador_economico_8_digitos_id\",\n",
    "\"clasificador_economico_8_digitos_desc\",\n",
    "\"prestamo_externo_id\",\n",
    "\"prestamo_externo_desc\",\n",
    "\"recurso_inicial\",\n",
    "\"recurso_vigente\",\n",
    "\"recurso_ingresado_percibido\",\n",
    "\"ultima_actualizacion_fecha\"\n",
    "],\n",
    "    \n",
    "    \"ejercicios\":[2023]\n",
    "}\n",
    "\n",
    "\n",
    "# Realizar la solicitud POST a la API\n",
    "response = requests.post(url, headers=headers, data=json.dumps(data))\n",
    "if response.status_code == 200:\n",
    "    # Guardar la respuesta directamente en un archivo CSV\n",
    "    with open('recurso.csv', 'w', encoding='utf-8') as file:\n",
    "        file.write(response.text)\n",
    "    df=pd.read_csv('recurso.csv')\n",
    "df.iloc[1]"
   ]
  },
  {
   "cell_type": "code",
   "execution_count": 130,
   "metadata": {},
   "outputs": [
    {
     "data": {
      "text/html": [
       "<div>\n",
       "<style scoped>\n",
       "    .dataframe tbody tr th:only-of-type {\n",
       "        vertical-align: middle;\n",
       "    }\n",
       "\n",
       "    .dataframe tbody tr th {\n",
       "        vertical-align: top;\n",
       "    }\n",
       "\n",
       "    .dataframe thead th {\n",
       "        text-align: right;\n",
       "    }\n",
       "</style>\n",
       "<table border=\"1\" class=\"dataframe\">\n",
       "  <thead>\n",
       "    <tr style=\"text-align: right;\">\n",
       "      <th></th>\n",
       "      <th>Titulos Publicos</th>\n",
       "      <th>Titulos Publicos-Moneda Nacional</th>\n",
       "      <th>Deuda no ajustable por CER</th>\n",
       "      <th>Deuda ajustable por CER</th>\n",
       "      <th>Titulos Publicos-Moneda Extranjera</th>\n",
       "      <th>Letras</th>\n",
       "      <th>Letras-Moneda Nacional</th>\n",
       "      <th>Letras-Moneda Extranjera</th>\n",
       "      <th>Prestamos</th>\n",
       "      <th>Total Deuda Bruta</th>\n",
       "      <th>Otros</th>\n",
       "    </tr>\n",
       "  </thead>\n",
       "  <tbody>\n",
       "    <tr>\n",
       "      <th>2019-01-31</th>\n",
       "      <td>216771.7</td>\n",
       "      <td>43886.0</td>\n",
       "      <td>23231.6</td>\n",
       "      <td>20654.4</td>\n",
       "      <td>172870.8</td>\n",
       "      <td>35631.3</td>\n",
       "      <td>14952.1</td>\n",
       "      <td>20679.2</td>\n",
       "      <td>61442.8</td>\n",
       "      <td>335661.3</td>\n",
       "      <td>21815.5</td>\n",
       "    </tr>\n",
       "    <tr>\n",
       "      <th>2019-02-28</th>\n",
       "      <td>219175.7</td>\n",
       "      <td>44347.6</td>\n",
       "      <td>23465.5</td>\n",
       "      <td>20882.1</td>\n",
       "      <td>174813.2</td>\n",
       "      <td>35102.3</td>\n",
       "      <td>14451.3</td>\n",
       "      <td>20651.0</td>\n",
       "      <td>61420.0</td>\n",
       "      <td>334477.0</td>\n",
       "      <td>18779.0</td>\n",
       "    </tr>\n",
       "    <tr>\n",
       "      <th>2019-03-31</th>\n",
       "      <td>213330.2</td>\n",
       "      <td>41501.1</td>\n",
       "      <td>20538.2</td>\n",
       "      <td>20962.9</td>\n",
       "      <td>171814.3</td>\n",
       "      <td>34653.1</td>\n",
       "      <td>14081.6</td>\n",
       "      <td>20571.5</td>\n",
       "      <td>60737.9</td>\n",
       "      <td>324898.3</td>\n",
       "      <td>16177.1</td>\n",
       "    </tr>\n",
       "    <tr>\n",
       "      <th>2019-04-30</th>\n",
       "      <td>212709.8</td>\n",
       "      <td>43277.1</td>\n",
       "      <td>21581.7</td>\n",
       "      <td>21695.4</td>\n",
       "      <td>169417.9</td>\n",
       "      <td>33999.5</td>\n",
       "      <td>14259.7</td>\n",
       "      <td>19739.8</td>\n",
       "      <td>71608.7</td>\n",
       "      <td>334322.9</td>\n",
       "      <td>16004.9</td>\n",
       "    </tr>\n",
       "    <tr>\n",
       "      <th>2019-05-31</th>\n",
       "      <td>210302.7</td>\n",
       "      <td>43454.1</td>\n",
       "      <td>21305.9</td>\n",
       "      <td>22148.2</td>\n",
       "      <td>166833.8</td>\n",
       "      <td>34358.7</td>\n",
       "      <td>14934.9</td>\n",
       "      <td>19423.8</td>\n",
       "      <td>70448.5</td>\n",
       "      <td>329930.6</td>\n",
       "      <td>14820.7</td>\n",
       "    </tr>\n",
       "    <tr>\n",
       "      <th>...</th>\n",
       "      <td>...</td>\n",
       "      <td>...</td>\n",
       "      <td>...</td>\n",
       "      <td>...</td>\n",
       "      <td>...</td>\n",
       "      <td>...</td>\n",
       "      <td>...</td>\n",
       "      <td>...</td>\n",
       "      <td>...</td>\n",
       "      <td>...</td>\n",
       "      <td>...</td>\n",
       "    </tr>\n",
       "    <tr>\n",
       "      <th>2023-12-31</th>\n",
       "      <td>263424.7</td>\n",
       "      <td>85520.0</td>\n",
       "      <td>43313.8</td>\n",
       "      <td>42206.2</td>\n",
       "      <td>177890.7</td>\n",
       "      <td>10974.9</td>\n",
       "      <td>5097.1</td>\n",
       "      <td>5877.8</td>\n",
       "      <td>82239.7</td>\n",
       "      <td>370673.4</td>\n",
       "      <td>14034.1</td>\n",
       "    </tr>\n",
       "    <tr>\n",
       "      <th>2024-01-31</th>\n",
       "      <td>272907.6</td>\n",
       "      <td>93370.4</td>\n",
       "      <td>43288.4</td>\n",
       "      <td>50082.0</td>\n",
       "      <td>179523.1</td>\n",
       "      <td>10022.5</td>\n",
       "      <td>4175.6</td>\n",
       "      <td>5846.9</td>\n",
       "      <td>84237.9</td>\n",
       "      <td>381271.9</td>\n",
       "      <td>14103.9</td>\n",
       "    </tr>\n",
       "    <tr>\n",
       "      <th>2024-02-29</th>\n",
       "      <td>280981.2</td>\n",
       "      <td>109034.4</td>\n",
       "      <td>38836.7</td>\n",
       "      <td>70197.7</td>\n",
       "      <td>171932.5</td>\n",
       "      <td>8073.5</td>\n",
       "      <td>2212.1</td>\n",
       "      <td>5861.4</td>\n",
       "      <td>83198.7</td>\n",
       "      <td>386536.8</td>\n",
       "      <td>14283.4</td>\n",
       "    </tr>\n",
       "    <tr>\n",
       "      <th>2024-03-31</th>\n",
       "      <td>300792.8</td>\n",
       "      <td>128816.9</td>\n",
       "      <td>16342.5</td>\n",
       "      <td>112474.4</td>\n",
       "      <td>171961.4</td>\n",
       "      <td>8252.5</td>\n",
       "      <td>2391.1</td>\n",
       "      <td>5861.4</td>\n",
       "      <td>82788.8</td>\n",
       "      <td>403043.7</td>\n",
       "      <td>11209.6</td>\n",
       "    </tr>\n",
       "    <tr>\n",
       "      <th>2024-04-30</th>\n",
       "      <td>310280.7</td>\n",
       "      <td>138336.6</td>\n",
       "      <td>13588.7</td>\n",
       "      <td>124747.9</td>\n",
       "      <td>171929.8</td>\n",
       "      <td>11883.5</td>\n",
       "      <td>6029.1</td>\n",
       "      <td>5854.4</td>\n",
       "      <td>80669.4</td>\n",
       "      <td>414056.1</td>\n",
       "      <td>11222.5</td>\n",
       "    </tr>\n",
       "  </tbody>\n",
       "</table>\n",
       "<p>64 rows × 11 columns</p>\n",
       "</div>"
      ],
      "text/plain": [
       "            Titulos Publicos   Titulos Publicos-Moneda Nacional  \\\n",
       "2019-01-31          216771.7                            43886.0   \n",
       "2019-02-28          219175.7                            44347.6   \n",
       "2019-03-31          213330.2                            41501.1   \n",
       "2019-04-30          212709.8                            43277.1   \n",
       "2019-05-31          210302.7                            43454.1   \n",
       "...                      ...                                ...   \n",
       "2023-12-31          263424.7                            85520.0   \n",
       "2024-01-31          272907.6                            93370.4   \n",
       "2024-02-29          280981.2                           109034.4   \n",
       "2024-03-31          300792.8                           128816.9   \n",
       "2024-04-30          310280.7                           138336.6   \n",
       "\n",
       "            Deuda no ajustable por CER  Deuda ajustable por CER  \\\n",
       "2019-01-31                     23231.6                  20654.4   \n",
       "2019-02-28                     23465.5                  20882.1   \n",
       "2019-03-31                     20538.2                  20962.9   \n",
       "2019-04-30                     21581.7                  21695.4   \n",
       "2019-05-31                     21305.9                  22148.2   \n",
       "...                                ...                      ...   \n",
       "2023-12-31                     43313.8                  42206.2   \n",
       "2024-01-31                     43288.4                  50082.0   \n",
       "2024-02-29                     38836.7                  70197.7   \n",
       "2024-03-31                     16342.5                 112474.4   \n",
       "2024-04-30                     13588.7                 124747.9   \n",
       "\n",
       "             Titulos Publicos-Moneda Extranjera   Letras  \\\n",
       "2019-01-31                             172870.8  35631.3   \n",
       "2019-02-28                             174813.2  35102.3   \n",
       "2019-03-31                             171814.3  34653.1   \n",
       "2019-04-30                             169417.9  33999.5   \n",
       "2019-05-31                             166833.8  34358.7   \n",
       "...                                         ...      ...   \n",
       "2023-12-31                             177890.7  10974.9   \n",
       "2024-01-31                             179523.1  10022.5   \n",
       "2024-02-29                             171932.5   8073.5   \n",
       "2024-03-31                             171961.4   8252.5   \n",
       "2024-04-30                             171929.8  11883.5   \n",
       "\n",
       "             Letras-Moneda Nacional  Letras-Moneda Extranjera  Prestamos  \\\n",
       "2019-01-31                  14952.1                   20679.2    61442.8   \n",
       "2019-02-28                  14451.3                   20651.0    61420.0   \n",
       "2019-03-31                  14081.6                   20571.5    60737.9   \n",
       "2019-04-30                  14259.7                   19739.8    71608.7   \n",
       "2019-05-31                  14934.9                   19423.8    70448.5   \n",
       "...                             ...                       ...        ...   \n",
       "2023-12-31                   5097.1                    5877.8    82239.7   \n",
       "2024-01-31                   4175.6                    5846.9    84237.9   \n",
       "2024-02-29                   2212.1                    5861.4    83198.7   \n",
       "2024-03-31                   2391.1                    5861.4    82788.8   \n",
       "2024-04-30                   6029.1                    5854.4    80669.4   \n",
       "\n",
       "            Total Deuda Bruta    Otros  \n",
       "2019-01-31           335661.3  21815.5  \n",
       "2019-02-28           334477.0  18779.0  \n",
       "2019-03-31           324898.3  16177.1  \n",
       "2019-04-30           334322.9  16004.9  \n",
       "2019-05-31           329930.6  14820.7  \n",
       "...                       ...      ...  \n",
       "2023-12-31           370673.4  14034.1  \n",
       "2024-01-31           381271.9  14103.9  \n",
       "2024-02-29           386536.8  14283.4  \n",
       "2024-03-31           403043.7  11209.6  \n",
       "2024-04-30           414056.1  11222.5  \n",
       "\n",
       "[64 rows x 11 columns]"
      ]
     },
     "execution_count": 130,
     "metadata": {},
     "output_type": "execute_result"
    }
   ],
   "source": []
  },
  {
   "cell_type": "code",
   "execution_count": 126,
   "metadata": {},
   "outputs": [
    {
     "data": {
      "text/plain": [
       "<Response [200]>"
      ]
     },
     "execution_count": 126,
     "metadata": {},
     "output_type": "execute_result"
    }
   ],
   "source": [
    "\n",
    "# Descargar el archivo\n",
    "response = requests.get(url)\n",
    "response"
   ]
  },
  {
   "cell_type": "code",
   "execution_count": 119,
   "metadata": {},
   "outputs": [
    {
     "data": {
      "text/plain": [
       "Unnamed: 2     335661.3\n",
       "Unnamed: 3       334477\n",
       "Unnamed: 4     324898.3\n",
       "Unnamed: 5     334322.9\n",
       "Unnamed: 6     329930.6\n",
       "                 ...   \n",
       "Unnamed: 61    370673.4\n",
       "Unnamed: 62    381271.9\n",
       "Unnamed: 63    386536.8\n",
       "Unnamed: 64    403043.7\n",
       "Unnamed: 65    414056.1\n",
       "Name: A- DEUDA BRUTA ( I + II  + III), Length: 64, dtype: object"
      ]
     },
     "execution_count": 119,
     "metadata": {},
     "output_type": "execute_result"
    }
   ],
   "source": [
    "\n"
   ]
  },
  {
   "cell_type": "code",
   "execution_count": 108,
   "metadata": {},
   "outputs": [
    {
     "data": {
      "text/plain": [
       "Unnamed: 2     61442.8\n",
       "Unnamed: 3     61420.0\n",
       "Unnamed: 4     60737.9\n",
       "Unnamed: 5     71608.7\n",
       "Unnamed: 6     70448.5\n",
       "                ...   \n",
       "Unnamed: 61    82239.7\n",
       "Unnamed: 62    84237.9\n",
       "Unnamed: 63    83198.7\n",
       "Unnamed: 64    82788.8\n",
       "Unnamed: 65    80669.4\n",
       "Name: PRÉSTAMOS, Length: 64, dtype: object"
      ]
     },
     "execution_count": 108,
     "metadata": {},
     "output_type": "execute_result"
    }
   ],
   "source": []
  },
  {
   "cell_type": "code",
   "execution_count": null,
   "metadata": {},
   "outputs": [],
   "source": [
    "columnas_originales=[\"A- DEUDA BRUTA ( I + II  + III)\",\n",
    "\"nan\",\n",
    "\"B- DEUDA BRUTA (EXCLUIDA LA ELEGIBLE PENDIENTE DE REESTRUCTURACIÓN) ( I + II )\",\n",
    "\"nan\",\n",
    "\"nan\",\n",
    "\"I- DEUDA EN SITUACIÓN DE PAGO NORMAL\",\n",
    "\"nan\",\n",
    "\"        MEDIANO Y LARGO PLAZO\",\n",
    "\"nan\",\n",
    "\"TÍTULOS PÚBLICOS1\",\n",
    "\"nan\",\n",
    "\"TP-Moneda nacional\",\n",
    "\"Deuda no ajustable por CER\",\n",
    "\"BONO CONSOLIDADO 2089\",\n",
    "\"BOCON\",\n",
    "\"BONAR\",\n",
    "\"BONTE\",\n",
    "\"BOGATO\",\n",
    "\"BOTAPO\",\n",
    "\"BONO PGN\",\n",
    "\"nan\",\n",
    "\"Deuda ajustable por CER\",\n",
    "\"BOCON\",\n",
    "\"BONCER\",\n",
    "\"BOGATO\",\n",
    "\"CUASIPAR/$+CER/3,31%/2045\",\n",
    "\"DISCOUNT/$+CER/5,83%/2033\",\n",
    "\"- Canje 2005\",\n",
    "\"- Canje 2010\",\n",
    "\"PAR/$+CER/T.FIJA/2038\",\n",
    "\"- Canje 2005\",\n",
    "\"- Canje 2010\",\n",
    "\"nan\",\n",
    "\" - Moneda extranjera \",\n",
    "\"Deuda en dólares estadounidenses\",\n",
    "\"LETRA BCRA FDA\",\n",
    "\"LETRA BCRA FOI\",\n",
    "\"LETRA BCRA\",\n",
    "\"BONAR\",\n",
    "\"BIRAD\",\n",
    "\"BONO R.A. U$S\",\n",
    "\"BONO GLOBAL U$S\",\n",
    "\"DISCOUNT/U$S/8,28%/2033\",\n",
    "\"- Canje 2005\",\n",
    "\"- Canje 2010\",\n",
    "\"PAR/U$S/T.FIJA/2038\",\n",
    "\"- Canje 2005\",\n",
    "\"- Canje 2010\",\n",
    "\"nan\",\n",
    "\"Deuda en euros\",\n",
    "\"BIRAE\",\n",
    "\"BONO GLOBAL EUR\",\n",
    "\"DISCOUNT/EUR/7,82%/2033\",\n",
    "\"- Canje 2005\",\n",
    "\"- Canje 2010\",\n",
    "\"PAR/EUR/T.FIJA/2038\",\n",
    "\"- Canje 2005\",\n",
    "\"- Canje 2010\",\n",
    "\"nan\",\n",
    "\"Deuda en yenes\",\n",
    "\"DISCOUNT/JPY/4,33%/2033\",\n",
    "\"- Canje 2005\",\n",
    "\"- Canje 2010\",\n",
    "\"PAR/JPY/T.FIJA/2038\",\n",
    "\"- Canje 2005\",\n",
    "\"- Canje 2010\",\n",
    "\"nan\",\n",
    "\"Deuda en Franco suizo\",\n",
    "\"BIRAF\",\n",
    "\"nan\",\n",
    "\" - Amparos y excepciones\",\n",
    "\"nan\",\n",
    "\"LETRAS DEL TESORO\",\n",
    "\" - Moneda nacional\",\n",
    "\"LETRA CMEA\",\n",
    "\"LETES $\",\n",
    "\"LECAP\",\n",
    "\"nan\",\n",
    "\" - Moneda extranjera \",\n",
    "\"LETES - U$S\",\n",
    "\"LETRA MENDOZA - U$S\",\n",
    "\"LETRAS EN GARANTÍA - U$S\",\n",
    "\"nan\",\n",
    "\"PRÉSTAMOS\",\n",
    "\"nan\",\n",
    "\"PRÉSTAMOS GARANTIZADOS\",\n",
    "\"nan\",\n",
    "\"ORGANISMOS INTERNACIONALES\",\n",
    "\"BCIE\",\n",
    "\"BIRF\",\n",
    "\"BID\",\n",
    "\"FONPLATA\",\n",
    "\"FIDA\",\n",
    "\"CAF\",\n",
    "\"OFID\",\n",
    "\"FMI\",\n",
    "\"BEI\",\n",
    "\"nan\",\n",
    "\"ORGANISMOS OFICIALES\",\n",
    "\"CLUB DE PARIS\",\n",
    "\"OTROS BILATERALES\",\n",
    "\"nan\",\n",
    "\"BANCA COMERCIAL\",\n",
    "\"nan\",\n",
    "\"PAGARÉS DEL TESORO\",\n",
    "\"PAGARÉ 2019 - $\",\n",
    "\"PAGARÉ 2021 - CAMMESA - U$S\",\n",
    "\"PAGARÉ 2038 - UCP\",\n",
    "\"nan\",\n",
    "\"AVALES\",\n",
    "\"nan\",\n",
    "\"ADELANTOS TRANSITORIOS BCRA - Extraordinarios\",\n",
    "\"nan\",\n",
    "\"        CORTO PLAZO (1)\",\n",
    "\"nan\",\n",
    "\"ADELANTOS TRANSITORIOS BCRA - Ordinarios\",\n",
    "\"nan\",\n",
    "\"BANCA COMERCIAL\",\n",
    "\"nan\",\n",
    "\"PAGARÉS DEL TESORO\",\n",
    "\"PAGARE CUT\",\n",
    "\"nan\",\n",
    "\"AVALES\",\n",
    "\"nan\",\n",
    "\"TÍTULOS PÚBLICOS2\",\n",
    "\"nan\",\n",
    "\"LETRAS DEL TESORO\",\n",
    "\" - Moneda nacional\",\n",
    "\"LETRA FFRH\",\n",
    "\"LETRA FFSIT\",\n",
    "\"LETRA SRT\",\n",
    "\"LETRA ANSES\",\n",
    "\"LETES - $\",\n",
    "\"LETRA FFDP\",\n",
    "\"LETRA FGS\",\n",
    "\"LETRA - $\",\n",
    "\"LECAP\",\n",
    "\"nan\",\n",
    "\" - Moneda extranjera \",\n",
    "\"LETRA FGS - U$S\"]"
   ]
  },
  {
   "cell_type": "code",
   "execution_count": null,
   "metadata": {},
   "outputs": [],
   "source": [
    "#TÍTULOS PÚBLICOS  =  Titpub1+titpub2\n",
    "#same for letras del tesoro\n",
    "nuevas_col={\"A- DEUDA BRUTA ( I + II  + III)\":'Total Deuda',\n",
    "\"nan\",\n",
    "\"B- DEUDA BRUTA (EXCLUIDA LA ELEGIBLE PENDIENTE DE REESTRUCTURACIÓN) ( I + II )\",\n",
    "\"nan\",\n",
    "\"nan\",\n",
    "\"I- DEUDA EN SITUACIÓN DE PAGO NORMAL\",\n",
    "\"nan\",\n",
    "\"        MEDIANO Y LARGO PLAZO\",\n",
    "\"nan\",\n",
    "\"TÍTULOS PÚBLICOS\",\n",
    "\"nan\",\n",
    "\" - Moneda nacional\",\n",
    "\"Deuda no ajustable por CER\",\n",
    "\"BONO CONSOLIDADO 2089\",\n",
    "\"BOCON\",\n",
    "\"BONAR\",\n",
    "\"BONTE\",\n",
    "\"BOGATO\",\n",
    "\"BOTAPO\",\n",
    "\"BONO PGN\",\n",
    "\"nan\",\n",
    "\"Deuda ajustable por CER\",\n",
    "\"BOCON\",\n",
    "\"BONCER\",\n",
    "\"BOGATO\",\n",
    "\"CUASIPAR/$+CER/3,31%/2045\",\n",
    "\"DISCOUNT/$+CER/5,83%/2033\",\n",
    "\"- Canje 2005\",\n",
    "\"- Canje 2010\",\n",
    "\"PAR/$+CER/T.FIJA/2038\",\n",
    "\"- Canje 2005\",\n",
    "\"- Canje 2010\",\n",
    "\"nan\",\n",
    "\" - Moneda extranjera \",\n",
    "\"Deuda en dólares estadounidenses\",\n",
    "\"LETRA BCRA FDA\",\n",
    "\"LETRA BCRA FOI\",\n",
    "\"LETRA BCRA\",\n",
    "\"BONAR\",\n",
    "\"BIRAD\",\n",
    "\"BONO R.A. U$S\",\n",
    "\"BONO GLOBAL U$S\",\n",
    "\"DISCOUNT/U$S/8,28%/2033\",\n",
    "\"- Canje 2005\",\n",
    "\"- Canje 2010\",\n",
    "\"PAR/U$S/T.FIJA/2038\",\n",
    "\"- Canje 2005\",\n",
    "\"- Canje 2010\",\n",
    "\"nan\",\n",
    "\"Deuda en euros\",\n",
    "\"BIRAE\",\n",
    "\"BONO GLOBAL EUR\",\n",
    "\"DISCOUNT/EUR/7,82%/2033\",\n",
    "\"- Canje 2005\",\n",
    "\"- Canje 2010\",\n",
    "\"PAR/EUR/T.FIJA/2038\",\n",
    "\"- Canje 2005\",\n",
    "\"- Canje 2010\",\n",
    "\"nan\",\n",
    "\"Deuda en yenes\",\n",
    "\"DISCOUNT/JPY/4,33%/2033\",\n",
    "\"- Canje 2005\",\n",
    "\"- Canje 2010\",\n",
    "\"PAR/JPY/T.FIJA/2038\",\n",
    "\"- Canje 2005\",\n",
    "\"- Canje 2010\",\n",
    "\"nan\",\n",
    "\"Deuda en Franco suizo\",\n",
    "\"BIRAF\",\n",
    "\"nan\",\n",
    "\" - Amparos y excepciones\",\n",
    "\"nan\",\n",
    "\"LETRAS DEL TESORO\",\n",
    "\" - Moneda nacional\",\n",
    "\"LETRA CMEA\",\n",
    "\"LETES $\",\n",
    "\"LECAP\",\n",
    "\"nan\",\n",
    "\" - Moneda extranjera \",\n",
    "\"LETES - U$S\",\n",
    "\"LETRA MENDOZA - U$S\",\n",
    "\"LETRAS EN GARANTÍA - U$S\",\n",
    "\"nan\",\n",
    "\"PRÉSTAMOS\",\n",
    "\"nan\",\n",
    "\"PRÉSTAMOS GARANTIZADOS\",\n",
    "\"nan\",\n",
    "\"ORGANISMOS INTERNACIONALES\",\n",
    "\"BCIE\",\n",
    "\"BIRF\",\n",
    "\"BID\",\n",
    "\"FONPLATA\",\n",
    "\"FIDA\",\n",
    "\"CAF\",\n",
    "\"OFID\",\n",
    "\"FMI\",\n",
    "\"BEI\",\n",
    "\"nan\",\n",
    "\"ORGANISMOS OFICIALES\",\n",
    "\"CLUB DE PARIS\",\n",
    "\"OTROS BILATERALES\",\n",
    "\"nan\",\n",
    "\"BANCA COMERCIAL\",\n",
    "\"nan\",\n",
    "\"PAGARÉS DEL TESORO\",\n",
    "\"PAGARÉ 2019 - $\",\n",
    "\"PAGARÉ 2021 - CAMMESA - U$S\",\n",
    "\"PAGARÉ 2038 - UCP\",\n",
    "\"nan\",\n",
    "\"AVALES\",\n",
    "\"nan\",\n",
    "\"ADELANTOS TRANSITORIOS BCRA - Extraordinarios\",\n",
    "\"nan\",\n",
    "\"        CORTO PLAZO (1)\",\n",
    "\"nan\",\n",
    "\"ADELANTOS TRANSITORIOS BCRA - Ordinarios\",\n",
    "\"nan\",\n",
    "\"BANCA COMERCIAL\",\n",
    "\"nan\",\n",
    "\"PAGARÉS DEL TESORO\",\n",
    "\"PAGARE CUT\",\n",
    "\"nan\",\n",
    "\"AVALES\",\n",
    "\"nan\",\n",
    "\"TÍTULOS PÚBLICOS\",\n",
    "\"nan\",\n",
    "\"LETRAS DEL TESORO\",\n",
    "\" - Moneda nacional\",\n",
    "\"LETRA FFRH\",\n",
    "\"LETRA FFSIT\",\n",
    "\"LETRA SRT\",\n",
    "\"LETRA ANSES\",\n",
    "\"LETES - $\",\n",
    "\"LETRA FFDP\",\n",
    "\"LETRA FGS\",\n",
    "\"LETRA - $\",\n",
    "\"LECAP\",\n",
    "\"nan\",\n",
    "\" - Moneda extranjera \",\n",
    "\"LETRA FGS - U$S\"}"
   ]
  },
  {
   "cell_type": "code",
   "execution_count": 10,
   "metadata": {},
   "outputs": [
    {
     "data": {
      "text/html": [
       "<div>\n",
       "<style scoped>\n",
       "    .dataframe tbody tr th:only-of-type {\n",
       "        vertical-align: middle;\n",
       "    }\n",
       "\n",
       "    .dataframe tbody tr th {\n",
       "        vertical-align: top;\n",
       "    }\n",
       "\n",
       "    .dataframe thead th {\n",
       "        text-align: right;\n",
       "    }\n",
       "</style>\n",
       "<table border=\"1\" class=\"dataframe\">\n",
       "  <thead>\n",
       "    <tr style=\"text-align: right;\">\n",
       "      <th></th>\n",
       "      <th>Expo Totales</th>\n",
       "      <th>PP</th>\n",
       "      <th>MOA</th>\n",
       "      <th>MOI</th>\n",
       "      <th>Combustibles y Energía</th>\n",
       "      <th>Impo Totales</th>\n",
       "      <th>Bienes de capital</th>\n",
       "      <th>Bienes intermedios</th>\n",
       "      <th>Combustibles y Lubricantes</th>\n",
       "      <th>Piezas y acces</th>\n",
       "      <th>Bienes de consumo</th>\n",
       "      <th>Vehículos</th>\n",
       "      <th>Resto</th>\n",
       "    </tr>\n",
       "    <tr>\n",
       "      <th>Unnamed: 0</th>\n",
       "      <th></th>\n",
       "      <th></th>\n",
       "      <th></th>\n",
       "      <th></th>\n",
       "      <th></th>\n",
       "      <th></th>\n",
       "      <th></th>\n",
       "      <th></th>\n",
       "      <th></th>\n",
       "      <th></th>\n",
       "      <th></th>\n",
       "      <th></th>\n",
       "      <th></th>\n",
       "    </tr>\n",
       "  </thead>\n",
       "  <tbody>\n",
       "    <tr>\n",
       "      <th>2005-01-01</th>\n",
       "      <td>2781.105834</td>\n",
       "      <td>508.069267</td>\n",
       "      <td>902.554747</td>\n",
       "      <td>828.721398</td>\n",
       "      <td>541.760422</td>\n",
       "      <td>1901.013368</td>\n",
       "      <td>414.775397</td>\n",
       "      <td>766.878877</td>\n",
       "      <td>86.204834</td>\n",
       "      <td>333.851497</td>\n",
       "      <td>215.259447</td>\n",
       "      <td>72.577251</td>\n",
       "      <td>11.466065</td>\n",
       "    </tr>\n",
       "    <tr>\n",
       "      <th>2005-02-01</th>\n",
       "      <td>2606.256268</td>\n",
       "      <td>500.579873</td>\n",
       "      <td>838.735013</td>\n",
       "      <td>831.014551</td>\n",
       "      <td>435.926831</td>\n",
       "      <td>1867.287144</td>\n",
       "      <td>395.336593</td>\n",
       "      <td>739.577823</td>\n",
       "      <td>86.010411</td>\n",
       "      <td>307.208628</td>\n",
       "      <td>216.621515</td>\n",
       "      <td>114.084934</td>\n",
       "      <td>8.447240</td>\n",
       "    </tr>\n",
       "    <tr>\n",
       "      <th>2005-03-01</th>\n",
       "      <td>3054.434593</td>\n",
       "      <td>656.222059</td>\n",
       "      <td>972.020431</td>\n",
       "      <td>916.255200</td>\n",
       "      <td>509.936903</td>\n",
       "      <td>2197.568086</td>\n",
       "      <td>469.991165</td>\n",
       "      <td>881.839474</td>\n",
       "      <td>79.084763</td>\n",
       "      <td>401.135034</td>\n",
       "      <td>233.058332</td>\n",
       "      <td>122.527357</td>\n",
       "      <td>9.931961</td>\n",
       "    </tr>\n",
       "    <tr>\n",
       "      <th>2005-04-01</th>\n",
       "      <td>3560.857241</td>\n",
       "      <td>939.068339</td>\n",
       "      <td>1039.671591</td>\n",
       "      <td>1008.039167</td>\n",
       "      <td>574.078144</td>\n",
       "      <td>2379.914676</td>\n",
       "      <td>517.107523</td>\n",
       "      <td>875.863612</td>\n",
       "      <td>184.347743</td>\n",
       "      <td>437.072297</td>\n",
       "      <td>243.402660</td>\n",
       "      <td>107.284846</td>\n",
       "      <td>14.835995</td>\n",
       "    </tr>\n",
       "    <tr>\n",
       "      <th>2005-05-01</th>\n",
       "      <td>3695.289604</td>\n",
       "      <td>1028.903986</td>\n",
       "      <td>1121.712697</td>\n",
       "      <td>997.304576</td>\n",
       "      <td>547.368345</td>\n",
       "      <td>2475.966974</td>\n",
       "      <td>504.224742</td>\n",
       "      <td>921.800853</td>\n",
       "      <td>192.446590</td>\n",
       "      <td>465.415820</td>\n",
       "      <td>247.432677</td>\n",
       "      <td>133.058200</td>\n",
       "      <td>11.588092</td>\n",
       "    </tr>\n",
       "    <tr>\n",
       "      <th>...</th>\n",
       "      <td>...</td>\n",
       "      <td>...</td>\n",
       "      <td>...</td>\n",
       "      <td>...</td>\n",
       "      <td>...</td>\n",
       "      <td>...</td>\n",
       "      <td>...</td>\n",
       "      <td>...</td>\n",
       "      <td>...</td>\n",
       "      <td>...</td>\n",
       "      <td>...</td>\n",
       "      <td>...</td>\n",
       "      <td>...</td>\n",
       "    </tr>\n",
       "    <tr>\n",
       "      <th>2023-08-01</th>\n",
       "      <td>5910.000000</td>\n",
       "      <td>1456.000000</td>\n",
       "      <td>2055.000000</td>\n",
       "      <td>1703.000000</td>\n",
       "      <td>697.000000</td>\n",
       "      <td>6885.000000</td>\n",
       "      <td>1166.000000</td>\n",
       "      <td>2671.000000</td>\n",
       "      <td>629.000000</td>\n",
       "      <td>1629.000000</td>\n",
       "      <td>727.000000</td>\n",
       "      <td>18.000000</td>\n",
       "      <td>45.000000</td>\n",
       "    </tr>\n",
       "    <tr>\n",
       "      <th>2023-09-01</th>\n",
       "      <td>5751.000000</td>\n",
       "      <td>1426.000000</td>\n",
       "      <td>1810.000000</td>\n",
       "      <td>1934.000000</td>\n",
       "      <td>581.000000</td>\n",
       "      <td>6525.000000</td>\n",
       "      <td>1101.000000</td>\n",
       "      <td>2276.000000</td>\n",
       "      <td>517.000000</td>\n",
       "      <td>1526.000000</td>\n",
       "      <td>682.000000</td>\n",
       "      <td>377.000000</td>\n",
       "      <td>45.000000</td>\n",
       "    </tr>\n",
       "    <tr>\n",
       "      <th>2023-10-01</th>\n",
       "      <td>5396.000000</td>\n",
       "      <td>1139.000000</td>\n",
       "      <td>1689.000000</td>\n",
       "      <td>1775.000000</td>\n",
       "      <td>794.000000</td>\n",
       "      <td>5839.000000</td>\n",
       "      <td>971.000000</td>\n",
       "      <td>2075.000000</td>\n",
       "      <td>504.000000</td>\n",
       "      <td>1361.000000</td>\n",
       "      <td>669.000000</td>\n",
       "      <td>216.000000</td>\n",
       "      <td>44.000000</td>\n",
       "    </tr>\n",
       "    <tr>\n",
       "      <th>2023-11-01</th>\n",
       "      <td>4923.000000</td>\n",
       "      <td>688.000000</td>\n",
       "      <td>1765.000000</td>\n",
       "      <td>1757.000000</td>\n",
       "      <td>713.000000</td>\n",
       "      <td>5482.000000</td>\n",
       "      <td>860.000000</td>\n",
       "      <td>2155.000000</td>\n",
       "      <td>394.000000</td>\n",
       "      <td>1313.000000</td>\n",
       "      <td>656.000000</td>\n",
       "      <td>61.000000</td>\n",
       "      <td>43.000000</td>\n",
       "    </tr>\n",
       "    <tr>\n",
       "      <th>2023-12-01</th>\n",
       "      <td>5273.000000</td>\n",
       "      <td>1023.000000</td>\n",
       "      <td>1778.000000</td>\n",
       "      <td>1754.000000</td>\n",
       "      <td>719.000000</td>\n",
       "      <td>4255.000000</td>\n",
       "      <td>590.000000</td>\n",
       "      <td>1787.000000</td>\n",
       "      <td>315.000000</td>\n",
       "      <td>903.000000</td>\n",
       "      <td>504.000000</td>\n",
       "      <td>119.000000</td>\n",
       "      <td>38.000000</td>\n",
       "    </tr>\n",
       "  </tbody>\n",
       "</table>\n",
       "<p>228 rows × 13 columns</p>\n",
       "</div>"
      ],
      "text/plain": [
       "            Expo Totales           PP          MOA          MOI  \\\n",
       "Unnamed: 0                                                        \n",
       "2005-01-01   2781.105834   508.069267   902.554747   828.721398   \n",
       "2005-02-01   2606.256268   500.579873   838.735013   831.014551   \n",
       "2005-03-01   3054.434593   656.222059   972.020431   916.255200   \n",
       "2005-04-01   3560.857241   939.068339  1039.671591  1008.039167   \n",
       "2005-05-01   3695.289604  1028.903986  1121.712697   997.304576   \n",
       "...                  ...          ...          ...          ...   \n",
       "2023-08-01   5910.000000  1456.000000  2055.000000  1703.000000   \n",
       "2023-09-01   5751.000000  1426.000000  1810.000000  1934.000000   \n",
       "2023-10-01   5396.000000  1139.000000  1689.000000  1775.000000   \n",
       "2023-11-01   4923.000000   688.000000  1765.000000  1757.000000   \n",
       "2023-12-01   5273.000000  1023.000000  1778.000000  1754.000000   \n",
       "\n",
       "            Combustibles y Energía  Impo Totales  Bienes de capital  \\\n",
       "Unnamed: 0                                                            \n",
       "2005-01-01              541.760422   1901.013368         414.775397   \n",
       "2005-02-01              435.926831   1867.287144         395.336593   \n",
       "2005-03-01              509.936903   2197.568086         469.991165   \n",
       "2005-04-01              574.078144   2379.914676         517.107523   \n",
       "2005-05-01              547.368345   2475.966974         504.224742   \n",
       "...                            ...           ...                ...   \n",
       "2023-08-01              697.000000   6885.000000        1166.000000   \n",
       "2023-09-01              581.000000   6525.000000        1101.000000   \n",
       "2023-10-01              794.000000   5839.000000         971.000000   \n",
       "2023-11-01              713.000000   5482.000000         860.000000   \n",
       "2023-12-01              719.000000   4255.000000         590.000000   \n",
       "\n",
       "            Bienes intermedios  Combustibles y Lubricantes  Piezas y acces  \\\n",
       "Unnamed: 0                                                                   \n",
       "2005-01-01          766.878877                   86.204834      333.851497   \n",
       "2005-02-01          739.577823                   86.010411      307.208628   \n",
       "2005-03-01          881.839474                   79.084763      401.135034   \n",
       "2005-04-01          875.863612                  184.347743      437.072297   \n",
       "2005-05-01          921.800853                  192.446590      465.415820   \n",
       "...                        ...                         ...             ...   \n",
       "2023-08-01         2671.000000                  629.000000     1629.000000   \n",
       "2023-09-01         2276.000000                  517.000000     1526.000000   \n",
       "2023-10-01         2075.000000                  504.000000     1361.000000   \n",
       "2023-11-01         2155.000000                  394.000000     1313.000000   \n",
       "2023-12-01         1787.000000                  315.000000      903.000000   \n",
       "\n",
       "            Bienes de consumo   Vehículos      Resto  \n",
       "Unnamed: 0                                            \n",
       "2005-01-01         215.259447   72.577251  11.466065  \n",
       "2005-02-01         216.621515  114.084934   8.447240  \n",
       "2005-03-01         233.058332  122.527357   9.931961  \n",
       "2005-04-01         243.402660  107.284846  14.835995  \n",
       "2005-05-01         247.432677  133.058200  11.588092  \n",
       "...                       ...         ...        ...  \n",
       "2023-08-01         727.000000   18.000000  45.000000  \n",
       "2023-09-01         682.000000  377.000000  45.000000  \n",
       "2023-10-01         669.000000  216.000000  44.000000  \n",
       "2023-11-01         656.000000   61.000000  43.000000  \n",
       "2023-12-01         504.000000  119.000000  38.000000  \n",
       "\n",
       "[228 rows x 13 columns]"
      ]
     },
     "execution_count": 10,
     "metadata": {},
     "output_type": "execute_result"
    }
   ],
   "source": [
    "import pandas as pd\n",
    "ica_his=pd.read_csv(\"His Data/his-ica.csv\",delimiter=\";\")\n",
    "ica_his['Unnamed: 0'] = pd.to_datetime(ica_his.iloc[:, 0].values, format='%Y-%m-%d')\n",
    "ica_his.set_index('Unnamed: 0', inplace=True)\n",
    "\n",
    "ica_his.iloc[156:]"
   ]
  },
  {
   "cell_type": "code",
   "execution_count": 11,
   "metadata": {},
   "outputs": [
    {
     "data": {
      "text/html": [
       "<div>\n",
       "<style scoped>\n",
       "    .dataframe tbody tr th:only-of-type {\n",
       "        vertical-align: middle;\n",
       "    }\n",
       "\n",
       "    .dataframe tbody tr th {\n",
       "        vertical-align: top;\n",
       "    }\n",
       "\n",
       "    .dataframe thead th {\n",
       "        text-align: right;\n",
       "    }\n",
       "</style>\n",
       "<table border=\"1\" class=\"dataframe\">\n",
       "  <thead>\n",
       "    <tr style=\"text-align: right;\">\n",
       "      <th></th>\n",
       "      <th>Expo Totales</th>\n",
       "      <th>PP</th>\n",
       "      <th>MOA</th>\n",
       "      <th>MOI</th>\n",
       "      <th>Combustibles y Energía</th>\n",
       "      <th>Impo Totales</th>\n",
       "      <th>Bienes de capital</th>\n",
       "      <th>Bienes intermedios</th>\n",
       "      <th>Combustibles y Lubricantes</th>\n",
       "      <th>Piezas y acces</th>\n",
       "      <th>Bienes de consumo</th>\n",
       "      <th>Vehículos</th>\n",
       "      <th>Resto</th>\n",
       "    </tr>\n",
       "    <tr>\n",
       "      <th>Unnamed: 0</th>\n",
       "      <th></th>\n",
       "      <th></th>\n",
       "      <th></th>\n",
       "      <th></th>\n",
       "      <th></th>\n",
       "      <th></th>\n",
       "      <th></th>\n",
       "      <th></th>\n",
       "      <th></th>\n",
       "      <th></th>\n",
       "      <th></th>\n",
       "      <th></th>\n",
       "      <th></th>\n",
       "    </tr>\n",
       "  </thead>\n",
       "  <tbody>\n",
       "    <tr>\n",
       "      <th>2005-03-31</th>\n",
       "      <td>8441.796695</td>\n",
       "      <td>1664.871199</td>\n",
       "      <td>2713.310191</td>\n",
       "      <td>2575.991149</td>\n",
       "      <td>1487.624156</td>\n",
       "      <td>5965.868598</td>\n",
       "      <td>1280.103155</td>\n",
       "      <td>2388.296174</td>\n",
       "      <td>251.300008</td>\n",
       "      <td>1042.195159</td>\n",
       "      <td>664.939294</td>\n",
       "      <td>309.189542</td>\n",
       "      <td>29.845266</td>\n",
       "    </tr>\n",
       "    <tr>\n",
       "      <th>2005-06-30</th>\n",
       "      <td>10706.340906</td>\n",
       "      <td>2757.561352</td>\n",
       "      <td>3293.672522</td>\n",
       "      <td>2934.291507</td>\n",
       "      <td>1720.815525</td>\n",
       "      <td>7579.497675</td>\n",
       "      <td>1756.814831</td>\n",
       "      <td>2709.555949</td>\n",
       "      <td>578.143318</td>\n",
       "      <td>1360.712233</td>\n",
       "      <td>745.787358</td>\n",
       "      <td>389.699943</td>\n",
       "      <td>38.784043</td>\n",
       "    </tr>\n",
       "    <tr>\n",
       "      <th>2005-09-30</th>\n",
       "      <td>10921.297084</td>\n",
       "      <td>2179.982873</td>\n",
       "      <td>3590.809719</td>\n",
       "      <td>3149.812656</td>\n",
       "      <td>2000.691836</td>\n",
       "      <td>7442.788245</td>\n",
       "      <td>1816.336977</td>\n",
       "      <td>2584.413816</td>\n",
       "      <td>392.238121</td>\n",
       "      <td>1300.820008</td>\n",
       "      <td>858.874044</td>\n",
       "      <td>457.903848</td>\n",
       "      <td>32.201431</td>\n",
       "    </tr>\n",
       "    <tr>\n",
       "      <th>2005-12-31</th>\n",
       "      <td>10317.332406</td>\n",
       "      <td>1508.209868</td>\n",
       "      <td>3543.490622</td>\n",
       "      <td>3324.707111</td>\n",
       "      <td>1940.924805</td>\n",
       "      <td>7698.738925</td>\n",
       "      <td>2082.918378</td>\n",
       "      <td>2591.121010</td>\n",
       "      <td>323.709471</td>\n",
       "      <td>1296.442176</td>\n",
       "      <td>929.168149</td>\n",
       "      <td>445.151131</td>\n",
       "      <td>30.228610</td>\n",
       "    </tr>\n",
       "    <tr>\n",
       "      <th>2006-03-31</th>\n",
       "      <td>9925.469867</td>\n",
       "      <td>1846.624191</td>\n",
       "      <td>3290.734753</td>\n",
       "      <td>2952.864796</td>\n",
       "      <td>1835.246127</td>\n",
       "      <td>7371.782444</td>\n",
       "      <td>1702.528376</td>\n",
       "      <td>2690.799580</td>\n",
       "      <td>324.163860</td>\n",
       "      <td>1307.607718</td>\n",
       "      <td>829.971676</td>\n",
       "      <td>487.415387</td>\n",
       "      <td>29.295847</td>\n",
       "    </tr>\n",
       "    <tr>\n",
       "      <th>...</th>\n",
       "      <td>...</td>\n",
       "      <td>...</td>\n",
       "      <td>...</td>\n",
       "      <td>...</td>\n",
       "      <td>...</td>\n",
       "      <td>...</td>\n",
       "      <td>...</td>\n",
       "      <td>...</td>\n",
       "      <td>...</td>\n",
       "      <td>...</td>\n",
       "      <td>...</td>\n",
       "      <td>...</td>\n",
       "      <td>...</td>\n",
       "    </tr>\n",
       "    <tr>\n",
       "      <th>2022-12-31</th>\n",
       "      <td>21203.000000</td>\n",
       "      <td>5096.000000</td>\n",
       "      <td>7701.000000</td>\n",
       "      <td>6043.000000</td>\n",
       "      <td>2362.000000</td>\n",
       "      <td>16858.000000</td>\n",
       "      <td>2940.000000</td>\n",
       "      <td>6266.000000</td>\n",
       "      <td>1511.000000</td>\n",
       "      <td>3546.000000</td>\n",
       "      <td>2014.000000</td>\n",
       "      <td>492.000000</td>\n",
       "      <td>89.000000</td>\n",
       "    </tr>\n",
       "    <tr>\n",
       "      <th>2023-03-31</th>\n",
       "      <td>15899.000000</td>\n",
       "      <td>3622.000000</td>\n",
       "      <td>5518.000000</td>\n",
       "      <td>4712.000000</td>\n",
       "      <td>2048.000000</td>\n",
       "      <td>17243.000000</td>\n",
       "      <td>2597.000000</td>\n",
       "      <td>6672.000000</td>\n",
       "      <td>1874.000000</td>\n",
       "      <td>3641.000000</td>\n",
       "      <td>1938.000000</td>\n",
       "      <td>414.000000</td>\n",
       "      <td>106.000000</td>\n",
       "    </tr>\n",
       "    <tr>\n",
       "      <th>2023-06-30</th>\n",
       "      <td>17575.000000</td>\n",
       "      <td>3598.000000</td>\n",
       "      <td>7093.000000</td>\n",
       "      <td>5132.000000</td>\n",
       "      <td>1750.000000</td>\n",
       "      <td>20725.000000</td>\n",
       "      <td>2891.000000</td>\n",
       "      <td>8200.000000</td>\n",
       "      <td>2714.000000</td>\n",
       "      <td>4201.000000</td>\n",
       "      <td>1995.000000</td>\n",
       "      <td>603.000000</td>\n",
       "      <td>124.000000</td>\n",
       "    </tr>\n",
       "    <tr>\n",
       "      <th>2023-09-30</th>\n",
       "      <td>17721.000000</td>\n",
       "      <td>4300.000000</td>\n",
       "      <td>6022.000000</td>\n",
       "      <td>5514.000000</td>\n",
       "      <td>1887.000000</td>\n",
       "      <td>20171.000000</td>\n",
       "      <td>3235.000000</td>\n",
       "      <td>7609.000000</td>\n",
       "      <td>2124.000000</td>\n",
       "      <td>4549.000000</td>\n",
       "      <td>2081.000000</td>\n",
       "      <td>438.000000</td>\n",
       "      <td>134.000000</td>\n",
       "    </tr>\n",
       "    <tr>\n",
       "      <th>2023-12-31</th>\n",
       "      <td>15592.000000</td>\n",
       "      <td>2850.000000</td>\n",
       "      <td>5232.000000</td>\n",
       "      <td>5286.000000</td>\n",
       "      <td>2226.000000</td>\n",
       "      <td>15576.000000</td>\n",
       "      <td>2421.000000</td>\n",
       "      <td>6017.000000</td>\n",
       "      <td>1213.000000</td>\n",
       "      <td>3577.000000</td>\n",
       "      <td>1829.000000</td>\n",
       "      <td>396.000000</td>\n",
       "      <td>125.000000</td>\n",
       "    </tr>\n",
       "  </tbody>\n",
       "</table>\n",
       "<p>76 rows × 13 columns</p>\n",
       "</div>"
      ],
      "text/plain": [
       "            Expo Totales           PP          MOA          MOI  \\\n",
       "Unnamed: 0                                                        \n",
       "2005-03-31   8441.796695  1664.871199  2713.310191  2575.991149   \n",
       "2005-06-30  10706.340906  2757.561352  3293.672522  2934.291507   \n",
       "2005-09-30  10921.297084  2179.982873  3590.809719  3149.812656   \n",
       "2005-12-31  10317.332406  1508.209868  3543.490622  3324.707111   \n",
       "2006-03-31   9925.469867  1846.624191  3290.734753  2952.864796   \n",
       "...                  ...          ...          ...          ...   \n",
       "2022-12-31  21203.000000  5096.000000  7701.000000  6043.000000   \n",
       "2023-03-31  15899.000000  3622.000000  5518.000000  4712.000000   \n",
       "2023-06-30  17575.000000  3598.000000  7093.000000  5132.000000   \n",
       "2023-09-30  17721.000000  4300.000000  6022.000000  5514.000000   \n",
       "2023-12-31  15592.000000  2850.000000  5232.000000  5286.000000   \n",
       "\n",
       "            Combustibles y Energía  Impo Totales  Bienes de capital  \\\n",
       "Unnamed: 0                                                            \n",
       "2005-03-31             1487.624156   5965.868598        1280.103155   \n",
       "2005-06-30             1720.815525   7579.497675        1756.814831   \n",
       "2005-09-30             2000.691836   7442.788245        1816.336977   \n",
       "2005-12-31             1940.924805   7698.738925        2082.918378   \n",
       "2006-03-31             1835.246127   7371.782444        1702.528376   \n",
       "...                            ...           ...                ...   \n",
       "2022-12-31             2362.000000  16858.000000        2940.000000   \n",
       "2023-03-31             2048.000000  17243.000000        2597.000000   \n",
       "2023-06-30             1750.000000  20725.000000        2891.000000   \n",
       "2023-09-30             1887.000000  20171.000000        3235.000000   \n",
       "2023-12-31             2226.000000  15576.000000        2421.000000   \n",
       "\n",
       "            Bienes intermedios  Combustibles y Lubricantes  Piezas y acces  \\\n",
       "Unnamed: 0                                                                   \n",
       "2005-03-31         2388.296174                  251.300008     1042.195159   \n",
       "2005-06-30         2709.555949                  578.143318     1360.712233   \n",
       "2005-09-30         2584.413816                  392.238121     1300.820008   \n",
       "2005-12-31         2591.121010                  323.709471     1296.442176   \n",
       "2006-03-31         2690.799580                  324.163860     1307.607718   \n",
       "...                        ...                         ...             ...   \n",
       "2022-12-31         6266.000000                 1511.000000     3546.000000   \n",
       "2023-03-31         6672.000000                 1874.000000     3641.000000   \n",
       "2023-06-30         8200.000000                 2714.000000     4201.000000   \n",
       "2023-09-30         7609.000000                 2124.000000     4549.000000   \n",
       "2023-12-31         6017.000000                 1213.000000     3577.000000   \n",
       "\n",
       "            Bienes de consumo   Vehículos       Resto  \n",
       "Unnamed: 0                                             \n",
       "2005-03-31         664.939294  309.189542   29.845266  \n",
       "2005-06-30         745.787358  389.699943   38.784043  \n",
       "2005-09-30         858.874044  457.903848   32.201431  \n",
       "2005-12-31         929.168149  445.151131   30.228610  \n",
       "2006-03-31         829.971676  487.415387   29.295847  \n",
       "...                       ...         ...         ...  \n",
       "2022-12-31        2014.000000  492.000000   89.000000  \n",
       "2023-03-31        1938.000000  414.000000  106.000000  \n",
       "2023-06-30        1995.000000  603.000000  124.000000  \n",
       "2023-09-30        2081.000000  438.000000  134.000000  \n",
       "2023-12-31        1829.000000  396.000000  125.000000  \n",
       "\n",
       "[76 rows x 13 columns]"
      ]
     },
     "execution_count": 11,
     "metadata": {},
     "output_type": "execute_result"
    }
   ],
   "source": [
    "ica_his.iloc[156:].resample('Q').sum()"
   ]
  },
  {
   "cell_type": "code",
   "execution_count": null,
   "metadata": {},
   "outputs": [],
   "source": []
  }
 ],
 "metadata": {
  "kernelspec": {
   "display_name": "Python 3",
   "language": "python",
   "name": "python3"
  },
  "language_info": {
   "codemirror_mode": {
    "name": "ipython",
    "version": 3
   },
   "file_extension": ".py",
   "mimetype": "text/x-python",
   "name": "python",
   "nbconvert_exporter": "python",
   "pygments_lexer": "ipython3",
   "version": "3.11.2"
  }
 },
 "nbformat": 4,
 "nbformat_minor": 2
}
